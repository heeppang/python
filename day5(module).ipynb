{
 "cells": [
  {
   "cell_type": "markdown",
   "id": "12f91efa-71ce-46e1-9353-55401abe15c0",
   "metadata": {},
   "source": [
    "# module"
   ]
  },
  {
   "cell_type": "code",
   "execution_count": 20,
   "id": "4c86dcc5-1c5e-4d22-a4d9-9b2f5c557e57",
   "metadata": {},
   "outputs": [
    {
     "name": "stdout",
     "output_type": "stream",
     "text": [
      "1.4142135623730951\n"
     ]
    },
    {
     "data": {
      "text/plain": [
       "1.5707963267948966"
      ]
     },
     "execution_count": 20,
     "metadata": {},
     "output_type": "execute_result"
    }
   ],
   "source": [
    "import math\n",
    "\n",
    "math.sqrt(2)\n",
    "print(math.sqrt(2))\n",
    "\n",
    "dir(math)  #math 안에 어떤 함수가 있는지 보는 방법\n",
    "\n",
    "math.factorial(2)\n",
    "\n",
    "math.asin(1)"
   ]
  },
  {
   "cell_type": "code",
   "execution_count": 80,
   "id": "0b301b96-f368-4d03-a0eb-0d157096e91a",
   "metadata": {},
   "outputs": [
    {
     "name": "stdout",
     "output_type": "stream",
     "text": [
      "2022-01-03 15:50:33.254306\n",
      "2022\n",
      "오늘은 1월이다\n",
      "오늘은 3일이다\n",
      "지금은 15시 50분 33초 \n",
      "today is Monday\n",
      "2022 / 01 / 03\n",
      "01/03/22\n",
      "<class 'datetime.datetime'>\n",
      "2022-01-30 00:00:00\n"
     ]
    }
   ],
   "source": [
    "# import datetime\n",
    "# x = datetime.datetime.now()\n",
    "\n",
    "from datetime import datetime    #datetime module 에서 datetime 만 쓰겠다는 선언\n",
    "x = datetime.now()\n",
    "\n",
    "\n",
    "print(x)\n",
    "print(x.year)\n",
    "print('오늘은 %d월이다' %x.month)\n",
    "print('오늘은 %d일이다' %x.day)\n",
    "print('지금은 %d시 %d분 %d초 ' %(x.hour, x.minute , x.second))\n",
    "print('today is %s' %x.strftime('%A'))  #요일을 구하는 법\n",
    "# print('%d/%d/%d' %(x.year, x.month, x.day))\n",
    "print(x.strftime('%Y'),'/',x.strftime('%m'),'/',x.strftime('%d'))\n",
    "print(x.strftime('%x'))\n",
    "# print('%d/%d/%d' %(x.strftime('%Y'),x.strftime('%m'),x.strftime('%Y'))\n",
    "\n",
    "x.strftime('%Y/%m/%d') #날짜 타입을 포맷에 맞게\n",
    "y = datetime.strptime('2022-01-30', '%Y-%m-%d') #문자열 타입을 포맷에 맞게 \n",
    "#strp 임 주의 !!\n",
    "\n",
    "print(type(y))\n",
    "print(y)"
   ]
  },
  {
   "cell_type": "code",
   "execution_count": 81,
   "id": "a21d8ff4-f5fc-4e52-bbf6-200db972f08f",
   "metadata": {},
   "outputs": [
    {
     "name": "stdout",
     "output_type": "stream",
     "text": [
      "Windows\n"
     ]
    }
   ],
   "source": [
    "import platform\n",
    "\n",
    "x = platform.system()  # os체제 확인하는 법\n",
    "\n",
    "print(x)\n"
   ]
  },
  {
   "cell_type": "markdown",
   "id": "8774226d-2e80-4674-bbdb-3d2af03f2c4f",
   "metadata": {},
   "source": [
    "# Random Module"
   ]
  },
  {
   "cell_type": "code",
   "execution_count": 112,
   "id": "a984bd8a-7d5b-4f20-a1ee-ace5ca3dc14b",
   "metadata": {},
   "outputs": [
    {
     "name": "stdout",
     "output_type": "stream",
     "text": [
      "41635770\n"
     ]
    }
   ],
   "source": [
    "import random\n",
    "\n",
    "num = random.randint(10000000, 90000000)\n",
    "\n",
    "print(num)"
   ]
  },
  {
   "cell_type": "code",
   "execution_count": 107,
   "id": "d3193392-8b3b-496c-b287-c605d82eb599",
   "metadata": {},
   "outputs": [
    {
     "name": "stdout",
     "output_type": "stream",
     "text": [
      "0.39375542187359447\n"
     ]
    }
   ],
   "source": [
    "import random\n",
    "\n",
    "num = random.random() \n",
    "\n",
    "print(num)"
   ]
  },
  {
   "cell_type": "code",
   "execution_count": 108,
   "id": "f8a08f58-505e-4354-90fa-39e134ce3b52",
   "metadata": {},
   "outputs": [
    {
     "name": "stdout",
     "output_type": "stream",
     "text": [
      "17\n"
     ]
    }
   ],
   "source": [
    "import random\n",
    "\n",
    "num = random.randrange(1,50,2)\n",
    "\n",
    "print(num)"
   ]
  },
  {
   "cell_type": "code",
   "execution_count": null,
   "id": "cd699962-d790-4aa4-bc56-5dbf583c6e29",
   "metadata": {},
   "outputs": [],
   "source": []
  },
  {
   "cell_type": "code",
   "execution_count": null,
   "id": "a0c95451-453d-4f55-ae0b-56c3a84fc065",
   "metadata": {},
   "outputs": [],
   "source": []
  }
 ],
 "metadata": {
  "kernelspec": {
   "display_name": "Python 3 (ipykernel)",
   "language": "python",
   "name": "python3"
  },
  "language_info": {
   "codemirror_mode": {
    "name": "ipython",
    "version": 3
   },
   "file_extension": ".py",
   "mimetype": "text/x-python",
   "name": "python",
   "nbconvert_exporter": "python",
   "pygments_lexer": "ipython3",
   "version": "3.9.7"
  }
 },
 "nbformat": 4,
 "nbformat_minor": 5
}
