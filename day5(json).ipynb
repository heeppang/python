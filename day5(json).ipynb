{
 "cells": [
  {
   "cell_type": "markdown",
   "id": "7825f30f-fdaf-4e0d-a64c-75c8d7c9679c",
   "metadata": {},
   "source": [
    "# JSON"
   ]
  },
  {
   "cell_type": "code",
   "execution_count": 38,
   "id": "8255e65f-4047-4032-b861-c222761cd0d4",
   "metadata": {},
   "outputs": [
    {
     "name": "stdout",
     "output_type": "stream",
     "text": [
      "<class 'list'> [{'name': 'John', 'age': 30, 'city': 'New York'}, {'name': 'Joseph', 'age': 19, 'city': 'New York'}, {'name': 'James', 'age': 17, 'city': 'New York'}]\n",
      "<class 'dict'>\n",
      "<class 'dict'>\n",
      "<class 'dict'>\n",
      "20살 보다 나이가 적은 사람의 이름은 John 입니다.\n",
      "20살 보다 나이가 적은 사람의 나이는 19 입니다.\n",
      "20살 보다 나이가 적은 사람의 나이는 17 입니다.\n"
     ]
    }
   ],
   "source": [
    "import json\n",
    "\n",
    "#key value 값으로 묶여있다\n",
    "\n",
    "json_string =  ''' [\n",
    "                    { \"name\" : \"John\",  \n",
    "                    \"age\" : 30, \n",
    "                    \"city\" : \"New York\" },\n",
    "                    { \"name\" : \"Joseph\",  \n",
    "                    \"age\" : 19, \n",
    "                    \"city\" : \"New York\" },\n",
    "                    { \"name\" : \"James\",  \n",
    "                    \"age\" : 17, \n",
    "                    \"city\" : \"New York\" }\n",
    "                    ] '''\n",
    "        \n",
    "# json_string['age'] string 타입이므로 age 소환 불가\n",
    "        \n",
    "python_list = json.loads(json_string)   #json 문자열을 python dict or list 형태로 만드는 함수\n",
    "\n",
    "# python_dict.keys()\n",
    "\n",
    "print(type(python_list), python_list)\n",
    "# print(python_list['age'])\n",
    "\n",
    "for n in python_list :\n",
    "    print(type(n))  #python_list 내부 구성요소는 dictionary 인 것을 알 수 있다\n",
    "\n",
    "for python_dict in python_list :\n",
    "    if python_dict[\"age\"] > 20:\n",
    "        print('20살 보다 나이가 적은 사람의 이름은',python_dict[\"name\"],'입니다.')\n",
    "    \n",
    "    else :\n",
    "        print('20살 보다 나이가 적은 사람의 나이는',python_dict[\"age\"],'입니다.' )\n",
    "        \n",
    "        \n",
    "        \n",
    "\n",
    "\n"
   ]
  },
  {
   "cell_type": "code",
   "execution_count": 35,
   "id": "1d103db8-7075-4cfc-9c39-7c3fd5f4dd23",
   "metadata": {},
   "outputs": [
    {
     "name": "stdout",
     "output_type": "stream",
     "text": [
      "[{\"name\": \"John\", \"age\": 30, \"city\": \"New York\"}, {\"name\": \"Joseph\", \"age\": 19, \"city\": \"New York\"}, {\"name\": \"James\", \"age\": 17, \"city\": \"New York\"}] <class 'str'>\n"
     ]
    }
   ],
   "source": [
    "python_list =      [\n",
    "                    { \"name\" : \"John\",  \n",
    "                    \"age\" : 30, \n",
    "                    \"city\" : \"New York\" },\n",
    "                    { \"name\" : \"Joseph\",  \n",
    "                    \"age\" : 19, \n",
    "                    \"city\" : \"New York\" },\n",
    "                    { \"name\" : \"James\",  \n",
    "                    \"age\" : 17, \n",
    "                    \"city\" : \"New York\" }\n",
    "                    ]\n",
    "\n",
    "\n",
    "\n",
    "json_string = json.dumps(python_list)   \n",
    "\n",
    "#python dict를 json 문자열로 변환\n",
    "\n",
    "\n",
    "\n",
    "print(json_string, type(json_string))\n",
    "    \n",
    "    \n",
    "    \n",
    "    \n",
    "    \n",
    "    "
   ]
  },
  {
   "cell_type": "code",
   "execution_count": null,
   "id": "7fb1bc9b-4361-48e1-9e1c-4873320e4401",
   "metadata": {},
   "outputs": [],
   "source": []
  },
  {
   "cell_type": "code",
   "execution_count": null,
   "id": "7f55ae8f-d319-4775-b9d2-88f49332abd5",
   "metadata": {},
   "outputs": [],
   "source": []
  }
 ],
 "metadata": {
  "kernelspec": {
   "display_name": "Python 3 (ipykernel)",
   "language": "python",
   "name": "python3"
  },
  "language_info": {
   "codemirror_mode": {
    "name": "ipython",
    "version": 3
   },
   "file_extension": ".py",
   "mimetype": "text/x-python",
   "name": "python",
   "nbconvert_exporter": "python",
   "pygments_lexer": "ipython3",
   "version": "3.9.7"
  }
 },
 "nbformat": 4,
 "nbformat_minor": 5
}
