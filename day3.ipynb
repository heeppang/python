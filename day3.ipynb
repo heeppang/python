{
 "cells": [
  {
   "cell_type": "code",
   "execution_count": 3,
   "id": "3f08c229-ec70-4d66-8eca-cbd80c04b299",
   "metadata": {},
   "outputs": [
    {
     "name": "stdout",
     "output_type": "stream",
     "text": [
      "t\n",
      "h\n",
      "u\n",
      "d\n"
     ]
    }
   ],
   "source": [
    "word = 'thud'\n",
    "for letter in word :\n",
    "    print(letter)"
   ]
  },
  {
   "cell_type": "code",
   "execution_count": 4,
   "id": "1cdad2e0-d901-4990-8e12-fb479fd1c88a",
   "metadata": {},
   "outputs": [
    {
     "name": "stdin",
     "output_type": "stream",
     "text": [
      " 5\n"
     ]
    },
    {
     "name": "stdout",
     "output_type": "stream",
     "text": [
      "9\n"
     ]
    }
   ],
   "source": [
    "list = [4,5,6,7,8,9,10]\n",
    "\n",
    "a = int(input())\n",
    "\n",
    "print(list[a])"
   ]
  },
  {
   "cell_type": "code",
   "execution_count": 13,
   "id": "5a69b5c0-3fb3-49ec-994e-f9956ce20d00",
   "metadata": {},
   "outputs": [
    {
     "name": "stdout",
     "output_type": "stream",
     "text": [
      "0\n",
      "1\n",
      "2\n",
      "3\n",
      "4\n",
      "5\n"
     ]
    }
   ],
   "source": [
    "for x in range(6) :\n",
    "     print(x)\n",
    "     x += 1"
   ]
  },
  {
   "cell_type": "code",
   "execution_count": 25,
   "id": "260151df-0263-4eea-8866-558067694f9b",
   "metadata": {},
   "outputs": [
    {
     "name": "stdout",
     "output_type": "stream",
     "text": [
      "8\n",
      "10\n",
      "12\n",
      "14\n",
      "16\n"
     ]
    }
   ],
   "source": [
    "# for i in range(1,20,3) :\n",
    "#     print(i)\n",
    "\n",
    "for k in range(4,9) :\n",
    "    k *= 2\n",
    "    print(k)\n",
    "    "
   ]
  },
  {
   "cell_type": "code",
   "execution_count": null,
   "id": "8b37b9b8-325c-45ca-bad6-625b85829672",
   "metadata": {},
   "outputs": [],
   "source": [
    "word = 'thud'\n",
    "\n",
    "for letter in word :\n",
    "    if lotter == "
   ]
  },
  {
   "cell_type": "code",
   "execution_count": 83,
   "id": "af083bab-d238-41bf-ad2d-9ecbbb0e42a1",
   "metadata": {},
   "outputs": [
    {
     "name": "stdout",
     "output_type": "stream",
     "text": [
      "['딸기', '포도', '바나나'] <class 'list'>\n",
      "['현대', '기아'] <class 'list'>\n",
      "['딸기', '포도', '바나나', '사과', '딸기'] <class 'list'>\n",
      "['현대', '기아', '르노', '타요버스'] <class 'list'>\n",
      "['orange', '딸기', '포도', '바나나', '사과', '딸기']\n",
      "['현대', '기아', '르노', 'pord', '타요버스']\n",
      "6\n",
      "5\n",
      "['orange', '딸기', '포도', '바나나']\n",
      "['orange', '딸기', '포도', '사과', '딸기']\n",
      "['orange', '딸기', '사과', '딸기']\n",
      "['orange', '딸기', '딸기', '사과']\n",
      "['사과', '딸기', '딸기', 'orange']\n",
      "딸기\n",
      "['사과', '딸기', 'orange']\n",
      "['orange', '딸기', '사과']\n",
      "<class 'list'>\n"
     ]
    }
   ],
   "source": [
    "my_fruits = ['딸기', '포도', '바나나']\n",
    "my_car = ['현대', '기아']\n",
    "\n",
    "print(my_fruits, type(my_fruits))\n",
    "print(my_car , type(my_car))\n",
    "\n",
    "my_fruits.append('사과') \n",
    "my_fruits.append('딸기')  # append 는 무조건 뒤에 붙음. 중복값이 허용됨을 알 수 있다\n",
    "print(my_fruits, type(my_fruits))\n",
    "\n",
    "my_car.append('르노')\n",
    "my_car.append('타요버스')\n",
    "print(my_car, type(my_car))\n",
    "\n",
    "my_fruits.insert(0, 'orange') # insert는 index 정보를 추가해준다\n",
    "print(my_fruits)\n",
    "my_car.insert(3, 'pord')\n",
    "print(my_car)\n",
    "\n",
    "print(len(my_fruits))\n",
    "print(len(my_car))\n",
    "\n",
    "print(my_fruits[:4])\n",
    "\n",
    "my_fruits.remove(my_fruits[3])\n",
    "print(my_fruits)\n",
    "\n",
    "my_fruits.remove('포도')\n",
    "print(my_fruits)\n",
    "\n",
    "# my_fruits. 치고 tab 을 누르면 list 에 적용 가능한 함수가 뜬다\n",
    "# my_fruits.insert 등을 치고 shift+tab 을 누르면 함수에 대한 설명이 나온다\n",
    "\n",
    "my_fruits.sort() # 오름차순 정렬\n",
    "print(my_fruits)\n",
    "\n",
    "my_fruits.sort(reverse=True) #내림차순 정렬\n",
    "\n",
    "print(my_fruits)\n",
    "a = my_fruits.pop(-2) #항목을 얻은 후 삭제하는 함수임\n",
    "print(a)\n",
    "print(my_fruits)\n",
    "\n",
    "my_fruits.reverse()\n",
    "print(my_fruits)\n",
    "\n",
    "t = type(my_fruits)\n",
    "print(t)\n"
   ]
  },
  {
   "cell_type": "code",
   "execution_count": 103,
   "id": "90a910c0-9786-4df9-8566-5bcd2e10952b",
   "metadata": {},
   "outputs": [
    {
     "name": "stdout",
     "output_type": "stream",
     "text": [
      "나는 혼자 여행을 간다\n",
      "짐을 뭐를 챙길지 고민이다\n",
      " 6 개만큼만 챙겨보자\n",
      "\n"
     ]
    },
    {
     "name": "stdin",
     "output_type": "stream",
     "text": [
      " d\n",
      " d\n",
      " d\n",
      " d\n",
      " d\n",
      " d\n"
     ]
    },
    {
     "name": "stdout",
     "output_type": "stream",
     "text": [
      "['d', 'd', 'd', 'd', 'd', 'd']\n",
      "앗 그런데\n"
     ]
    },
    {
     "name": "stdin",
     "output_type": "stream",
     "text": [
      " 1\n"
     ]
    },
    {
     "name": "stdout",
     "output_type": "stream",
     "text": [
      "가방에 1번째로 넣었던 게 뭐더라?\n",
      "\n",
      "아  d 였구나\n",
      "\n",
      "뭔가 까먹은 거 같은데\n"
     ]
    },
    {
     "name": "stdin",
     "output_type": "stream",
     "text": [
      " 이거\n"
     ]
    },
    {
     "name": "stdout",
     "output_type": "stream",
     "text": [
      "헉 큰일날 뻔 했네. 이거 를 빼먹었구나\n",
      "\n",
      "이거 도 집어넣어야겠다.  d 자리에 넣어야지\n",
      "\n",
      "['d', '이거', 'd', 'd', 'd', 'd', 'd']\n",
      "\n",
      "그럼 총 짐을 7개 쌌네\n"
     ]
    }
   ],
   "source": [
    "'''\n",
    "혼자놀기\n",
    "'''\n",
    "\n",
    "print('나는 혼자 여행을 간다\\n짐을 뭐를 챙길지 고민이다\\n',len(pac),'개만큼만 챙겨보자')\n",
    "print()\n",
    "\n",
    "\n",
    "o = input()\n",
    "p = input()\n",
    "q = input()\n",
    "r = input()\n",
    "s = input()\n",
    "t = input()\n",
    "\n",
    "pac = [o, p, q, r, s, t]\n",
    "print(pac)\n",
    "\n",
    "\n",
    "print('앗 그런데') ; \n",
    "c = int(input())\n",
    "print('가방에 %d번째로 넣었던 게 뭐더라?' %(c)); print()\n",
    "\n",
    "\n",
    "print('아 ', pac[c], '였구나\\n')\n",
    "\n",
    "\n",
    "print('뭔가 까먹은 거 같은데')\n",
    "b = input()\n",
    "\n",
    "print('헉 큰일날 뻔 했네.',b,'를 빼먹었구나\\n')\n",
    "\n",
    "\n",
    "\n",
    "print(b,'도 집어넣어야겠다. ',pac[c], '자리에 넣어야지\\n')\n",
    "\n",
    "pac.insert(a, b)\n",
    "\n",
    "print(pac) ; print()\n",
    "\n",
    "print('그럼 총 짐을 %d개 쌌네' %(len(pac)))\n",
    "\n",
    "\n"
   ]
  },
  {
   "cell_type": "code",
   "execution_count": 2,
   "id": "77920208-8a35-4de4-8c1c-949dae23f87f",
   "metadata": {},
   "outputs": [
    {
     "name": "stdout",
     "output_type": "stream",
     "text": [
      "() <class 'tuple'>\n",
      "('banana', 'grape', 'strawberry', 'apple') <class 'tuple'>\n",
      "banana\n",
      "<class 'list'>\n"
     ]
    }
   ],
   "source": [
    "my_car = ()\n",
    "my_fruits= ('banana', 'grape', 'strawberry', 'apple') #tuple 은 list처럼 수정불가\n",
    "\n",
    "print(my_car, type(my_car))\n",
    "print(my_fruits, type(my_fruits))\n",
    "\n",
    "print(my_fruits[0])\n",
    "\n",
    "my_fruits = list()\n",
    "print(type(my_fruits))\n",
    "\n",
    "# my_fruits_list.append('banana')\n",
    "\n",
    "# print(my_fruits_list)\n",
    "\n",
    "\n",
    "\n",
    "\n"
   ]
  },
  {
   "cell_type": "code",
   "execution_count": 124,
   "id": "32c12e36-ff72-4ee9-b7f3-7e2cfe9145ea",
   "metadata": {
    "collapsed": true,
    "jupyter": {
     "outputs_hidden": true
    },
    "tags": []
   },
   "outputs": [
    {
     "name": "stdout",
     "output_type": "stream",
     "text": [
      "{'포드', 'bmw', 'benz'} <class 'dict'> <class 'set'>\n"
     ]
    },
    {
     "ename": "TypeError",
     "evalue": "'set' object is not subscriptable",
     "output_type": "error",
     "traceback": [
      "\u001b[1;31m---------------------------------------------------------------------------\u001b[0m",
      "\u001b[1;31mTypeError\u001b[0m                                 Traceback (most recent call last)",
      "\u001b[1;32m~\\AppData\\Local\\Temp/ipykernel_2236/2127722516.py\u001b[0m in \u001b[0;36m<module>\u001b[1;34m\u001b[0m\n\u001b[0;32m      8\u001b[0m \u001b[1;33m\u001b[0m\u001b[0m\n\u001b[0;32m      9\u001b[0m \u001b[0mprint\u001b[0m\u001b[1;33m(\u001b[0m\u001b[0mmy_car\u001b[0m\u001b[1;33m,\u001b[0m \u001b[0mtype\u001b[0m\u001b[1;33m(\u001b[0m\u001b[0mmy_fruits\u001b[0m\u001b[1;33m)\u001b[0m\u001b[1;33m,\u001b[0m \u001b[0mtype\u001b[0m\u001b[1;33m(\u001b[0m\u001b[0mmy_car\u001b[0m\u001b[1;33m)\u001b[0m\u001b[1;33m)\u001b[0m\u001b[1;33m\u001b[0m\u001b[1;33m\u001b[0m\u001b[0m\n\u001b[1;32m---> 10\u001b[1;33m \u001b[0mprint\u001b[0m\u001b[1;33m(\u001b[0m\u001b[0mmy_car\u001b[0m\u001b[1;33m[\u001b[0m\u001b[1;36m0\u001b[0m\u001b[1;33m]\u001b[0m\u001b[1;33m)\u001b[0m\u001b[1;33m\u001b[0m\u001b[1;33m\u001b[0m\u001b[0m\n\u001b[0m",
      "\u001b[1;31mTypeError\u001b[0m: 'set' object is not subscriptable"
     ]
    }
   ],
   "source": [
    "my_fruits = {}  #dictionary\n",
    "my_car = set()\n",
    "\n",
    "my_car.add('bmw')  #중복값이 입력 안된다\n",
    "my_car.add('bmw')\n",
    "my_car.add('포드')\n",
    "my_car.add('benz')\n",
    "\n",
    "print(my_car, type(my_fruits), type(my_car))\n",
    "# print(my_car[0]) 순서가 뒤죽박죽이므로 index 접근불가\n",
    "\n"
   ]
  },
  {
   "cell_type": "code",
   "execution_count": 127,
   "id": "a5f8d293-8bbb-4165-a05f-fcea77fbceeb",
   "metadata": {},
   "outputs": [
    {
     "name": "stdout",
     "output_type": "stream",
     "text": [
      "{'grape', 'cherry', 'apple'}\n"
     ]
    }
   ],
   "source": [
    "thisset = {'apple', 'banana', 'grape', 'cherry'}\n",
    "\n",
    "# thisset.remove('banana')\n",
    "\n",
    "thisset.discard('banana') # discard = remove\n",
    "\n",
    "print(thisset)"
   ]
  },
  {
   "cell_type": "code",
   "execution_count": 3,
   "id": "84818c72-8d86-4063-a0ef-47487a3557d0",
   "metadata": {
    "tags": []
   },
   "outputs": [
    {
     "name": "stdout",
     "output_type": "stream",
     "text": [
      "5명의 점수를 입력해주세요\n",
      "0 번째 사람의 점수:\n",
      "1 번째 사람의 점수:\n",
      "2 번째 사람의 점수:\n",
      "3 번째 사람의 점수:\n",
      "4 번째 사람의 점수:\n",
      "[]\n",
      "\n",
      "점수의 총합은 0점이다.\n"
     ]
    },
    {
     "ename": "NameError",
     "evalue": "name 'avg' is not defined",
     "output_type": "error",
     "traceback": [
      "\u001b[1;31m---------------------------------------------------------------------------\u001b[0m",
      "\u001b[1;31mNameError\u001b[0m                                 Traceback (most recent call last)",
      "\u001b[1;32m~\\AppData\\Local\\Temp/ipykernel_11392/1453334864.py\u001b[0m in \u001b[0;36m<module>\u001b[1;34m\u001b[0m\n\u001b[0;32m     40\u001b[0m \u001b[1;31m#print(sum)\u001b[0m\u001b[1;33m\u001b[0m\u001b[1;33m\u001b[0m\u001b[0m\n\u001b[0;32m     41\u001b[0m \u001b[0mprint\u001b[0m\u001b[1;33m(\u001b[0m\u001b[1;34m'점수의 총합은 %d점이다.'\u001b[0m \u001b[1;33m%\u001b[0m\u001b[1;33m(\u001b[0m\u001b[0msum\u001b[0m\u001b[1;33m)\u001b[0m\u001b[1;33m)\u001b[0m\u001b[1;33m\u001b[0m\u001b[1;33m\u001b[0m\u001b[0m\n\u001b[1;32m---> 42\u001b[1;33m \u001b[0mprint\u001b[0m\u001b[1;33m(\u001b[0m\u001b[1;34m'점수의 평균은 %d점이다.'\u001b[0m \u001b[1;33m%\u001b[0m\u001b[1;33m(\u001b[0m\u001b[0mavg\u001b[0m\u001b[1;33m)\u001b[0m\u001b[1;33m)\u001b[0m\u001b[1;33m\u001b[0m\u001b[1;33m\u001b[0m\u001b[0m\n\u001b[0m\u001b[0;32m     43\u001b[0m \u001b[1;33m\u001b[0m\u001b[0m\n\u001b[0;32m     44\u001b[0m \u001b[1;33m\u001b[0m\u001b[0m\n",
      "\u001b[1;31mNameError\u001b[0m: name 'avg' is not defined"
     ]
    }
   ],
   "source": [
    "'''\n",
    "n명 학생의 점수를 입력하세요 - 5명\n",
    "모두 리스트에 추가\n",
    "\n",
    "'5명 점수의 총점은 ooo점입니다'\n",
    "while 및 for 문 사용가능\n",
    "'''\n",
    "\n",
    "\n",
    "\n",
    "\n",
    "#print(score_list)\n",
    "\n",
    "print('5명의 점수를 입력해주세요')\n",
    "\n",
    "score_list  = []\n",
    "\n",
    "i = 0\n",
    "\n",
    "for i in range(5) :\n",
    "    \n",
    "    \n",
    "    print(i,'번째 사람의 점수:')\n",
    "    \n",
    "    \n",
    "    \n",
    "    #score_list[i-1] = int(input())\n",
    "\n",
    "\n",
    "print(score_list) ; print()\n",
    "\n",
    "sum = 0\n",
    "\n",
    "\n",
    "\n",
    "for q in score_list :\n",
    "    sum += q\n",
    "    avg = sum/5\n",
    "    \n",
    "#print(sum)\n",
    "print('점수의 총합은 %d점이다.' %(sum))\n",
    "print('점수의 평균은 %d점이다.' %(avg))\n",
    "\n",
    "    \n",
    "    \n",
    "    \n",
    "    \n",
    "    \n",
    " \n",
    " \n",
    "\n",
    "\n",
    "     \n",
    "\n",
    "\n",
    "\n",
    "\n",
    "\n"
   ]
  },
  {
   "cell_type": "code",
   "execution_count": null,
   "id": "75937fd1-10d4-4fa5-a237-52fade3933f0",
   "metadata": {
    "tags": []
   },
   "outputs": [
    {
     "name": "stdout",
     "output_type": "stream",
     "text": [
      "5명의 점수를 입력해주세요\n"
     ]
    },
    {
     "name": "stdin",
     "output_type": "stream",
     "text": [
      "1 번째 사람의 점수: 80\n",
      "2 번째 사람의 점수: 90\n",
      "3 번째 사람의 점수: 70\n",
      "4 번째 사람의 점수: 80\n",
      "5 번째 사람의 점수: 90\n"
     ]
    },
    {
     "name": "stdout",
     "output_type": "stream",
     "text": [
      "[80, 90, 70, 80, 90]\n",
      "5명의 총점은 410 입니다. \n"
     ]
    }
   ],
   "source": [
    "#print(score_list)\n",
    "\n",
    "print('5명의 점수를 입력해주세요')\n",
    "\n",
    "score_list  = []\n",
    "\n",
    "i = 0\n",
    "\n",
    "for i in range(5) :\n",
    "    x = int(input('%d 번째 사람의 점수:' %(i+1)))\n",
    "    \n",
    "    score_list.append(x)\n",
    "print(score_list)\n",
    "    \n",
    "\n",
    "sum = 0\n",
    "\n",
    "for q in score_list :\n",
    "    sum = sum+q\n",
    "    \n",
    "print('5명의 총점은 %d 입니다. ' %sum)    \n"
   ]
  },
  {
   "cell_type": "code",
   "execution_count": 12,
   "id": "ce78a30a-498a-4b45-9cf1-3e3819229b39",
   "metadata": {},
   "outputs": [
    {
     "name": "stdin",
     "output_type": "stream",
     "text": [
      "현재 학생은 n명이다. n명의 점수를 리스트화 시키고 합과 평균을 구하시오 \n",
      "인원수 : 10\n",
      "1번째 학생의 점수 :  4\n"
     ]
    },
    {
     "name": "stdout",
     "output_type": "stream",
     "text": [
      "[4]\n"
     ]
    },
    {
     "name": "stdin",
     "output_type": "stream",
     "text": [
      "2번째 학생의 점수 :  6\n"
     ]
    },
    {
     "name": "stdout",
     "output_type": "stream",
     "text": [
      "[4, 6]\n"
     ]
    },
    {
     "name": "stdin",
     "output_type": "stream",
     "text": [
      "3번째 학생의 점수 :  8\n"
     ]
    },
    {
     "name": "stdout",
     "output_type": "stream",
     "text": [
      "[4, 6, 8]\n"
     ]
    },
    {
     "name": "stdin",
     "output_type": "stream",
     "text": [
      "4번째 학생의 점수 :  7\n"
     ]
    },
    {
     "name": "stdout",
     "output_type": "stream",
     "text": [
      "[4, 6, 8, 7]\n"
     ]
    },
    {
     "name": "stdin",
     "output_type": "stream",
     "text": [
      "5번째 학생의 점수 :  9\n"
     ]
    },
    {
     "name": "stdout",
     "output_type": "stream",
     "text": [
      "[4, 6, 8, 7, 9]\n"
     ]
    },
    {
     "name": "stdin",
     "output_type": "stream",
     "text": [
      "6번째 학생의 점수 :  4\n"
     ]
    },
    {
     "name": "stdout",
     "output_type": "stream",
     "text": [
      "[4, 6, 8, 7, 9, 4]\n"
     ]
    },
    {
     "name": "stdin",
     "output_type": "stream",
     "text": [
      "7번째 학생의 점수 :  5\n"
     ]
    },
    {
     "name": "stdout",
     "output_type": "stream",
     "text": [
      "[4, 6, 8, 7, 9, 4, 5]\n"
     ]
    },
    {
     "name": "stdin",
     "output_type": "stream",
     "text": [
      "8번째 학생의 점수 :  6\n"
     ]
    },
    {
     "name": "stdout",
     "output_type": "stream",
     "text": [
      "[4, 6, 8, 7, 9, 4, 5, 6]\n"
     ]
    },
    {
     "name": "stdin",
     "output_type": "stream",
     "text": [
      "9번째 학생의 점수 :  7\n"
     ]
    },
    {
     "name": "stdout",
     "output_type": "stream",
     "text": [
      "[4, 6, 8, 7, 9, 4, 5, 6, 7]\n"
     ]
    },
    {
     "name": "stdin",
     "output_type": "stream",
     "text": [
      "10번째 학생의 점수 :  9\n"
     ]
    },
    {
     "name": "stdout",
     "output_type": "stream",
     "text": [
      "[4, 6, 8, 7, 9, 4, 5, 6, 7, 9]\n",
      "\n",
      "총 10명 학생의 점수 총점은 65점이다.\n",
      "\n",
      "학생의 점수 평균은 6점이다.\n",
      "학생이 추가되었다\n",
      "\n"
     ]
    },
    {
     "name": "stdin",
     "output_type": "stream",
     "text": [
      "점수 추가 : 50\n"
     ]
    },
    {
     "name": "stdout",
     "output_type": "stream",
     "text": [
      "[4, 6, 8, 7, 9, 4, 5, 6, 7, 9, 50]\n",
      "\n",
      "한명이 등록을 취소했다\n",
      "\n",
      "[4, 6, 8, 7, 4, 5, 6, 7, 9, 50]\n"
     ]
    }
   ],
   "source": [
    "'''\n",
    "n명의 점수를 받아 그 총합과 평균을 구하시오\n",
    "'''\n",
    "\n",
    "n = int(input('현재 학생은 n명이다. n명의 점수를 리스트화 시키고 합과 평균을 구하시오 \\n인원수 :'))\n",
    "\n",
    "score_list = []\n",
    "\n",
    "\n",
    "for d in range(n) :\n",
    "    y  = int(input('%d번째 학생의 점수 : ' %(d+1)))\n",
    "    \n",
    "    score_list.append(y)\n",
    "print(score_list)\n",
    "    \n",
    "sum = 0\n",
    "\n",
    "for k in score_list :\n",
    "    sum += k\n",
    "    avg = sum/n\n",
    "\n",
    "print()\n",
    "print('총 %d명 학생의 점수 총점은 %d점이다.' %(n,sum)) ;print()\n",
    "print('학생의 점수 평균은 %d점이다.' %(avg))\n",
    "\n",
    "print('학생이 추가되었다\\n')\n",
    "\n",
    "score_list.insert(n, int(input(\"점수 추가 :\")))\n",
    "print(score_list) ; print()\n",
    "\n",
    "print('한명이 등록을 취소했다\\n')\n",
    "\n",
    "score_list.remove(score_list[n-1])\n",
    "print(score_list)\n",
    "\n",
    "\n"
   ]
  },
  {
   "cell_type": "code",
   "execution_count": 264,
   "id": "521f7aad-47bd-492b-8cd1-b5b69a425ce8",
   "metadata": {},
   "outputs": [
    {
     "name": "stdout",
     "output_type": "stream",
     "text": [
      "{'name': '한사람', 'age': 22, 'address': '한사람', 'gender': True} <class 'dict'>\n",
      "4\n",
      "**************************************************\n"
     ]
    }
   ],
   "source": [
    "'''\n",
    "my_dict = {'name' : '한사랑' , 'age' : 22, 'gender' : True}\n",
    "my_dict2 = dict()\n",
    "\n",
    "print(my_dict, type(my_dict))\n",
    "print(my_dict2, type(my_dict2))\n",
    "'''\n",
    "\n",
    "\n",
    "my_dict = {'name' : '한사람',\n",
    "           'age' : 22,\n",
    "           #'age' : 2,\\  key 값은 중복이 안된다\n",
    "           'address' : '한사람',  #value 값은 중복이 된다\n",
    "           'gender' : True}\n",
    "\n",
    "print(my_dict, type(my_dict))\n",
    "print(len(my_dict))\n",
    "\n",
    "print('*'*50)\n",
    "\n",
    "\n",
    "\n",
    "\n"
   ]
  },
  {
   "cell_type": "code",
   "execution_count": 271,
   "id": "09631be8-657e-4f01-8466-60650d2056eb",
   "metadata": {},
   "outputs": [
    {
     "name": "stdout",
     "output_type": "stream",
     "text": [
      "dict_keys(['name', 'age', 'address', 'gender']) <class 'dict_keys'>\n",
      "dict_values(['한사람', 22, '한사람', True]) <class 'dict_values'>\n",
      "dict_items([('name', '한사람'), ('age', 22), ('address', '한사람'), ('gender', True)]) <class 'dict_items'>\n",
      "한사람 <class 'str'>\n",
      "22 <class 'int'>\n",
      "한사람 <class 'str'>\n"
     ]
    }
   ],
   "source": [
    "keys = my_dict.keys()\n",
    "values = my_dict.values()\n",
    "items = my_dict.items()\n",
    "\n",
    "print(keys, type(keys))\n",
    "print(values, type(values))\n",
    "print(items, type(items))\n",
    "\n",
    "name = my_dict.get('name') #name key를 소환\n",
    "print(name, type(name))\n",
    "\n",
    "age = my_dict.get('age')\n",
    "print(age, type(age))\n",
    "\n",
    "name = my_dict['name']\n",
    "print(name, type(name))"
   ]
  },
  {
   "cell_type": "code",
   "execution_count": 277,
   "id": "9b10c6ec-bc80-4f64-84e2-a6c0bd92bc11",
   "metadata": {},
   "outputs": [
    {
     "name": "stdout",
     "output_type": "stream",
     "text": [
      "{'name': '한사람', 'age': 20, 'address': 'Seoul', 'gender': True, 'addr': 'Seoul'}\n",
      "\n",
      "{'name': '한사람', 'age': 20, 'address': 'Seoul', 'gender': True, 'addr': 'Seoul'}\n"
     ]
    }
   ],
   "source": [
    "print(my_dict) ; print()\n",
    "\n",
    "my_dict['age'] = 20\n",
    "my_dict['addr']  = 'Seoul'\n",
    "\n",
    "print(my_dict)"
   ]
  },
  {
   "cell_type": "code",
   "execution_count": 14,
   "id": "f7aaaa9a-934e-41d1-8c18-b02ef31456e9",
   "metadata": {},
   "outputs": [
    {
     "name": "stdout",
     "output_type": "stream",
     "text": [
      "[{'name': 'Heesang', 'age': 26, 'gender': 'female'}, {'name': 'Saem', 'age': 31, 'gender': 'male'}] <class 'list'>\n",
      "{'name': 'Saem', 'age': 31, 'gender': 'male'}\n",
      "2\n",
      "**************************************************\n",
      "Heesang\n",
      "Saem\n",
      "2\n"
     ]
    }
   ],
   "source": [
    "person = [\n",
    "    {\n",
    "        'name' : 'Heesang',\n",
    "        'age' : 26,\n",
    "        'gender' : 'female'},\n",
    "    \n",
    "    {'name' : 'Saem', 'age' : 31, 'gender' : 'male'}\n",
    "    \n",
    "    \n",
    "]\n",
    "\n",
    "print(person, type(person))\n",
    "\n",
    "print(person[1])\n",
    "print(len(person))\n",
    "\n",
    "print('*'*50)\n",
    "\n",
    "cnt = 0\n",
    "\n",
    "for i in person :\n",
    "    print(i.get('name'))\n",
    "    cnt += 1\n",
    "    \n",
    "print(cnt)\n",
    "    \n",
    "    "
   ]
  },
  {
   "cell_type": "code",
   "execution_count": 322,
   "id": "28baa3fe-8b0c-4e65-9747-8130328516cc",
   "metadata": {},
   "outputs": [
    {
     "name": "stdin",
     "output_type": "stream",
     "text": [
      "이름 :  윤희상\n",
      "국어점수 :  80\n",
      "영어점수 :  90\n",
      "수학점수 :  70\n"
     ]
    },
    {
     "name": "stdout",
     "output_type": "stream",
     "text": [
      "{'name': '윤희상', 'kor_score': 80, 'eng_score': 90, 'math_score': 70, 'total': 240, 'avg': 80.0}\n",
      "\n",
      "당신의 이름은 윤희상입니다.\n",
      "당신의 국어점수는 80입니다.\n",
      "당신의 영어점수는 90입니다.\n",
      "당신의 수학점수는 70입니다.\n",
      "당신의 총점은 240입니다.\n",
      "당신의 총점은 80.00입니다.\n"
     ]
    }
   ],
   "source": [
    "'''\n",
    "이름 국어 영어 수학 점수를 input 으로 받아 dict 형식으로 만들고 총점을 구한다.\n",
    "'''\n",
    "\n",
    "name = input('이름 : ')\n",
    "kor = int(input('국어점수 : '))\n",
    "eng = int(input('영어점수 : '))\n",
    "math = int(input('수학점수 : '))\n",
    "\n",
    "dict = {}\n",
    "\n",
    "dict['name'] = name\n",
    "dict['kor_score'] = kor\n",
    "dict['eng_score'] = eng\n",
    "dict['math_score'] = math\n",
    "\n",
    "#print(dict)\n",
    "\n",
    "\n",
    "sum = dict.get('kor_score')+dict['eng_score']+dict.get('math_score')\n",
    "avg = (kor+eng+math)/3\n",
    "\n",
    "dict['total'] = sum\n",
    "dict['avg'] = avg\n",
    "\n",
    "print(dict)\n",
    "# print(dict['total'])\n",
    "\n",
    "print()\n",
    "print('당신의 이름은 %s입니다.\\n당신의 국어점수는 %d입니다.\\n당신의 영어점수는 %d입니다.\\n당신의 수학점수는 %d입니다.\\n당신의 총점은 %d입니다.\\n당신의 총점은 %.2f입니다.'\n",
    "     %(name, kor, eng, math, sum, avg))\n",
    "\n",
    "\n",
    "\n",
    "\n",
    "\n",
    "\n",
    "\n",
    "\n",
    "\n",
    "\n",
    "\n",
    "\n"
   ]
  },
  {
   "cell_type": "code",
   "execution_count": 21,
   "id": "6fc26260-8518-4805-8523-7b318abd4102",
   "metadata": {
    "collapsed": true,
    "jupyter": {
     "outputs_hidden": true
    },
    "tags": []
   },
   "outputs": [
    {
     "name": "stdin",
     "output_type": "stream",
     "text": [
      "총 인원수 :  4\n",
      "이름 :  5\n",
      "나이 :  6\n",
      "거주지 :  8\n",
      "토익성적 :  7\n"
     ]
    },
    {
     "ename": "TypeError",
     "evalue": "'type' object does not support item assignment",
     "output_type": "error",
     "traceback": [
      "\u001b[1;31m---------------------------------------------------------------------------\u001b[0m",
      "\u001b[1;31mTypeError\u001b[0m                                 Traceback (most recent call last)",
      "\u001b[1;32m~\\AppData\\Local\\Temp/ipykernel_11392/2847131272.py\u001b[0m in \u001b[0;36m<module>\u001b[1;34m\u001b[0m\n\u001b[0;32m     15\u001b[0m     \u001b[0mtoeic\u001b[0m \u001b[1;33m=\u001b[0m \u001b[0mint\u001b[0m\u001b[1;33m(\u001b[0m\u001b[0minput\u001b[0m\u001b[1;33m(\u001b[0m\u001b[1;34m'토익성적 : '\u001b[0m\u001b[1;33m)\u001b[0m\u001b[1;33m)\u001b[0m\u001b[1;33m\u001b[0m\u001b[1;33m\u001b[0m\u001b[0m\n\u001b[0;32m     16\u001b[0m \u001b[1;33m\u001b[0m\u001b[0m\n\u001b[1;32m---> 17\u001b[1;33m     \u001b[0mdict\u001b[0m\u001b[1;33m[\u001b[0m\u001b[1;34m'name'\u001b[0m\u001b[1;33m]\u001b[0m \u001b[1;33m=\u001b[0m \u001b[0mname\u001b[0m\u001b[1;33m\u001b[0m\u001b[1;33m\u001b[0m\u001b[0m\n\u001b[0m\u001b[0;32m     18\u001b[0m     \u001b[0mdict\u001b[0m\u001b[1;33m[\u001b[0m\u001b[1;34m'age'\u001b[0m\u001b[1;33m]\u001b[0m \u001b[1;33m=\u001b[0m \u001b[0mage\u001b[0m\u001b[1;33m\u001b[0m\u001b[1;33m\u001b[0m\u001b[0m\n\u001b[0;32m     19\u001b[0m     \u001b[0mdict\u001b[0m\u001b[1;33m[\u001b[0m\u001b[1;34m'add'\u001b[0m\u001b[1;33m]\u001b[0m \u001b[1;33m=\u001b[0m \u001b[0madd\u001b[0m\u001b[1;33m\u001b[0m\u001b[1;33m\u001b[0m\u001b[0m\n",
      "\u001b[1;31mTypeError\u001b[0m: 'type' object does not support item assignment"
     ]
    }
   ],
   "source": [
    "######  망한거\n",
    "'''\n",
    "n명의 정보를 입력 받아 dict 에 입력하자. 이름 나이 거주지 토익성적\n",
    "\n",
    "'''\n",
    "\n",
    "n = int(input(\"총 인원수 : \"))\n",
    "\n",
    "person = {}\n",
    "\n",
    "for q in range(n) :\n",
    "    \n",
    "    name = input('이름 : ')\n",
    "    age = int(input('나이 : '))\n",
    "    add = input('거주지 : ')\n",
    "    toeic = int(input('토익성적 : '))\n",
    "    \n",
    "    dict['name'] = name\n",
    "    dict['age'] = age\n",
    "    dict['add'] = add\n",
    "    dict['toeic'] = toeic\n",
    "\n",
    "    print(dict)\n",
    "    \n",
    "\n",
    "'type' object does not support item assignment\n"
   ]
  },
  {
   "cell_type": "code",
   "execution_count": 339,
   "id": "89b2535e-bb77-4aff-9cd1-d3bed99a4951",
   "metadata": {},
   "outputs": [
    {
     "name": "stdin",
     "output_type": "stream",
     "text": [
      "총 응시자 수 : 2\n"
     ]
    },
    {
     "name": "stdout",
     "output_type": "stream",
     "text": [
      "\n"
     ]
    },
    {
     "name": "stdin",
     "output_type": "stream",
     "text": [
      "1번째 학생의 점수 : 60\n",
      "2번째 학생의 점수 : 70\n"
     ]
    },
    {
     "name": "stdout",
     "output_type": "stream",
     "text": [
      "[60, 70]\n",
      "\n",
      "2명 학생의 총점은 130점이다\n",
      "점수의 평균은 65.000이다.\n",
      "\n",
      "새로운 학생 추가\n"
     ]
    },
    {
     "name": "stdin",
     "output_type": "stream",
     "text": [
      " 2\n"
     ]
    },
    {
     "name": "stdout",
     "output_type": "stream",
     "text": [
      "2명의 점수가 추가되었다.\n"
     ]
    }
   ],
   "source": [
    "'''\n",
    "x명의 점수를 받아 리스트화 시키고 그 총합과 평균을 구하시오\n",
    "'''\n",
    "\n",
    "x = int(input('총 응시자 수 :')) ; print()\n",
    "\n",
    "tester = []\n",
    "\n",
    "for y in range(x) :   #0-x까지의 범위에서 y번 반복\n",
    "    z = int(input('%d번째 학생의 점수 :' %(y+1)))\n",
    "    \n",
    "    tester.append(z)\n",
    "\n",
    "   \n",
    "print(tester)\n",
    "\n",
    "\n",
    "q = 0\n",
    "\n",
    "sum = 0\n",
    "\n",
    "for q in tester :\n",
    "    sum += q\n",
    "\n",
    "avg = sum/x\n",
    "\n",
    "print()\n",
    "print('%d명 학생의 총점은 %d점이다' %(x,sum))\n",
    "print('점수의 평균은 %.3f이다.' %(avg)) ; print()\n",
    "\n",
    "print('새로운 학생 추가')\n",
    "a = int(input())\n",
    "print('%d명의 점수가 추가되었다.'%a)\n",
    "\n",
    "\n",
    "\n",
    "    \n",
    "    \n",
    "\n",
    "\n",
    "\n",
    "\n",
    "\n",
    "\n",
    "\n",
    "\n"
   ]
  },
  {
   "cell_type": "code",
   "execution_count": null,
   "id": "349494f7-4057-4c0e-be99-684b60296852",
   "metadata": {},
   "outputs": [],
   "source": []
  },
  {
   "cell_type": "code",
   "execution_count": null,
   "id": "5c8a8a28-0acf-4efb-b98d-93f0a9ea1095",
   "metadata": {},
   "outputs": [],
   "source": []
  },
  {
   "cell_type": "code",
   "execution_count": null,
   "id": "ff25f013-f942-4723-9233-8bb7beebe474",
   "metadata": {},
   "outputs": [],
   "source": []
  }
 ],
 "metadata": {
  "kernelspec": {
   "display_name": "Python 3 (ipykernel)",
   "language": "python",
   "name": "python3"
  },
  "language_info": {
   "codemirror_mode": {
    "name": "ipython",
    "version": 3
   },
   "file_extension": ".py",
   "mimetype": "text/x-python",
   "name": "python",
   "nbconvert_exporter": "python",
   "pygments_lexer": "ipython3",
   "version": "3.9.7"
  }
 },
 "nbformat": 4,
 "nbformat_minor": 5
}
