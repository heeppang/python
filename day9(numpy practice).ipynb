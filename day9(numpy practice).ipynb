{
 "cells": [
  {
   "cell_type": "markdown",
   "id": "73435139-31ed-4c69-b9f7-e9d3eced69ea",
   "metadata": {},
   "source": [
    "### 배열의 연산"
   ]
  },
  {
   "cell_type": "code",
   "execution_count": 34,
   "id": "8eeaa33c-810c-4dd7-ae64-15a070ad375c",
   "metadata": {},
   "outputs": [
    {
     "name": "stdout",
     "output_type": "stream",
     "text": [
      "[[7 7 5]\n",
      " [2 6 3]]\n",
      "[[1 3 9]\n",
      " [9 1 2]]\n",
      "--------------------------------------------------\n",
      "[[ 8 10 14]\n",
      " [11  7  5]]\n",
      "[[ 6  4 -4]\n",
      " [-7  5  1]]\n",
      "[[ 7 21 45]\n",
      " [18  6  6]]\n",
      "[[7.         2.33333333 0.55555556]\n",
      " [0.22222222 6.         1.5       ]]\n",
      "--------------------------------------------------\n",
      "[[49 49 25]\n",
      " [ 4 36  9]]\n",
      "[[ 1  9 81]\n",
      " [81  1  4]]\n",
      "[[35 35 25]\n",
      " [10 30 15]]\n",
      "[[ True  True False]\n",
      " [False  True  True]]\n"
     ]
    }
   ],
   "source": [
    "import numpy as np\n",
    "\n",
    "\n",
    "a = np.random.randint(1,10, (2,3))  #1-10까지 random 값으로 2행 3열로 배열 생성\n",
    "b = np.random.randint(1,10, (2,3))\n",
    "\n",
    "print(a)\n",
    "print(b)\n",
    "\n",
    "print('-'*50)\n",
    "\n",
    "\n",
    "print(a+b)  #각 행,열의 일치하는 값끼리 서로 연산이 된다\n",
    "print(a-b)\n",
    "print(a*b)\n",
    "print(a/b)\n",
    "print('-'*50)\n",
    "print(a**2)\n",
    "print(b**2)\n",
    "print(a*5)\n",
    "print(a>b)"
   ]
  },
  {
   "cell_type": "code",
   "execution_count": 12,
   "id": "b1416af9-ee7f-4da1-85ee-e21d0d727e00",
   "metadata": {},
   "outputs": [
    {
     "name": "stdout",
     "output_type": "stream",
     "text": [
      "[[1 1 2 4]\n",
      " [2 4 3 4]\n",
      " [1 4 1 2]]\n",
      "[[1 1 4 2]\n",
      " [4 2 1 3]\n",
      " [1 4 1 2]]\n"
     ]
    }
   ],
   "source": [
    "import numpy as np\n",
    "\n",
    "a = np.random.randint(1,5,(3,4))\n",
    "b = np.random.randint(1,5,(3,4))\n",
    "\n",
    "print(a)\n",
    "print(b)\n"
   ]
  },
  {
   "cell_type": "code",
   "execution_count": 42,
   "id": "9a6750fb-19a4-43ac-af91-620894d20ce1",
   "metadata": {},
   "outputs": [
    {
     "ename": "TypeError",
     "evalue": "Field elements must be 2- or 3-tuples, got '6'",
     "output_type": "error",
     "traceback": [
      "\u001b[1;31m---------------------------------------------------------------------------\u001b[0m",
      "\u001b[1;31mTypeError\u001b[0m                                 Traceback (most recent call last)",
      "\u001b[1;32m~\\AppData\\Local\\Temp/ipykernel_14112/499619894.py\u001b[0m in \u001b[0;36m<module>\u001b[1;34m\u001b[0m\n\u001b[0;32m      2\u001b[0m \u001b[1;33m\u001b[0m\u001b[0m\n\u001b[0;32m      3\u001b[0m \u001b[1;33m\u001b[0m\u001b[0m\n\u001b[1;32m----> 4\u001b[1;33m \u001b[0marr\u001b[0m \u001b[1;33m=\u001b[0m \u001b[0mnp\u001b[0m\u001b[1;33m.\u001b[0m\u001b[0marray\u001b[0m\u001b[1;33m(\u001b[0m\u001b[1;33m[\u001b[0m\u001b[1;36m1\u001b[0m\u001b[1;33m,\u001b[0m\u001b[1;36m2\u001b[0m\u001b[1;33m,\u001b[0m\u001b[1;36m3\u001b[0m\u001b[1;33m,\u001b[0m\u001b[1;36m4\u001b[0m\u001b[1;33m,\u001b[0m\u001b[1;36m5\u001b[0m\u001b[1;33m]\u001b[0m\u001b[1;33m,\u001b[0m\u001b[1;33m[\u001b[0m\u001b[1;36m6\u001b[0m\u001b[1;33m,\u001b[0m\u001b[1;36m7\u001b[0m\u001b[1;33m,\u001b[0m\u001b[1;36m8\u001b[0m\u001b[1;33m,\u001b[0m\u001b[1;36m9\u001b[0m\u001b[1;33m,\u001b[0m\u001b[1;36m10\u001b[0m\u001b[1;33m]\u001b[0m\u001b[1;33m)\u001b[0m\u001b[1;33m\u001b[0m\u001b[1;33m\u001b[0m\u001b[0m\n\u001b[0m\u001b[0;32m      5\u001b[0m \u001b[1;33m\u001b[0m\u001b[0m\n\u001b[0;32m      6\u001b[0m \u001b[0mnewarr\u001b[0m \u001b[1;33m=\u001b[0m \u001b[0mnp\u001b[0m\u001b[1;33m.\u001b[0m\u001b[0marray_split\u001b[0m\u001b[1;33m(\u001b[0m\u001b[0marr\u001b[0m\u001b[1;33m,\u001b[0m \u001b[1;36m2\u001b[0m\u001b[1;33m)\u001b[0m\u001b[1;33m\u001b[0m\u001b[1;33m\u001b[0m\u001b[0m\n",
      "\u001b[1;31mTypeError\u001b[0m: Field elements must be 2- or 3-tuples, got '6'"
     ]
    }
   ],
   "source": [
    "import numpy as np\n",
    "\n",
    "\n",
    "arr = np.array([[1,2,3,4,5],[6,7,8,9,10]])\n",
    "\n",
    "newarr = np.array_split(arr, 2)\n",
    "\n",
    "print(newarr)"
   ]
  },
  {
   "cell_type": "code",
   "execution_count": 20,
   "id": "2a64beb3-f40e-4a16-86b7-646eef3dcebb",
   "metadata": {},
   "outputs": [
    {
     "name": "stdout",
     "output_type": "stream",
     "text": [
      "['banana' 'cherry' 'grape' 'strawberry' '귤']\n"
     ]
    }
   ],
   "source": [
    "import numpy as np\n",
    "\n",
    "arr = np.array(['banana' , 'cherry' , 'strawberry' , 'grape', '귤'])\n",
    "\n",
    "print(np.sort(arr))  #오름차순으로 정렬\n",
    "\n",
    "\n"
   ]
  },
  {
   "cell_type": "code",
   "execution_count": 43,
   "id": "601e9d2f-fc77-46bc-b1fc-3e0a30fdae90",
   "metadata": {},
   "outputs": [
    {
     "name": "stdout",
     "output_type": "stream",
     "text": [
      "6.25\n",
      "75\n",
      "3.139134700306227\n",
      "9.854166666666666\n",
      "1\n",
      "11\n"
     ]
    }
   ],
   "source": [
    "import numpy as np\n",
    "\n",
    "arr = np.array([[1,2,3],[4,5,6],[7,8,9],[9,10,11]])\n",
    "\n",
    "print(arr.mean())   #배열을 하나의 값으로 연산하는 함수들\n",
    "print(arr.sum())\n",
    "print(arr.std())\n",
    "print(arr.var())\n",
    "print(arr.min())\n",
    "print(arr.max())\n",
    "\n",
    "\n",
    "\n",
    "\n"
   ]
  },
  {
   "cell_type": "code",
   "execution_count": 27,
   "id": "02adb3ef-c9f1-42fe-8790-58c796c63112",
   "metadata": {},
   "outputs": [
    {
     "name": "stdout",
     "output_type": "stream",
     "text": [
      "[0.         1.         1.41421356 1.73205081 2.         2.23606798\n",
      " 2.44948974 2.64575131 2.82842712 3.        ]\n",
      "[1.00000000e+00 2.71828183e+00 7.38905610e+00 2.00855369e+01\n",
      " 5.45981500e+01 1.48413159e+02 4.03428793e+02 1.09663316e+03\n",
      " 2.98095799e+03 8.10308393e+03]\n"
     ]
    }
   ],
   "source": [
    "import numpy as np\n",
    "\n",
    "arr = np.arange(10)   #arange = array range의 약자임\n",
    "\n",
    "print(np.sqrt(arr))\n",
    "print(np.exp(arr))"
   ]
  },
  {
   "cell_type": "code",
   "execution_count": 32,
   "id": "4119c9f1-6f34-4ed3-9042-e30f65c17b9d",
   "metadata": {},
   "outputs": [
    {
     "name": "stdout",
     "output_type": "stream",
     "text": [
      "[[0 6 1]\n",
      " [9 9 3]]\n"
     ]
    }
   ],
   "source": [
    "import numpy as np\n",
    "\n",
    "\n",
    "a = np.random.randint(0,10, (2,3))\n",
    "\n",
    "print(a)\n",
    "\n",
    "\n",
    "np.savetxt('./data/score.csv' , a)\n",
    "\n"
   ]
  },
  {
   "cell_type": "code",
   "execution_count": 33,
   "id": "b0019418-fb22-4968-8dbe-7d8f405c32d1",
   "metadata": {},
   "outputs": [
    {
     "name": "stdout",
     "output_type": "stream",
     "text": [
      "[[0 6 1]\n",
      " [9 9 3]]\n"
     ]
    }
   ],
   "source": [
    "b = np.loadtxt('./data/score.csv' , np.int32)\n",
    "print(b)"
   ]
  },
  {
   "cell_type": "code",
   "execution_count": null,
   "id": "16f54223-fe97-4dc3-ba1a-9ea70a303c00",
   "metadata": {},
   "outputs": [],
   "source": []
  }
 ],
 "metadata": {
  "kernelspec": {
   "display_name": "Python 3 (ipykernel)",
   "language": "python",
   "name": "python3"
  },
  "language_info": {
   "codemirror_mode": {
    "name": "ipython",
    "version": 3
   },
   "file_extension": ".py",
   "mimetype": "text/x-python",
   "name": "python",
   "nbconvert_exporter": "python",
   "pygments_lexer": "ipython3",
   "version": "3.9.7"
  }
 },
 "nbformat": 4,
 "nbformat_minor": 5
}
