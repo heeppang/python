{
 "cells": [
  {
   "cell_type": "markdown",
   "id": "85cef4f5-5105-44fa-a0ea-2d0ef8d49554",
   "metadata": {},
   "source": [
    "*가급적이면 함수에서 전역변수는 사용하지 않는다"
   ]
  },
  {
   "cell_type": "code",
   "execution_count": 3,
   "id": "4ac1e77e-bc04-47c6-91fb-eafe13effcab",
   "metadata": {},
   "outputs": [],
   "source": [
    "def my_function(n , msg) : #n은 횟수역할 m은 str역할\n",
    "    print('-'*n)\n",
    "    print(msg)\n",
    "    print('-'*n)"
   ]
  },
  {
   "cell_type": "code",
   "execution_count": 44,
   "id": "27284ef3-5df1-405d-8e9a-c13468d3393d",
   "metadata": {
    "tags": []
   },
   "outputs": [
    {
     "name": "stdin",
     "output_type": "stream",
     "text": [
      " 5\n",
      " 나\n"
     ]
    },
    {
     "name": "stdout",
     "output_type": "stream",
     "text": [
      "-----\n",
      "나\n",
      "-----\n"
     ]
    }
   ],
   "source": [
    "x = int(input())\n",
    "msg = input()\n",
    "my_function(x, msg)\n"
   ]
  },
  {
   "cell_type": "code",
   "execution_count": 43,
   "id": "13da6323-79b5-471f-a792-09853070ac6b",
   "metadata": {
    "collapsed": true,
    "jupyter": {
     "outputs_hidden": true
    },
    "tags": []
   },
   "outputs": [
    {
     "name": "stdout",
     "output_type": "stream",
     "text": [
      "----------\n",
      "kk\n",
      "----------\n"
     ]
    },
    {
     "ename": "TypeError",
     "evalue": "my_function() missing 1 required positional argument: 'msg'",
     "output_type": "error",
     "traceback": [
      "\u001b[1;31m---------------------------------------------------------------------------\u001b[0m",
      "\u001b[1;31mTypeError\u001b[0m                                 Traceback (most recent call last)",
      "\u001b[1;32m~\\AppData\\Local\\Temp/ipykernel_9208/3955331488.py\u001b[0m in \u001b[0;36m<module>\u001b[1;34m\u001b[0m\n\u001b[0;32m      1\u001b[0m \u001b[0mmy_function\u001b[0m\u001b[1;33m(\u001b[0m\u001b[0mx\u001b[0m\u001b[1;33m,\u001b[0m \u001b[0mmsg\u001b[0m\u001b[1;33m)\u001b[0m\u001b[1;33m\u001b[0m\u001b[1;33m\u001b[0m\u001b[0m\n\u001b[1;32m----> 2\u001b[1;33m \u001b[0mmy_function\u001b[0m\u001b[1;33m(\u001b[0m\u001b[1;36m30\u001b[0m\u001b[1;33m)\u001b[0m\u001b[1;33m\u001b[0m\u001b[1;33m\u001b[0m\u001b[0m\n\u001b[0m",
      "\u001b[1;31mTypeError\u001b[0m: my_function() missing 1 required positional argument: 'msg'"
     ]
    }
   ],
   "source": [
    "my_function(x, msg)\n",
    "my_function(30)"
   ]
  },
  {
   "cell_type": "code",
   "execution_count": 77,
   "id": "56823e62-12c2-487d-9582-81b1fae07bdd",
   "metadata": {},
   "outputs": [],
   "source": [
    "def my_add(n,m) :\n",
    "    print('합을 출력하겠습니다')\n",
    "    print('%d + %d = %d' %(n,m,n+m))\n",
    "    print('*'*(n*m))"
   ]
  },
  {
   "cell_type": "code",
   "execution_count": 78,
   "id": "2d685ceb-eb8b-4dac-b214-0c1054c4d3d1",
   "metadata": {},
   "outputs": [
    {
     "name": "stdout",
     "output_type": "stream",
     "text": [
      "합을 출력하겠습니다\n",
      "6 + 6 = 12\n",
      "************************************\n"
     ]
    }
   ],
   "source": [
    "my_add(6,6)"
   ]
  },
  {
   "cell_type": "code",
   "execution_count": 96,
   "id": "c55ed2c1-3007-473e-8ca9-a7d8a05a8c60",
   "metadata": {},
   "outputs": [],
   "source": [
    "def hee_add(a,b) :\n",
    "\n",
    "    print('%d + %d = %d' %(a,b,a+b))  \n",
    "    print('*'*(a+b)) ; print()\n",
    "    \n",
    "def hee_sub(a,b) :\n",
    "    \n",
    "    print('%d - %d = %d' %(a,b,a-b))\n",
    "    print('*'*(a+b)); print()\n",
    "    \n",
    "def hee_mul(a,b) :\n",
    "    \n",
    "    print('%d * %d = %d' %(a,b,a*b))\n",
    "    print('*'*(a+b)); print()\n",
    "    \n",
    "def hee_div(a,b) :    \n",
    "    \n",
    "    print('%d / %d = %.3f' %(a,b,a/b))\n",
    "    print('*'*(a+b)); print()\n",
    "\n"
   ]
  },
  {
   "cell_type": "code",
   "execution_count": 98,
   "id": "ab771276-cd05-4470-97e6-06b679632eb9",
   "metadata": {},
   "outputs": [
    {
     "name": "stdin",
     "output_type": "stream",
     "text": [
      " 5\n",
      " 6\n"
     ]
    },
    {
     "name": "stdout",
     "output_type": "stream",
     "text": [
      "5 + 6 = 11\n",
      "***********\n",
      "\n",
      "5 - 6 = -1\n",
      "***********\n",
      "\n",
      "5 * 6 = 30\n",
      "***********\n",
      "\n",
      "5 / 6 = 0.833\n",
      "***********\n",
      "\n"
     ]
    }
   ],
   "source": [
    "a = int(input())\n",
    "b = int(input())\n",
    "hee_add(a,b)\n",
    "hee_sub(a,b)\n",
    "hee_mul(a,b)\n",
    "hee_div(a,b)"
   ]
  },
  {
   "cell_type": "code",
   "execution_count": 119,
   "id": "a5f86fb4-23f7-4741-9b74-19d174ab781e",
   "metadata": {},
   "outputs": [],
   "source": [
    "def hee_sub1(q,s) :\n",
    "    \n",
    "    print('*'*(q*s))\n",
    "    \n",
    "        if q > s :\n",
    "            print('%d - %d = %d' %(q,s,q-s))\n",
    "\n",
    "        else :\n",
    "            print('%d - %d = %d' %(s,q,s-q))\n",
    "\n",
    "        print('*'*(q*s)); print()\n",
    "    \n",
    "        print('수고하셨습니다.\\n')\n",
    "        \n",
    "    \n",
    "\n",
    "def hee_add1(q,s) :\n",
    "    \n",
    "    print('*'*(q*s))\n",
    "    \n",
    "    if q > s :\n",
    "        print('%d + %d = %d' %(q,s,q+s))\n",
    "    \n",
    "    else :\n",
    "        print('%d + %d = %d' %(s,q,s+q))\n",
    "    \n",
    "    print('*'*(q*s)); print()\n",
    "    \n",
    "    print('수고하셨습니다.\\n')\n",
    "\n",
    "    \n",
    "    \n",
    "    \n",
    "    \n",
    "    "
   ]
  },
  {
   "cell_type": "code",
   "execution_count": 122,
   "id": "2d7938b3-2822-44c5-ab3d-ae4e7ccb9c6a",
   "metadata": {},
   "outputs": [
    {
     "name": "stdin",
     "output_type": "stream",
     "text": [
      " 8\n",
      " 75\n"
     ]
    },
    {
     "name": "stdout",
     "output_type": "stream",
     "text": [
      "************************************************************************************************************************************************************************************************************************************************************************************************************************************************************************************************************************************************************************************************************************************************************************************************************************\n",
      "75 - 8 = 67\n",
      "************************************************************************************************************************************************************************************************************************************************************************************************************************************************************************************************************************************************************************************************************************************************************************************************************************\n",
      "\n",
      "수고하셨습니다.\n",
      "\n",
      "************************************************************************************************************************************************************************************************************************************************************************************************************************************************************************************************************************************************************************************************************************************************************************************************************************\n",
      "75 + 8 = 83\n",
      "************************************************************************************************************************************************************************************************************************************************************************************************************************************************************************************************************************************************************************************************************************************************************************************************************************\n",
      "\n",
      "수고하셨습니다.\n",
      "\n"
     ]
    }
   ],
   "source": [
    "q = int(input())\n",
    "s = int(input())\n",
    "\n",
    "hee_sub1(q,s)\n",
    "hee_add1(q,s)"
   ]
  },
  {
   "cell_type": "code",
   "execution_count": 156,
   "id": "ca77b5c7-8c3f-4770-ac5f-82c6dcd7feba",
   "metadata": {},
   "outputs": [],
   "source": [
    "'''\n",
    "input 숫자\n",
    "함수로 1부터 n까지 합\n",
    "'''\n",
    "\n",
    "def new_for(a) :\n",
    "\n",
    "    sum = 0\n",
    "    \n",
    "    for i in range(a) :\n",
    "        #print(i+1)\n",
    "        sum = sum + i\n",
    "        #print(sum)\n",
    "    print(sum)\n",
    "\n",
    "        \n",
    "    \n",
    "    "
   ]
  },
  {
   "cell_type": "code",
   "execution_count": 155,
   "id": "05019cd3-fcef-4dc6-84fd-060e4602546c",
   "metadata": {},
   "outputs": [
    {
     "name": "stdin",
     "output_type": "stream",
     "text": [
      " 7\n"
     ]
    },
    {
     "name": "stdout",
     "output_type": "stream",
     "text": [
      "21\n"
     ]
    }
   ],
   "source": [
    "a = int(input())\n",
    "\n",
    "new_for(a)\n"
   ]
  },
  {
   "cell_type": "code",
   "execution_count": 137,
   "id": "c191a4b5-9ee1-4b41-8c32-9ccf8f4f74c4",
   "metadata": {},
   "outputs": [],
   "source": [
    "'''\n",
    "매개변수로 리스트를 출력\n",
    "'''\n",
    "\n",
    "def hee_list(a) :\n",
    "    \n",
    "    print('성적리스트 작성\\n')\n",
    "    \n",
    "    score_list = []\n",
    "    \n",
    "    i = 0\n",
    "    \n",
    "    for i in range(a) :\n",
    "        x = int(input('%d번째 사람의 점수 : ' %(i+1)))\n",
    "        score_list.append(x)\n",
    "        \n",
    "    print(score_list)\n",
    "        \n",
    "    \n",
    "    \n",
    "    \n"
   ]
  },
  {
   "cell_type": "code",
   "execution_count": 138,
   "id": "97bf3d99-bf27-46b5-b227-ce3b16cf9309",
   "metadata": {},
   "outputs": [
    {
     "name": "stdin",
     "output_type": "stream",
     "text": [
      " 5\n"
     ]
    },
    {
     "name": "stdout",
     "output_type": "stream",
     "text": [
      "성적리스트 작성\n",
      "\n"
     ]
    },
    {
     "name": "stdin",
     "output_type": "stream",
     "text": [
      "1번째 사람의 점수 :  9\n",
      "2번째 사람의 점수 :  8\n",
      "3번째 사람의 점수 :  7\n",
      "4번째 사람의 점수 :  8\n",
      "5번째 사람의 점수 :  6\n"
     ]
    },
    {
     "name": "stdout",
     "output_type": "stream",
     "text": [
      "<built-in method sort of list object at 0x000001317A21B040>\n"
     ]
    }
   ],
   "source": [
    "a = int(input())\n",
    "\n",
    "hee_list(a)\n"
   ]
  },
  {
   "cell_type": "code",
   "execution_count": 199,
   "id": "beabc20c-8ce4-4750-a63b-8f6e7c359f1a",
   "metadata": {},
   "outputs": [],
   "source": [
    "'''\n",
    "세개의 숫자를 입력 받아 가장 큰수를 출력하는 print_max 함수를 정의하라. 단 if 문을 사용해서 수를 비교하라\n",
    "1.직삼각형\n",
    "2.원\n",
    "3.정사각형\n",
    "4.직사각형\n",
    "\n",
    "넓이를 구하시오\n",
    "'''\n",
    "\n",
    "def print_max(a,b,c) :\n",
    "    \n",
    "\n",
    "    \n",
    "    while True :\n",
    "        g = int(input('도형을 선택하세요 : \\n1. 직사각형 \\n2. 정사각형 \\n3. 원  \\n4. 직삼각형\\n'))\n",
    "        if g <= 4 :\n",
    "\n",
    "\n",
    "                rec = a*b\n",
    "                squ = b*b\n",
    "                cir = c**2 * 3.14\n",
    "                rec2 = (a*b)/2\n",
    "                \n",
    "                \n",
    "\n",
    "                if g == 1 : \n",
    "                    print('직사각형의 넓이 : %d' %rec)\n",
    "                if g == 2 :\n",
    "                    print('정사각형의 넓이 : %d' %squ)\n",
    "                if g == 3 :\n",
    "                    print('원의 넓이 : %d' %cir)\n",
    "                if g == 4 :\n",
    "                    print('직삼각형의 넓이 : %d' %rec2)\n",
    "\n",
    "\n",
    "\n",
    "\n",
    "                \n",
    "        \n",
    "        if max == cir :\n",
    "            print('가장 큰 도형은 3번 원으로 너비는 %d 입니다' %cir)\n",
    "        elif max == squ :\n",
    "            print('가장 큰 도형은 2번 정사각형으로 너비는 %d 입니다' %sqr)\n",
    "        elif max == rec :\n",
    "            print('가장 큰 도형은 1번 직사각형으로 너비는 %d 입니다' %rec)\n",
    "        elif max == rec2 :\n",
    "            print('가장 큰 도형은 4번 직삼각형으로 너비는 %d 입니다' %rec2)\n",
    "            \n",
    "            max(rec,squ,cir,rec2)\n",
    "            \n",
    "        break\n",
    "\n",
    "            \n",
    "\n",
    "            \n",
    "    else :\n",
    "            print('1-4 번 중 선택해주십시오')\n",
    "            \n",
    "            \n",
    "    \n",
    "            \n",
    "            \n",
    "    \n",
    "        \n",
    "    \n",
    "    \n",
    "        \n",
    "    \n",
    "    \n",
    "        \n",
    "        \n",
    "        \n",
    "        \n",
    "        \n",
    "\n",
    "\n",
    "    \n",
    "    \n",
    "    \n",
    "\n",
    "\n",
    "\n",
    "\n",
    "\n"
   ]
  },
  {
   "cell_type": "code",
   "execution_count": null,
   "id": "ee0c6271-e5f5-4dfc-9d3f-c3c622b743cd",
   "metadata": {},
   "outputs": [
    {
     "name": "stdin",
     "output_type": "stream",
     "text": [
      "윗변 =  5\n",
      "아랫변 =  9\n",
      "반지름 =  5\n"
     ]
    }
   ],
   "source": [
    "a = int(input('윗변 = '))\n",
    "b = int(input('아랫변 = '))\n",
    "c = int(input('반지름 = '))\n",
    "\n",
    "\n",
    "\n",
    "print_max(a,b,c)\n"
   ]
  },
  {
   "cell_type": "code",
   "execution_count": 147,
   "id": "3115a96b-34bf-4dbd-9516-d99097853d80",
   "metadata": {},
   "outputs": [],
   "source": [
    "'''\n",
    "숫자로 구성된 하나의 리스트를 입력받아 짝수들을 추출하여 출력하는 pickup_even 함수를 구현하라\n",
    "\n",
    "pickup_even([3,4,5,6,7,8])\n",
    " -> [4,6,8]\n",
    " '''\n",
    "\n",
    "def pickup_even(list) :\n",
    "    result = [] #추가될 값들이 들어갈 것임으로 공란으로 둔다\n",
    "    \n",
    "    sum = 0\n",
    "    \n",
    "    for a in range(len(list)) : #매개변수로 입력된 수까지의 길이를 반복한다\n",
    "         if list[a]%2 == 0 : #리스트의 a번째 값이 2의 배수일 경우\n",
    "            result.append(list[a]) #a의 값들을 리스트(매개변수)에 추가한다\n",
    "            sum += list[a]  #sum 에 a번째 값들을 계속해서 더한다 (a번동안)\n",
    "            \n",
    "    return result, sum\n",
    "        \n",
    "        "
   ]
  },
  {
   "cell_type": "code",
   "execution_count": 148,
   "id": "1e40a817-aee5-4095-8a9a-b181e8e8cb12",
   "metadata": {},
   "outputs": [
    {
     "name": "stdin",
     "output_type": "stream",
     "text": [
      "리스트의 숫자를 몇개 입력하시겠습니까? : \n",
      " 5\n",
      "1 번째 숫자는 :  8\n",
      "2 번째 숫자는 :  9\n",
      "3 번째 숫자는 :  6\n",
      "4 번째 숫자는 :  5\n",
      "5 번째 숫자는 :  4\n"
     ]
    },
    {
     "name": "stdout",
     "output_type": "stream",
     "text": [
      "([8, 6, 4], 18)\n"
     ]
    }
   ],
   "source": [
    "z = int(input('리스트의 숫자를 몇개 입력하시겠습니까? : \\n'))\n",
    "\n",
    "evenlist = []\n",
    "\n",
    "for i in range(z) :\n",
    "    c = int(input('%d 번째 숫자는 : ' %(i+1)))\n",
    "    evenlist.append(c)\n",
    "    \n",
    "s = pickup_even(evenlist)\n",
    "\n",
    "print(s)\n",
    "\n",
    "\n",
    "\n"
   ]
  },
  {
   "cell_type": "code",
   "execution_count": 151,
   "id": "faa3d06f-68da-476f-b529-dfad92fd7282",
   "metadata": {},
   "outputs": [],
   "source": [
    "'''\n",
    "숫자로 구성된 하나의 리스트를 입력받아 홀수들을 추출하여 합을 구하는 pickup_odd 함수를 구현하라\n",
    "pickup_even([3,4,5,6,7,8])\n",
    "->\n",
    "'''\n",
    "\n",
    "def odd(list) : #조장님꺼 보고 집에서 따라해보기\n",
    "    sum = 0\n",
    "\n",
    "    for b in range(len(list)) : \n",
    "        if list[b]%2 != 0 :  #list 속 [b]번째 값이 홀수인 경우\n",
    "            sum += list[b] #b번의 횟수동안 홀수값끼리 더해준다\n",
    "    return sum\n",
    "            \n",
    "            \n",
    "    "
   ]
  },
  {
   "cell_type": "code",
   "execution_count": 154,
   "id": "f21b4352-9ff2-486e-ab9f-7ab47204fb9d",
   "metadata": {},
   "outputs": [
    {
     "ename": "KeyboardInterrupt",
     "evalue": "Interrupted by user",
     "output_type": "error",
     "traceback": [
      "\u001b[1;31m---------------------------------------------------------------------------\u001b[0m",
      "\u001b[1;31mKeyboardInterrupt\u001b[0m                         Traceback (most recent call last)",
      "\u001b[1;32m~\\AppData\\Local\\Temp/ipykernel_5372/3459471520.py\u001b[0m in \u001b[0;36m<module>\u001b[1;34m\u001b[0m\n\u001b[1;32m----> 1\u001b[1;33m \u001b[0my\u001b[0m \u001b[1;33m=\u001b[0m \u001b[0mint\u001b[0m\u001b[1;33m(\u001b[0m\u001b[0minput\u001b[0m\u001b[1;33m(\u001b[0m\u001b[1;34m'몇개의 숫자를 입력하시겠습니까 : '\u001b[0m\u001b[1;33m)\u001b[0m\u001b[1;33m)\u001b[0m\u001b[1;33m\u001b[0m\u001b[1;33m\u001b[0m\u001b[0m\n\u001b[0m\u001b[0;32m      2\u001b[0m \u001b[1;33m\u001b[0m\u001b[0m\n\u001b[0;32m      3\u001b[0m \u001b[0mnumlist\u001b[0m \u001b[1;33m=\u001b[0m \u001b[1;33m[\u001b[0m\u001b[1;33m]\u001b[0m\u001b[1;33m\u001b[0m\u001b[1;33m\u001b[0m\u001b[0m\n\u001b[0;32m      4\u001b[0m \u001b[1;33m\u001b[0m\u001b[0m\n\u001b[0;32m      5\u001b[0m \u001b[1;33m\u001b[0m\u001b[0m\n",
      "\u001b[1;32m~\\Anaconda3\\lib\\site-packages\\ipykernel\\kernelbase.py\u001b[0m in \u001b[0;36mraw_input\u001b[1;34m(self, prompt)\u001b[0m\n\u001b[0;32m   1004\u001b[0m                 \u001b[1;34m\"raw_input was called, but this frontend does not support input requests.\"\u001b[0m\u001b[1;33m\u001b[0m\u001b[1;33m\u001b[0m\u001b[0m\n\u001b[0;32m   1005\u001b[0m             )\n\u001b[1;32m-> 1006\u001b[1;33m         return self._input_request(\n\u001b[0m\u001b[0;32m   1007\u001b[0m             \u001b[0mstr\u001b[0m\u001b[1;33m(\u001b[0m\u001b[0mprompt\u001b[0m\u001b[1;33m)\u001b[0m\u001b[1;33m,\u001b[0m\u001b[1;33m\u001b[0m\u001b[1;33m\u001b[0m\u001b[0m\n\u001b[0;32m   1008\u001b[0m             \u001b[0mself\u001b[0m\u001b[1;33m.\u001b[0m\u001b[0m_parent_ident\u001b[0m\u001b[1;33m[\u001b[0m\u001b[1;34m\"shell\"\u001b[0m\u001b[1;33m]\u001b[0m\u001b[1;33m,\u001b[0m\u001b[1;33m\u001b[0m\u001b[1;33m\u001b[0m\u001b[0m\n",
      "\u001b[1;32m~\\Anaconda3\\lib\\site-packages\\ipykernel\\kernelbase.py\u001b[0m in \u001b[0;36m_input_request\u001b[1;34m(self, prompt, ident, parent, password)\u001b[0m\n\u001b[0;32m   1049\u001b[0m             \u001b[1;32mexcept\u001b[0m \u001b[0mKeyboardInterrupt\u001b[0m\u001b[1;33m:\u001b[0m\u001b[1;33m\u001b[0m\u001b[1;33m\u001b[0m\u001b[0m\n\u001b[0;32m   1050\u001b[0m                 \u001b[1;31m# re-raise KeyboardInterrupt, to truncate traceback\u001b[0m\u001b[1;33m\u001b[0m\u001b[1;33m\u001b[0m\u001b[0m\n\u001b[1;32m-> 1051\u001b[1;33m                 \u001b[1;32mraise\u001b[0m \u001b[0mKeyboardInterrupt\u001b[0m\u001b[1;33m(\u001b[0m\u001b[1;34m\"Interrupted by user\"\u001b[0m\u001b[1;33m)\u001b[0m \u001b[1;32mfrom\u001b[0m \u001b[1;32mNone\u001b[0m\u001b[1;33m\u001b[0m\u001b[1;33m\u001b[0m\u001b[0m\n\u001b[0m\u001b[0;32m   1052\u001b[0m             \u001b[1;32mexcept\u001b[0m \u001b[0mException\u001b[0m\u001b[1;33m:\u001b[0m\u001b[1;33m\u001b[0m\u001b[1;33m\u001b[0m\u001b[0m\n\u001b[0;32m   1053\u001b[0m                 \u001b[0mself\u001b[0m\u001b[1;33m.\u001b[0m\u001b[0mlog\u001b[0m\u001b[1;33m.\u001b[0m\u001b[0mwarning\u001b[0m\u001b[1;33m(\u001b[0m\u001b[1;34m\"Invalid Message:\"\u001b[0m\u001b[1;33m,\u001b[0m \u001b[0mexc_info\u001b[0m\u001b[1;33m=\u001b[0m\u001b[1;32mTrue\u001b[0m\u001b[1;33m)\u001b[0m\u001b[1;33m\u001b[0m\u001b[1;33m\u001b[0m\u001b[0m\n",
      "\u001b[1;31mKeyboardInterrupt\u001b[0m: Interrupted by user"
     ]
    }
   ],
   "source": [
    "y = int(input('몇개의 숫자를 입력하시겠습니까 : '))\n",
    "\n",
    "numlist = []\n",
    "\n",
    "\n",
    "for j in range(y) :\n",
    "    d = int(input('입력하실 숫자 : '))\n",
    "    numlist.append(d)\n",
    "    \n",
    "t = odd(numlist)\n",
    "\n",
    "print(numlist)\n",
    "\n",
    "print('입력된 홀수의 합은 %d 입니다' %t)\n",
    "\n",
    "\n",
    "    "
   ]
  },
  {
   "cell_type": "code",
   "execution_count": 41,
   "id": "7aca236f-0035-4f4a-a2d8-7f171523ac84",
   "metadata": {},
   "outputs": [],
   "source": [
    "'''\n",
    "세개의 숫자를 입력 받아 가장 큰수를 출력하는 print_max 함수를 정의하라. 단 if 문을 사용해서 수를 비교하라\n",
    "'''\n",
    "\n",
    "\n",
    "def print_max1(a,b,c) :\n",
    "    \n",
    "    max = 0\n",
    "    \n",
    "    if a > b :\n",
    "        if b > c :\n",
    "            max = a\n",
    "        elif c > a :\n",
    "            max = c\n",
    "    elif b > c :\n",
    "        if c > a :\n",
    "            max = b\n",
    "    elif c > b :\n",
    "        if b > a :\n",
    "            max = c\n",
    "            \n",
    "    print('a,b,c 중 가장 큰 수는 %d 입니다' %max)\n",
    "    "
   ]
  },
  {
   "cell_type": "code",
   "execution_count": 155,
   "id": "ec00b23a-b6a8-43f9-83cc-417a3969c61d",
   "metadata": {
    "tags": []
   },
   "outputs": [
    {
     "name": "stdin",
     "output_type": "stream",
     "text": [
      " 7\n",
      " 8\n",
      " 9\n"
     ]
    },
    {
     "name": "stdout",
     "output_type": "stream",
     "text": [
      "a,b,c 중 가장 큰 수는 9 입니다\n"
     ]
    },
    {
     "data": {
      "text/plain": [
       "9"
      ]
     },
     "execution_count": 155,
     "metadata": {},
     "output_type": "execute_result"
    }
   ],
   "source": [
    "\n",
    "a = int(input())\n",
    "b = int(input())\n",
    "c = int(input())\n",
    "\n",
    "print_max1(a,b,c)\n",
    "\n",
    "max(a,b,c)"
   ]
  },
  {
   "cell_type": "code",
   "execution_count": 80,
   "id": "dacf5c9a-4635-4499-8983-259ed5b87dbb",
   "metadata": {},
   "outputs": [],
   "source": [
    "'''\n",
    "1.직삼각형\n",
    "2.원\n",
    "3.정사각형\n",
    "4.직사각형\n",
    "\n",
    "넓이를 구하시오  // 윗변,아랫변,반지름 변수 있어야함\n",
    "'''''\n",
    "\n",
    "def area(a,b,c) :\n",
    "    \n",
    "    print('윗변 %d 아랫변%d 반지름%d' %(a,b,c))\n",
    "    d = int(input('다음 숫자에 해당하는 도형의 넓이를 구합니다.\\n1. 직삼각형\\n2. 원\\n3. 정사각형\\n4. 직사각형\\n'))\n",
    "    \n",
    "    if d == 1 :\n",
    "        print('%d번은 직삼각형 입니다. ' %d)\n",
    "        print('직삼각형의 넓이는 윗변 %d ㎝ 아랫변 %d ㎝로 넓이는 % ㎠입니다 ' %(a,b,(a*b)/2))\n",
    "        \n",
    "    elif d == 2 :\n",
    "        print('%d번은 원 입니다. ' %d)\n",
    "        print('원의 넓이는 반지름 %d ㎝로 넓이는 %d ㎠입니다 ' %(c, (c**2)*3.14))\n",
    "   \n",
    "    elif d == 3 :\n",
    "        print('%d번은 정사각형 입니다. ' %d)\n",
    "        print('정사각형의 넓이는 윗변 %d ㎝ 아랫변 %d ㎝로 넓이는 % ㎠입니다 ' %a,a,a**2)\n",
    "        \n",
    "    elif d == 4 :\n",
    "        print('%d번은 직사각형 입니다. ' %d)\n",
    "        print('정사각형의 넓이는 윗변 %d ㎝ 아랫변 %d ㎝로 넓이는 % ㎠입니다 ' %a,b,a*b) \n",
    "    \n",
    "\n"
   ]
  },
  {
   "cell_type": "code",
   "execution_count": 79,
   "id": "24cc6ee0-0c79-4053-aae9-c7da56de8417",
   "metadata": {},
   "outputs": [
    {
     "name": "stdin",
     "output_type": "stream",
     "text": [
      " 5\n",
      " 9\n",
      " 10\n"
     ]
    },
    {
     "name": "stdout",
     "output_type": "stream",
     "text": [
      "\n",
      "윗변 5 아랫변9 반지름10\n"
     ]
    },
    {
     "name": "stdin",
     "output_type": "stream",
     "text": [
      "다음 숫자에 해당하는 도형의 넓이를 구합니다.\n",
      "1. 직삼각형\n",
      "2. 원\n",
      "3. 정사각형\n",
      "4. 직사각형\n",
      " 2\n"
     ]
    },
    {
     "name": "stdout",
     "output_type": "stream",
     "text": [
      "2번은 원 입니다. \n",
      "원의 넓이는 반지름 10 ㎝로 넓이는 314 ㎠입니다 \n"
     ]
    }
   ],
   "source": [
    "a = int(input())\n",
    "b = int(input())\n",
    "c = int(input()) ;print()\n",
    "\n",
    "area(a,b,c)"
   ]
  },
  {
   "cell_type": "code",
   "execution_count": null,
   "id": "c14792e7-79b0-4dce-8539-2f1313a4de8d",
   "metadata": {},
   "outputs": [],
   "source": []
  }
 ],
 "metadata": {
  "kernelspec": {
   "display_name": "Python 3 (ipykernel)",
   "language": "python",
   "name": "python3"
  },
  "language_info": {
   "codemirror_mode": {
    "name": "ipython",
    "version": 3
   },
   "file_extension": ".py",
   "mimetype": "text/x-python",
   "name": "python",
   "nbconvert_exporter": "python",
   "pygments_lexer": "ipython3",
   "version": "3.9.7"
  }
 },
 "nbformat": 4,
 "nbformat_minor": 5
}
