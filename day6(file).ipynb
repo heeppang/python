{
 "cells": [
  {
   "cell_type": "markdown",
   "id": "34652b50-817d-4fa3-9e87-5fdb4f0d2dd6",
   "metadata": {},
   "source": [
    "# File"
   ]
  },
  {
   "cell_type": "markdown",
   "id": "ebc63c89-3127-423d-8dce-916ab91c7291",
   "metadata": {},
   "source": [
    "#### file 을 python 으로 읽어 오는데는 stream 이 발생한다"
   ]
  },
  {
   "cell_type": "markdown",
   "id": "bb5d3d2a-94c1-498d-9964-fcd97f1bad88",
   "metadata": {},
   "source": [
    "##### text 파일을 불러올 때 영어를 제외한 언어는 인코딩이 필요하다"
   ]
  },
  {
   "cell_type": "markdown",
   "id": "7eccf306-765b-4b7f-a526-03b28cb86c4c",
   "metadata": {},
   "source": [
    "* r\t읽기모드 - 파일을 읽기만 할 때 사용\n",
    "* w\t쓰기모드 - 파일에 내용을 쓸 때 사용\n",
    "* a\t추가모드 - 파일의 마지막에 새로운 내용을 추가 시킬 때 사용\n",
    "* x 생성모드 - 파일 생성, 파일 존재하지 않을 경우 에러 반환"
   ]
  },
  {
   "cell_type": "code",
   "execution_count": 10,
   "id": "6259b7ad-c0e4-4a37-a620-07a3ae2079dd",
   "metadata": {},
   "outputs": [],
   "source": [
    "f = open('test.txt' , 'w' , encoding = 'utf-8')\n",
    "#쓰기 모드로 파일 오픈 (기존에 파일 존재하면 삭제하고 새로 생성)\n",
    "\n",
    "f.write (' 텍스트 파일을 새로 만들고 텍스트를 씁니다.\\n')  #줄바꿈 안하면 일렬로 쭉 붙는다\n",
    "f.write (' 텍스트 파일을 새로 만들고 텍스트를 씁니다.\\n')\n",
    "f.write (' 텍스트 파일을 새로 만들고 텍스트를 씁니다.\\n')\n",
    "f.close()"
   ]
  },
  {
   "cell_type": "code",
   "execution_count": 12,
   "id": "35d0a57a-0718-4d77-8ad7-a4576c3e357a",
   "metadata": {},
   "outputs": [
    {
     "name": "stdout",
     "output_type": "stream",
     "text": [
      " 텍스트 파일을 새로 만들고 텍스트를 씁니다.\n",
      "\n",
      " 텍스트 파일을 새로 만들고 텍스트를 씁니다.\n",
      "\n",
      " 텍스트 파일을 새로 만들고 텍스트를 씁니다.\n",
      "\n"
     ]
    }
   ],
   "source": [
    "f = open('test.txt' , 'r' , encoding = 'utf-8')\n",
    "\n",
    "# print( f.readline())   #readline 이라고 안 쓰고 read 라고 쓰면 한단어씩 읽음\n",
    "# print( f.readline())\n",
    "# print( f.readline())\n",
    "\n",
    "'''\n",
    "while True :\n",
    "    x = f.readline()\n",
    "    print(type(x))\n",
    "    if x != '':    #x가 빈 문자열이 아니면 print 하라는 뜻.\n",
    "        print(x)\n",
    "    # if x == True : #빈 문자열이면 False 이므로 True 일 경우 print 하라고 명령어 작성 가능\n",
    "    #     print(x)\n",
    "    else :\n",
    "        break\n",
    "'''\n",
    "\n",
    "\n",
    "line = f.readlines()\n",
    "\n",
    "for i in line :\n",
    "    print(i)\n",
    "\n",
    "\n",
    "        \n",
    "f.close()"
   ]
  },
  {
   "cell_type": "code",
   "execution_count": 8,
   "id": "cb033de3-0498-4cd0-96f6-518b2308e3af",
   "metadata": {},
   "outputs": [],
   "source": [
    "f = open('test.txt' , 'w' )\n",
    "\n",
    "f.write (' 텍스트 파일을 새로 만들고 텍스트를 씁니다.\\n')\n",
    "f.write (' 텍스트 파일을 새로 만들고 텍스트를 씁니다.\\n')\n",
    "f.write (' 텍스트 파일을 새로 만들고 텍스트를 씁니다.\\n')\n",
    "f.close()"
   ]
  },
  {
   "cell_type": "code",
   "execution_count": null,
   "id": "970f2bf2-8b0f-48c2-90a9-ef9183a2edd6",
   "metadata": {},
   "outputs": [],
   "source": [
    "f = open('test.txt' , 'r' )\n",
    "\n",
    "# print(f.read(10)) \n",
    "    \n",
    "# print( f.readline())\n",
    "# print( f.readline())\n",
    "# print( f.readline())\n",
    "\n",
    "f.close()"
   ]
  },
  {
   "cell_type": "code",
   "execution_count": 23,
   "id": "03b1ab3d-3843-4864-ad1d-3c325f071ccc",
   "metadata": {},
   "outputs": [],
   "source": [
    "with open('test.txt' , 'a' , encoding='utf-8') as test :   # 자동 close\n",
    "    \n",
    "    test.write('테스트1 입니다.\\n')\n",
    "    test.write('테스트2 입니다.\\n')\n",
    "    "
   ]
  },
  {
   "cell_type": "code",
   "execution_count": 24,
   "id": "d11d811a-9019-4c88-b6cf-0d3b752be66e",
   "metadata": {},
   "outputs": [
    {
     "name": "stdout",
     "output_type": "stream",
     "text": [
      "테스트1 입니다.\n",
      "\n",
      "테스트2 입니다.\n",
      "\n"
     ]
    }
   ],
   "source": [
    "with open('test.txt' , 'r' , encoding='utf-8') as test : \n",
    "\n",
    "    \n",
    "    line = f.readlines()\n",
    "\n",
    "for i in line :\n",
    "    print(i)"
   ]
  },
  {
   "cell_type": "code",
   "execution_count": 54,
   "id": "55657fea-fe34-460a-8776-b2976f8ea827",
   "metadata": {},
   "outputs": [
    {
     "name": "stdout",
     "output_type": "stream",
     "text": [
      "[{\"name\": \"John\", \"age\": 30, \"city\": \"New York\"}, {\"name\": \"Joseph\", \"age\": 19, \"city\": \"New York\"}, {\"name\": \"James\", \"age\": 17, \"city\": \"New York\"}] <class 'str'>\n"
     ]
    }
   ],
   "source": [
    "import json\n",
    "\n",
    "\n",
    "json_object = [{ \n",
    "                \"name\" : \"John\",  \n",
    "                \"age\" : 30, \n",
    "                \"city\" : \"New York\" },\n",
    "             { \n",
    "                \"name\" : \"Joseph\",  \n",
    "                \"age\" : 19, \n",
    "                \"city\" : \"New York\" },\n",
    "             { \n",
    "                \"name\" : \"James\",  \n",
    "                \"age\" : 17, \n",
    "                \"city\" : \"New York\" }]\n",
    "        \n",
    "\n",
    "json_string = json.dumps(json_object)  \n",
    "\n",
    "print(json_string, type(json_string))\n",
    "\n"
   ]
  },
  {
   "cell_type": "code",
   "execution_count": null,
   "id": "b0aecae9-bed1-4498-8b4f-107f2f60b2ed",
   "metadata": {},
   "outputs": [
    {
     "ename": "SyntaxError",
     "evalue": "invalid syntax (Temp/ipykernel_6876/2924380279.py, line 17)",
     "output_type": "error",
     "traceback": [
      "\u001b[1;36m  File \u001b[1;32m\"C:\\Users\\BIT\\AppData\\Local\\Temp/ipykernel_6876/2924380279.py\"\u001b[1;36m, line \u001b[1;32m17\u001b[0m\n\u001b[1;33m    k = with open('json_object.json' , 'w' , encoding = 'utf-8') as json_object :\u001b[0m\n\u001b[1;37m        ^\u001b[0m\n\u001b[1;31mSyntaxError\u001b[0m\u001b[1;31m:\u001b[0m invalid syntax\n"
     ]
    }
   ],
   "source": [
    "import json\n",
    "\n",
    "\n",
    "json_object = '''[{ \n",
    "                \"name\" : \"John\",  \n",
    "                \"age\" : 30, \n",
    "                \"city\" : \"New York\" },\n",
    "             { \n",
    "                \"name\" : \"Joseph\",  \n",
    "                \"age\" : 19, \n",
    "                \"city\" : \"New York\" },\n",
    "             { \n",
    "                \"name\" : \"James\",  \n",
    "                \"age\" : 17, \n",
    "                \"city\" : \"New York\" }]'''\n",
    "\n",
    "k = open('json_object.json' , 'w' , encoding = 'utf-8')\n",
    "\n",
    "k.write('[{\"name\": \"John\", \"age\": 30, \"city\": \"New York\"}, {\"name\": \"Joseph\", \"age\": 19, \"city\": \"New York\"}, {\"name\": \"James\", \"age\": 17, \"city\": \"New York\"}]')\n",
    "\n",
    "\n",
    "\n"
   ]
  },
  {
   "cell_type": "code",
   "execution_count": 53,
   "id": "be731abb-c533-47c6-94e7-0ad0b485b322",
   "metadata": {},
   "outputs": [
    {
     "name": "stdout",
     "output_type": "stream",
     "text": [
      "[{\"name\": \"John\", \"age\": 30, \"city\": \"New York\"}, {\"name\": \"Joseph\", \"age\": 19, \"city\": \"New York\"}, {\"name\": \"James\", \"age\": 17, \"city\": \"New York\"}]\n"
     ]
    }
   ],
   "source": [
    "k = open('json_object.json' , 'r' , encoding = 'utf-8')\n",
    "\n",
    "print( k.readline() )\n",
    "\n",
    "k.close()\n"
   ]
  },
  {
   "cell_type": "code",
   "execution_count": 58,
   "id": "f6a9f0c0-d803-4bb6-9640-a39a29f33a34",
   "metadata": {},
   "outputs": [
    {
     "name": "stdout",
     "output_type": "stream",
     "text": [
      "[{\"name\": \"John\", \"age\": 30, \"city\": \"New York\"}, {\"name\": \"Joseph\", \"age\": 19, \"city\": \"New York\"}, {\"name\": \"James\", \"age\": 17, \"city\": \"New York\"}] <class 'str'>\n"
     ]
    }
   ],
   "source": [
    "import json\n",
    "\n",
    "\n",
    "json_object = [{ \n",
    "                \"name\" : \"John\",  \n",
    "                \"age\" : 30, \n",
    "                \"city\" : \"New York\" },\n",
    "             { \n",
    "                \"name\" : \"Joseph\",  \n",
    "                \"age\" : 19, \n",
    "                \"city\" : \"New York\" },\n",
    "             { \n",
    "                \"name\" : \"James\",  \n",
    "                \"age\" : 17, \n",
    "                \"city\" : \"New York\" }]\n",
    "        \n",
    "\n",
    "json_string = json.dumps(json_object)  \n",
    "\n",
    "print(json_string, type(json_string))"
   ]
  },
  {
   "cell_type": "code",
   "execution_count": 59,
   "id": "c4bf247d-0aa6-4777-8276-14abdd727f68",
   "metadata": {},
   "outputs": [],
   "source": [
    "\n",
    "\n",
    "k = open('json_object.json' , 'w' , encoding = 'utf-8')\n",
    "\n",
    "k.write('[{\"name\": \"John\", \"age\": 30, \"city\": \"New York\"}, {\"name\": \"Joseph\", \"age\": 19, \"city\": \"New York\"}, {\"name\": \"James\", \"age\": 17, \"city\": \"New York\"}]')\n",
    "\n",
    "k.close()"
   ]
  },
  {
   "cell_type": "code",
   "execution_count": 60,
   "id": "ec6214a7-1865-4f35-8c28-58e382536978",
   "metadata": {},
   "outputs": [
    {
     "name": "stdout",
     "output_type": "stream",
     "text": [
      "[{\"name\": \"John\", \"age\": 30, \"city\": \"New York\"}, {\"name\": \"Joseph\", \"age\": 19, \"city\": \"New York\"}, {\"name\": \"James\", \"age\": 17, \"city\": \"New York\"}]\n"
     ]
    }
   ],
   "source": [
    "k = open('json_object.json' , 'r' , encoding = 'utf-8')\n",
    "\n",
    "print( k.readline())\n",
    "\n",
    "k.close()"
   ]
  },
  {
   "cell_type": "code",
   "execution_count": 92,
   "id": "50447664-b534-41b5-8db3-200d8682b03c",
   "metadata": {},
   "outputs": [
    {
     "name": "stdout",
     "output_type": "stream",
     "text": [
      "[{\"name\": \"John\", \"age\": 30, \"city\": \"New York\"}, {\"name\": \"Joseph\", \"age\": 19, \"city\": \"New York\"}, {\"name\": \"James\", \"age\": 17, \"city\": \"New York\"}] <class 'str'>\n"
     ]
    }
   ],
   "source": [
    "import json\n",
    "\n",
    "\n",
    "python_list = [{ \n",
    "                \"name\" : \"John\",  \n",
    "                \"age\" : 30, \n",
    "                \"city\" : \"New York\" },\n",
    "             { \n",
    "                \"name\" : \"Joseph\",  \n",
    "                \"age\" : 19, \n",
    "                \"city\" : \"New York\" },\n",
    "             { \n",
    "                \"name\" : \"James\",  \n",
    "                \"age\" : 17, \n",
    "                \"city\" : \"New York\" }]\n",
    "        \n",
    "\n",
    "json_string = json.dumps(python_list)  \n",
    "\n",
    "print(json_string, type(json_string))"
   ]
  },
  {
   "cell_type": "code",
   "execution_count": 93,
   "id": "86b963ed-0c1f-4507-826a-68b767cb5a8b",
   "metadata": {},
   "outputs": [],
   "source": [
    "k = open('json_string.json' , 'w' , encoding = 'utf-8')\n",
    "\n",
    "k.write('''[{\"name\": \"John\", \"age\": 30, \"city\": \"New York\"}, {\"name\": \"Joseph\", \"age\": 19, \"city\": \"New York\"}, {\"name\": \"James\", \"age\": 17, \"city\": \"New York\"}]''')\n",
    "\n",
    "k.close()"
   ]
  },
  {
   "cell_type": "code",
   "execution_count": 94,
   "id": "c09cc8fa-4c46-4fbb-9931-f19fdf8733d8",
   "metadata": {},
   "outputs": [
    {
     "name": "stdout",
     "output_type": "stream",
     "text": [
      "[{\"name\": \"John\", \"age\": 30, \"city\": \"New York\"}, {\"name\": \"Joseph\", \"age\": 19, \"city\": \"New York\"}, {\"name\": \"James\", \"age\": 17, \"city\": \"New York\"}]\n"
     ]
    }
   ],
   "source": [
    "k = open('json_string.json' , 'r' , encoding = 'utf-8')\n",
    "\n",
    "print( k.readline())\n",
    "\n",
    "k.close()"
   ]
  },
  {
   "cell_type": "code",
   "execution_count": 76,
   "id": "c7e9e345-73dc-4db2-b695-f7d0a5b1db2f",
   "metadata": {},
   "outputs": [
    {
     "name": "stdout",
     "output_type": "stream",
     "text": [
      "[{'name': 'John', 'age': 30, 'city': 'New York'}, {'name': 'Joseph', 'age': 19, 'city': 'New York'}, {'name': 'James', 'age': 17, 'city': 'New York'}]\n"
     ]
    }
   ],
   "source": [
    "with open('json_object.json' , 'r') as f :\n",
    "    pp = json.load(f)\n",
    "    print(pp)"
   ]
  },
  {
   "cell_type": "code",
   "execution_count": 123,
   "id": "72923cfb-3de4-4b8e-b779-beae5dc4731a",
   "metadata": {},
   "outputs": [
    {
     "name": "stdout",
     "output_type": "stream",
     "text": [
      "<class 'requests.models.Response'>\n",
      "403\n"
     ]
    }
   ],
   "source": [
    "import requests\n",
    "import json\n",
    "\n",
    "response = requests.get('http://api.github.com')\n",
    "#response = 제공, requests = client의 요청\n",
    "\n",
    "print(type(response)) #<class 'requests.models.Response'>\n",
    "print(response.status_code)\n",
    "\n",
    "response.status_code # 200일 경우 정상으로 다음 작업 수행. 404,403일 경우 not found , 500번대 error는 서버 문제\n",
    "\n",
    "#if response.status_code == 200 :\n",
    "    # print(response.text)\n",
    "    # print(response.content)  #property 로 변수임. 고로 ()를 안써도 된다\n",
    "json_object = json.loads(response.text)  #json 문자열을 python 으로 \n",
    "    \n",
    "# print(json_object['current_user_url'])\n",
    "    \n",
    "\n"
   ]
  },
  {
   "cell_type": "code",
   "execution_count": 126,
   "id": "5b745a0d-8930-4e99-92af-494e6b374fd9",
   "metadata": {},
   "outputs": [],
   "source": [
    "with open('url.json' , 'w' , encoding='utf-8') as url :   # 자동 close\n",
    "    \n",
    "    url.write('http://api.github.com')\n",
    "    "
   ]
  },
  {
   "cell_type": "code",
   "execution_count": 128,
   "id": "b6ad0899-e6ea-4bc8-bc46-fb40fadef9dd",
   "metadata": {},
   "outputs": [
    {
     "name": "stdout",
     "output_type": "stream",
     "text": [
      "['http://api.github.com']\n"
     ]
    }
   ],
   "source": [
    "with open('url.json' , 'r' , encoding='utf-8') as url : \n",
    "\n",
    "    \n",
    "    line1 = url.readlines()\n",
    "\n",
    "    print(line1)"
   ]
  },
  {
   "cell_type": "code",
   "execution_count": 130,
   "id": "45f3c10f-56d6-489a-9a2c-a0b093040abc",
   "metadata": {},
   "outputs": [
    {
     "name": "stdout",
     "output_type": "stream",
     "text": [
      "<class 'requests.models.Response'>\n",
      "403\n",
      "b'{\"message\":\"API rate limit exceeded for 183.98.215.25. (But here\\'s the good news: Authenticated requests get a higher rate limit. Check out the documentation for more details.)\",\"documentation_url\":\"https://docs.github.com/rest/overview/resources-in-the-rest-api#rate-limiting\"}\\n'\n"
     ]
    }
   ],
   "source": [
    "import requests\n",
    "import json\n",
    "\n",
    "response = requests.get('http://api.github.com')\n",
    "#response = 제공, requests = client의 요청\n",
    "\n",
    "print(type(response)) #<class 'requests.models.Response'>\n",
    "print(response.status_code)\n",
    "\n",
    "response.status_code # 200일 경우 정상으로 다음 작업 수행. 404,403일 경우 not found , 500번대 error는 서버 문제\n",
    "\n",
    "if response.status_code == 403 :\n",
    "    print(response.content)  #property 로 변수임. 고로 ()를 안써도 된다\n",
    "json_object = json.loads(response.text)  #json 문자열을 python 으로 \n",
    "    \n",
    "# print(json_object['current_user_url'])"
   ]
  },
  {
   "cell_type": "code",
   "execution_count": 132,
   "id": "4044f5f4-a3f1-4b5b-910c-7e54cd5af52f",
   "metadata": {},
   "outputs": [],
   "source": [
    "with open('response.json' , 'w' , encoding='utf-8') as url :   # 자동 close\n",
    "    \n",
    "    url.write('http://api.github.com')"
   ]
  },
  {
   "cell_type": "code",
   "execution_count": 133,
   "id": "4680690f-072d-4ee3-be21-f95202c4de2b",
   "metadata": {},
   "outputs": [
    {
     "name": "stdout",
     "output_type": "stream",
     "text": [
      "['http://api.github.com']\n"
     ]
    }
   ],
   "source": [
    "with open('response.json' , 'r' , encoding='utf-8') as url : \n",
    "\n",
    "    \n",
    "    line1 = url.readlines()\n",
    "\n",
    "    print(line1)"
   ]
  },
  {
   "cell_type": "code",
   "execution_count": null,
   "id": "d6f009f6-7408-474c-8d70-fbca6bfc9d64",
   "metadata": {},
   "outputs": [],
   "source": []
  }
 ],
 "metadata": {
  "kernelspec": {
   "display_name": "Python 3 (ipykernel)",
   "language": "python",
   "name": "python3"
  },
  "language_info": {
   "codemirror_mode": {
    "name": "ipython",
    "version": 3
   },
   "file_extension": ".py",
   "mimetype": "text/x-python",
   "name": "python",
   "nbconvert_exporter": "python",
   "pygments_lexer": "ipython3",
   "version": "3.9.7"
  }
 },
 "nbformat": 4,
 "nbformat_minor": 5
}
