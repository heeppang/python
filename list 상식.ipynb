{
 "cells": [
  {
   "cell_type": "markdown",
   "id": "7e5153a7-8abb-45e4-bb10-92e5c2f1d0c6",
   "metadata": {},
   "source": [
    "#list 와 관련된 함수"
   ]
  },
  {
   "cell_type": "code",
   "execution_count": 3,
   "id": "ddadc420-a33c-447a-a9da-ac820367cf0f",
   "metadata": {},
   "outputs": [
    {
     "name": "stdout",
     "output_type": "stream",
     "text": [
      "['딸기', '포도', '바나나', '사과', '딸기'] <class 'list'>\n",
      "['현대', '기아', '르노', '타요버스'] <class 'list'>\n",
      "['orange', '딸기', '포도', '바나나', '사과', '딸기']\n",
      "['현대', '기아', '르노', 'pord', '타요버스']\n",
      "6\n",
      "5\n",
      "['orange', '딸기', '포도', '바나나']\n",
      "['orange', '딸기', '포도', '사과', '딸기']\n",
      "['orange', '딸기', '사과', '딸기']\n",
      "['orange', '딸기', '딸기', '사과']\n",
      "['사과', '딸기', '딸기', 'orange']\n",
      "딸기\n",
      "['사과', '딸기', 'orange']\n",
      "['orange', '딸기', '사과']\n"
     ]
    }
   ],
   "source": [
    "my_fruits = ['딸기', '포도', '바나나']\n",
    "my_car = ['현대', '기아']\n",
    "\n",
    "my_fruits.append('사과') \n",
    "my_fruits.append('딸기')  # append 는 무조건 뒤에 붙음. 중복값이 허용됨을 알 수 있다\n",
    "print(my_fruits, type(my_fruits))\n",
    "\n",
    "my_car.append('르노')\n",
    "my_car.append('타요버스')\n",
    "print(my_car, type(my_car))\n",
    "\n",
    "my_fruits.insert(0, 'orange') # insert는 index 정보를 추가해준다\n",
    "print(my_fruits)\n",
    "my_car.insert(3, 'pord')\n",
    "print(my_car)\n",
    "\n",
    "print(len(my_fruits))\n",
    "print(len(my_car))\n",
    "\n",
    "print(my_fruits[:4])\n",
    "\n",
    "my_fruits.remove(my_fruits[3])\n",
    "print(my_fruits)\n",
    "\n",
    "my_fruits.remove('포도')\n",
    "print(my_fruits)\n",
    "\n",
    "# my_fruits. 치고 tab 을 누르면 list 에 적용 가능한 함수가 뜬다\n",
    "# my_fruits.insert 등을 치고 shift+tab 을 누르면 함수에 대한 설명이 나온다\n",
    "\n",
    "my_fruits.sort() # 오름차순 정렬\n",
    "print(my_fruits)\n",
    "\n",
    "my_fruits.sort(reverse=True) #내림차순 정렬\n",
    "\n",
    "print(my_fruits)\n",
    "a = my_fruits.pop(-2) #항목을 얻은 후 삭제하는 함수임\n",
    "print(a)\n",
    "print(my_fruits)\n",
    "\n",
    "my_fruits.reverse()\n",
    "print(my_fruits)\n"
   ]
  },
  {
   "cell_type": "code",
   "execution_count": null,
   "id": "e2a248e9-bb04-4d76-b02b-b4acd07da349",
   "metadata": {
    "tags": []
   },
   "outputs": [],
   "source": []
  },
  {
   "cell_type": "code",
   "execution_count": null,
   "id": "7f466eb0-191b-4cff-a1b6-4b56c9689e44",
   "metadata": {},
   "outputs": [],
   "source": []
  }
 ],
 "metadata": {
  "kernelspec": {
   "display_name": "Python 3 (ipykernel)",
   "language": "python",
   "name": "python3"
  },
  "language_info": {
   "codemirror_mode": {
    "name": "ipython",
    "version": 3
   },
   "file_extension": ".py",
   "mimetype": "text/x-python",
   "name": "python",
   "nbconvert_exporter": "python",
   "pygments_lexer": "ipython3",
   "version": "3.9.7"
  }
 },
 "nbformat": 4,
 "nbformat_minor": 5
}
