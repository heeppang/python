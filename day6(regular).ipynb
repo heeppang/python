{
 "cells": [
  {
   "cell_type": "markdown",
   "id": "f77cb67e-e002-41f8-9213-0a1b41cc5643",
   "metadata": {},
   "source": [
    "# 정규식"
   ]
  },
  {
   "cell_type": "code",
   "execution_count": 6,
   "id": "e4a396de-51c8-464f-a308-bd575a0d6349",
   "metadata": {},
   "outputs": [
    {
     "name": "stdout",
     "output_type": "stream",
     "text": [
      "<class 're.Pattern'>\n",
      "<re.Match object; span=(0, 1), match='a'>\n",
      "<re.Match object; span=(0, 1), match='b'>\n",
      "<re.Match object; span=(0, 1), match='a'>\n"
     ]
    }
   ],
   "source": [
    "import re  #regular expression\n",
    "\n",
    "p = re.compile('[abc]')\n",
    "print(type(p))\n",
    "\n",
    "print(p.match('a'))\n",
    "print(p.match('b'))\n",
    "print(p.match('ac'))"
   ]
  },
  {
   "cell_type": "code",
   "execution_count": 8,
   "id": "acb71a00-822b-46ab-b1a5-dc04bc7c7265",
   "metadata": {},
   "outputs": [
    {
     "name": "stdout",
     "output_type": "stream",
     "text": [
      "<class 're.Pattern'>\n",
      "<re.Match object; span=(0, 1), match='a'>\n",
      "<re.Match object; span=(0, 1), match='b'>\n",
      "<re.Match object; span=(0, 1), match='a'>\n"
     ]
    }
   ],
   "source": [
    "import re  #regular expression\n",
    "\n",
    "p = re.compile('[a-z]')\n",
    "print(type(p))\n",
    "\n",
    "print(p.match('a'))\n",
    "print(p.match('b'))\n",
    "print(p.match('ac'))"
   ]
  },
  {
   "cell_type": "code",
   "execution_count": 9,
   "id": "535d2e87-9268-4e73-9ddf-6517e7f2c76a",
   "metadata": {},
   "outputs": [
    {
     "name": "stdout",
     "output_type": "stream",
     "text": [
      "<class 're.Pattern'>\n",
      "None\n",
      "None\n",
      "None\n"
     ]
    }
   ],
   "source": [
    "import re  #regular expression\n",
    "\n",
    "p = re.compile('[a-z]')\n",
    "print(type(p))\n",
    "\n",
    "print(p.match('A'))\n",
    "print(p.match('B'))\n",
    "print(p.match('AC'))"
   ]
  },
  {
   "cell_type": "code",
   "execution_count": 10,
   "id": "a623051a-d581-4cf3-b00b-1190f7363626",
   "metadata": {},
   "outputs": [
    {
     "name": "stdout",
     "output_type": "stream",
     "text": [
      "None\n"
     ]
    }
   ],
   "source": [
    "import re\n",
    "p = re.compile('a.b')\n",
    "#p = re.compile('a.b', re.DOTALL)\n",
    "\n",
    "print(p.match('a\\nb'))"
   ]
  },
  {
   "cell_type": "code",
   "execution_count": 11,
   "id": "5117caf8-7d7c-4f79-b2e9-e509fc0b47c5",
   "metadata": {},
   "outputs": [
    {
     "data": {
      "text/plain": [
       "<re.Match object; span=(0, 3), match='a\\nb'>"
      ]
     },
     "execution_count": 11,
     "metadata": {},
     "output_type": "execute_result"
    }
   ],
   "source": [
    "import re\n",
    "# p = re.compile('a.b')\n",
    "p = re.compile('a.b', re.DOTALL) #re.S\n",
    " \n",
    "p.match('a\\nb')"
   ]
  },
  {
   "cell_type": "code",
   "execution_count": 15,
   "id": "0f35b0ab-8992-4ee8-b9a7-2ef7e8adac3e",
   "metadata": {},
   "outputs": [
    {
     "name": "stdout",
     "output_type": "stream",
     "text": [
      "<re.Match object; span=(0, 1), match='p'>\n",
      "<re.Match object; span=(0, 1), match='P'>\n",
      "<re.Match object; span=(0, 1), match='P'>\n"
     ]
    }
   ],
   "source": [
    "import re\n",
    "\n",
    "# p = re.compile('[a-z]')\n",
    "p = re.compile('[a-z]', re.I) #re.I = ignore case 대소문자 구별 x\n",
    "\n",
    "print(p.match('python'))\n",
    "print(p.match('Python'))\n",
    "print(p.match('PYTHON'))"
   ]
  },
  {
   "cell_type": "code",
   "execution_count": 16,
   "id": "d46f5f2b-6de8-4c98-af9f-bc65ee49803a",
   "metadata": {},
   "outputs": [
    {
     "name": "stdout",
     "output_type": "stream",
     "text": [
      "<re.Match object; span=(0, 1), match='p'>\n",
      "None\n",
      "None\n"
     ]
    }
   ],
   "source": [
    "import re\n",
    "\n",
    "p = re.compile('[a-z]')   #a-z부터 모든 데이터\n",
    "\n",
    "print(p.match('python'))\n",
    "print(p.match('Python'))\n",
    "print(p.match('PYTHON'))"
   ]
  },
  {
   "cell_type": "code",
   "execution_count": 34,
   "id": "bf2f7448-eb13-4e0a-aeab-b573079fe8bb",
   "metadata": {},
   "outputs": [
    {
     "name": "stdout",
     "output_type": "stream",
     "text": [
      "['python one', 'python two', 'python three']\n",
      "<re.Match object; span=(0, 10), match='python one'>\n"
     ]
    }
   ],
   "source": [
    "import re\n",
    "\n",
    "p = re.compile(\"^python\\s\\w+\" , re.MULTILINE) #여러줄에서 python으로 시작하는 글자 찾기\n",
    "\n",
    "data = \"\"\"python one\n",
    "life is too short\n",
    "python two\n",
    "you need python\n",
    "python three\"\"\"\n",
    "\n",
    "print(p.findall(data))  #일치하는 모든 데이터를 찾기\n",
    "print(p.match(data))"
   ]
  },
  {
   "cell_type": "markdown",
   "id": "cc7471ae-1842-43ce-acc1-e3f8790c3f95",
   "metadata": {},
   "source": [
    "#### * match 는 문자열에서 시작부터 일치하는 패턴을 찾는다.\n",
    "#### * search 는 문자열 전체에서 검색하여 처음으로 매치되는 문자열을 찾는다."
   ]
  },
  {
   "cell_type": "code",
   "execution_count": 47,
   "id": "d14d9443-2744-4675-858a-0e7da5b7e66e",
   "metadata": {},
   "outputs": [
    {
     "name": "stdout",
     "output_type": "stream",
     "text": [
      "<re.Match object; span=(0, 5), match='aaaaa'>\n",
      "<re.Match object; span=(0, 5), match='bbbbb'>\n",
      "<re.Match object; span=(0, 1), match='a'>\n",
      "None\n",
      "0\n",
      "1\n",
      "--------------------------------------------------\n",
      "<re.Match object; span=(0, 5), match='aaaaa'>\n",
      "<re.Match object; span=(0, 5), match='bbbbb'>\n",
      "<re.Match object; span=(0, 1), match='a'>\n",
      "<re.Match object; span=(2, 5), match='abb'>\n",
      "2\n",
      "5\n",
      "--------------------------------------------------\n",
      "['aaa']\n",
      "['aaa']\n",
      "['a', 'a', 'a', 'a', 'a', 'a', 'a', 'a', 'a']\n",
      "['aa', 'aaaa', 'aa', 'aa', 'aaaa']\n",
      "--------------------------------------------------\n",
      "<callable_iterator object at 0x0000020CD17E8A30>\n",
      "<re.Match object; span=(0, 1), match='a'>\n",
      "<re.Match object; span=(2, 4), match='bb'>\n",
      "<re.Match object; span=(5, 8), match='ccc'>\n"
     ]
    }
   ],
   "source": [
    "import re\n",
    "\n",
    "p = re.compile('[a-z]+')  # +는 여러개라는 뜻\n",
    "\n",
    "print(p.match('aaaaa'))  #첫글자부터 a-z중 문자와 매치되는 것 찾기\n",
    "print(p.match('bbbbb'))\n",
    "print(p.match('a1bbb'))\n",
    "print(p.match('11abb'))\n",
    "\n",
    "x = p.match('a1bbb')\n",
    "print(x.start())   #매치되는 첫번째 인덱스를 찾아주는 function\n",
    "print(x.end())     #매치되는 마지막 인덱스를 찾아주는 function\n",
    "\n",
    "\n",
    "print('-'*50)\n",
    "\n",
    "\n",
    "print(p.search('aaaaa')) #순서와 상관없이 a-z중 문자열과 매치되는 패턴 찾기\n",
    "print(p.search('bbbbb'))\n",
    "print(p.search('a1bbb'))\n",
    "print(p.search('11abb'))\n",
    "\n",
    "y = p.search('11abb')\n",
    "print(y.start())   #매치되는 첫번째 인덱스를 찾아주는 function\n",
    "print(y.end())\n",
    "\n",
    "\n",
    "print('-'*50)\n",
    "\n",
    "\n",
    "print(p.findall('aaa'))  #일치하는 모든 문자열을 찾아줌\n",
    "print(p.findall('11aaa'))\n",
    "print(p.findall('1a1a1a1a1a1a1a1a1a'))\n",
    "print(p.findall('1aa1aaaa1aa1aa1aaaa'))\n",
    "\n",
    "\n",
    "print('-'*50)\n",
    "\n",
    "\n",
    "print(p.finditer('a1bb1ccc'))  #iterator 는 반환값을 string이 아닌 객체로 변환\n",
    "\n",
    "iterator = p.finditer('a1bb1ccc')\n",
    "\n",
    "for i in iterator :\n",
    "    print(i)\n",
    "\n",
    "\n",
    "\n"
   ]
  },
  {
   "cell_type": "code",
   "execution_count": null,
   "id": "9ad75194-644b-4957-b083-d88b231efb9a",
   "metadata": {},
   "outputs": [],
   "source": []
  },
  {
   "cell_type": "code",
   "execution_count": 7,
   "id": "c72f2ece-4a09-4911-b7ec-222a2b12c572",
   "metadata": {
    "tags": []
   },
   "outputs": [
    {
     "name": "stdout",
     "output_type": "stream",
     "text": [
      "['26', '31', '30', '34']\n",
      "['Heesang', 'Saem', 'Seongwoo', 'Mingyeom']\n",
      "<class 'list'>\n",
      "<class 'str'>\n",
      "{'Heesang': '26', 'Saem': '31', 'Seongwoo': '30', 'Mingyeom': '34'}\n"
     ]
    }
   ],
   "source": [
    "import re\n",
    "\n",
    "Nameage = '''\n",
    "Heesang is 26 and Saem is 31\n",
    "Seongwoo is 30 and Mingyeom is 34\n",
    "'''\n",
    "\n",
    "age = re.compile('\\d{1,3}') #세자릿수\n",
    "#re.compile('\\d{2}')\n",
    "name = re.compile('[A-Z][a-z]*') # 대문자 한글자와 소문자 여러개로 이루어진 것을 찾는 방법\n",
    "#name = re.compile('[a-z]+', re.I)\n",
    "#name = re.compile('\\w') ←대소문자 상관없다\n",
    "\n",
    "\n",
    "#ages = re.findall('\\d{1,3}', Nameage)\n",
    "#names = re.findall('[A-Z][a-z]*' , Nameage)\n",
    "\n",
    "ages = age.findall(Nameage)\n",
    "print(ages)\n",
    "\n",
    "names = name.findall(Nameage)\n",
    "print(names)\n",
    "print(type(names))\n",
    "\n",
    "print(type(names[0]))\n",
    "\n",
    "myDict = {}\n",
    "\n",
    "j = 0\n",
    "\n",
    "for i in names :\n",
    "    myDict[i] = ages[j]\n",
    "    j += 1\n",
    "print(myDict)\n",
    "\n",
    "# j = 0\n",
    "    \n",
    "# for i in ages :\n",
    "#     myDict[i] = ages[j]\n",
    "#     j += 1\n",
    "# print(myDict)\n",
    "    "
   ]
  },
  {
   "cell_type": "code",
   "execution_count": null,
   "id": "9a2a8cff-a495-44df-8c2f-95278e130511",
   "metadata": {},
   "outputs": [],
   "source": []
  },
  {
   "cell_type": "code",
   "execution_count": 6,
   "id": "85f7e1c9-8011-4b02-b807-36020e1d18d5",
   "metadata": {},
   "outputs": [
    {
     "name": "stdout",
     "output_type": "stream",
     "text": [
      "<class 'requests.models.Response'>\n",
      "200\n"
     ]
    }
   ],
   "source": [
    "'''\n",
    "http://www.summet.com/dmsi/html/codesamples/addresses.html\n",
    "\n",
    "에서 request 와 response 를 이용해\n",
    "전화번호만 뽑아 \n",
    "phone.txt 파일에 저장한다\n",
    "\n",
    "\n",
    "\n",
    "전화번호부 txt 파일로 만들기\n",
    "\n",
    "\n",
    "\n",
    "'''\n",
    "\n",
    "import re\n",
    "import requests\n",
    "import json\n",
    "\n",
    "response = requests.get('http://www.summet.com/dmsi/html/codesamples/addresses.html')\n",
    "#response = 제공, requests = client의 요청\n",
    "\n",
    "all = response.text\n",
    "\n",
    "print(type(response)) #<class 'requests.models.Response'>\n",
    "print(response.status_code)\n",
    "\n",
    "response.status_code # 200일 경우 정상으로 다음 작업 수행. 404,403일 경우 not found , 500번대 error는 서버 문제\n",
    "\n",
    "# if response.status_code == 200 :\n",
    "#     print(response.text)\n",
    "    # print(response.content)  #property 로 변수임. 고로 ()를 안써도 된다\n",
    "    \n",
    "# print(json_object['current_user_url'])\n",
    "\n",
    "num = re.compile('\\(\\d{3}\\) \\d{3}-\\d{4}')  #()를 특수문자라서 인식 못하므로 맨 앞에 \\를 붙혀줌\n",
    "\n",
    "num_list = num.findall(all)\n",
    "\n",
    "# print(num_list)\n",
    "\n",
    "# for nb in num_list :\n",
    "#     print(nb)\n",
    "\n",
    "\n",
    "#여기서 부턴 하률양 코드 참고했음\n",
    "\n",
    "with open(\"phoneNum.txt\", \"w\", encoding=\"utf-8\") as phone :\n",
    "    for n in num_list :\n",
    "        phone.write('%s \\n' %n)       #string 형태로 전화번호의 n번째 문자열을 \\n한줄씩 띄어 추가\n",
    "\n",
    "\n",
    "\n",
    "\n"
   ]
  },
  {
   "cell_type": "code",
   "execution_count": 117,
   "id": "6cb036c9-c14f-4391-9824-2cda2cf8bc44",
   "metadata": {},
   "outputs": [],
   "source": [
    "# '''\n",
    "# 전화번호부 txt 파일로 만들기\n",
    "# '''\n",
    "\n",
    "# f = open('phoneNum.txt' , 'w' , encoding = 'utf-8')\n",
    "# #쓰기 모드로 파일 오픈 (기존에 파일 존재하면 삭제하고 새로 생성)\n",
    "\n",
    "# f.writelines(num_list)\n",
    "\n",
    "# f.close()\n"
   ]
  },
  {
   "cell_type": "code",
   "execution_count": 118,
   "id": "b9646e43-2916-4510-b76d-ea536f67f0f7",
   "metadata": {},
   "outputs": [
    {
     "name": "stdout",
     "output_type": "stream",
     "text": [
      "['(257) 563-7401(372) 587-2335(786) 713-8616(793) 151-6230(492) 709-6392(654) 393-5734(404) 960-3807(314) 244-6306(947) 278-5929(684) 579-1879(389) 737-2852(660) 663-4518(608) 265-2215(959) 119-8364(468) 353-2641(248) 675-4007(939) 353-1107(570) 873-7090(302) 259-2375(717) 450-4729(453) 391-4650(559) 104-5475(387) 142-9434(516) 745-4496(326) 677-3419(746) 679-2470(455) 430-0989(490) 936-4694(985) 834-8285(662) 661-1446(802) 668-8240(477) 768-9247(791) 239-9057(832) 109-0213(837) 196-3274(268) 442-2428(850) 676-5117(861) 546-5032(176) 805-4108(715) 912-6931(993) 554-0563(357) 616-5411(121) 347-0086(304) 506-6314(425) 288-2332(145) 987-4962(187) 582-9707(750) 558-3965(492) 467-3131(774) 914-2510(888) 106-8550(539) 567-3573(693) 337-2849(545) 604-9386(221) 156-5026(414) 876-0865(932) 726-8645(726) 710-9826(622) 594-1662(948) 600-8503(605) 900-7508(716) 977-5775(368) 239-8275(725) 342-0650(711) 993-5187(882) 399-5084(287) 755-9948(659) 551-3389(275) 730-6868(725) 757-4047(314) 882-1496(639) 360-7590(168) 222-1592(896) 303-1164(203) 982-6130(906) 217-1470(614) 514-1269(763) 409-5446(836) 292-5324(926) 709-3295(963) 356-9268(736) 522-8584(410) 483-0352(252) 204-1434(874) 886-4174(581) 379-7573(983) 632-8597(295) 983-3476(873) 392-8802(360) 669-3923(840) 987-9449(422) 517-6053(126) 940-2753(427) 930-5255(689) 721-5145(676) 334-2174(437) 994-5270(564) 908-6970(577) 333-6244(655) 840-6139']\n"
     ]
    }
   ],
   "source": [
    "# f = open('phoneNum.txt' , 'r' , encoding = 'utf-8')\n",
    "\n",
    "# print( f.readlines() )   #readline 이라고 안 쓰고 read 라고 쓰면 한단어씩 읽음\n",
    "# # print( f.readline())\n",
    "# # print( f.readline())\n",
    "\n",
    "# '''\n",
    "# while True :\n",
    "#     x = f.readline()\n",
    "#     print(type(x))\n",
    "#     if x != '':    #x가 빈 문자열이 아니면 print 하라는 뜻.\n",
    "#         print(x)\n",
    "#     # if x == True : #빈 문자열이면 False 이므로 True 일 경우 print 하라고 명령어 작성 가능\n",
    "#     #     print(x)\n",
    "#     else :\n",
    "#         break\n",
    "# '''\n",
    "\n",
    "\n",
    "# num_list = f.readlines()\n",
    "\n",
    "    \n",
    "\n",
    "\n",
    "        \n",
    "# f.close()"
   ]
  },
  {
   "cell_type": "code",
   "execution_count": null,
   "id": "2b4216d5-89ea-4bbd-92a2-e8419873824e",
   "metadata": {},
   "outputs": [],
   "source": []
  },
  {
   "cell_type": "code",
   "execution_count": null,
   "id": "02c57b48-ce61-4abb-9908-01fb406dca5b",
   "metadata": {},
   "outputs": [],
   "source": []
  },
  {
   "cell_type": "code",
   "execution_count": null,
   "id": "e36627e4-1046-4523-9c69-d9f6cba6766b",
   "metadata": {},
   "outputs": [],
   "source": []
  }
 ],
 "metadata": {
  "kernelspec": {
   "display_name": "Python 3 (ipykernel)",
   "language": "python",
   "name": "python3"
  },
  "language_info": {
   "codemirror_mode": {
    "name": "ipython",
    "version": 3
   },
   "file_extension": ".py",
   "mimetype": "text/x-python",
   "name": "python",
   "nbconvert_exporter": "python",
   "pygments_lexer": "ipython3",
   "version": "3.9.7"
  }
 },
 "nbformat": 4,
 "nbformat_minor": 5
}
