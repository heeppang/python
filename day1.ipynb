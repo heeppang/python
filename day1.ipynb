{
 "cells": [
  {
   "cell_type": "markdown",
   "id": "c3d0f5d9-dbe6-4c7d-b51d-15a51e49bbfe",
   "metadata": {},
   "source": [
    "# 20211227"
   ]
  },
  {
   "cell_type": "markdown",
   "id": "20511fd3-ecfc-4827-9b48-be57b1182279",
   "metadata": {},
   "source": [
    "## 파이썬 1"
   ]
  },
  {
   "cell_type": "markdown",
   "id": "64e2535b-fbc7-478e-9b36-d937848cc427",
   "metadata": {},
   "source": [
    "### 아나콘다 다운, 주피터, 마크다운 익히기"
   ]
  },
  {
   "cell_type": "markdown",
   "id": "e6066ac5-d782-4b10-a31e-4c889eef9d85",
   "metadata": {},
   "source": [
    "#### 마크다운을 잘 이용하면 필기와 소스코드가 함께 가능"
   ]
  },
  {
   "cell_type": "markdown",
   "id": "bb0d8471-685e-45e3-91c9-bddfe20a623f",
   "metadata": {},
   "source": [
    "* cell은 실행단위이다."
   ]
  },
  {
   "cell_type": "markdown",
   "id": "3c4dd9ec-5812-4bb5-8fdf-f67da1ab53ea",
   "metadata": {},
   "source": [
    "* markdown 상태에서 #은 글자크기 조절이지만 파이썬 실행상태에선 #은 주석이 된다"
   ]
  },
  {
   "cell_type": "code",
   "execution_count": null,
   "id": "6ac98610-c084-4eb5-8845-6bcdf3b6cd53",
   "metadata": {},
   "outputs": [],
   "source": []
  },
  {
   "cell_type": "code",
   "execution_count": null,
   "id": "a534a020-7ebe-4e00-9f15-62732683fa90",
   "metadata": {},
   "outputs": [],
   "source": [
    "### 테스트 제목 3\n",
    "\n",
    "세 번째 레벨 제목입니다\n",
    "페이지 섹션에 사용됩니다"
   ]
  },
  {
   "cell_type": "code",
   "execution_count": null,
   "id": "d84aeec9-fc77-41c4-b982-b08e916c9701",
   "metadata": {},
   "outputs": [],
   "source": [
    "##### 테스트 제목 5\n",
    "\n",
    "하위 섹션 아래의 하위 섹션 제목입니다"
   ]
  },
  {
   "cell_type": "code",
   "execution_count": null,
   "id": "78d021cd-3f76-424d-9e3d-2b87d987f621",
   "metadata": {},
   "outputs": [],
   "source": []
  },
  {
   "cell_type": "code",
   "execution_count": null,
   "id": "86aa0353-a712-4600-b8af-517f6343a1c6",
   "metadata": {},
   "outputs": [],
   "source": []
  },
  {
   "cell_type": "code",
   "execution_count": null,
   "id": "d149c1d1-bdcb-4b0c-a776-0927dba04693",
   "metadata": {},
   "outputs": [],
   "source": []
  },
  {
   "cell_type": "code",
   "execution_count": null,
   "id": "8f6ea345-2381-42d1-a60a-930bfda23540",
   "metadata": {},
   "outputs": [],
   "source": []
  },
  {
   "cell_type": "code",
   "execution_count": null,
   "id": "d01a45a6-cc92-42ab-aa26-900cc50be042",
   "metadata": {},
   "outputs": [],
   "source": []
  },
  {
   "cell_type": "code",
   "execution_count": null,
   "id": "c361b0be-079f-488d-a131-0e835f949a13",
   "metadata": {},
   "outputs": [],
   "source": []
  },
  {
   "cell_type": "code",
   "execution_count": null,
   "id": "0cc0a5a6-9fc2-407a-adf2-042c099715eb",
   "metadata": {},
   "outputs": [],
   "source": []
  },
  {
   "cell_type": "code",
   "execution_count": null,
   "id": "0196d8ec-d634-40ae-907b-4487da7496e8",
   "metadata": {},
   "outputs": [],
   "source": []
  },
  {
   "cell_type": "code",
   "execution_count": null,
   "id": "4a03d5d9-b7a6-47fc-b9d6-086f48baf97f",
   "metadata": {},
   "outputs": [],
   "source": []
  },
  {
   "cell_type": "code",
   "execution_count": null,
   "id": "2c0ed424-4934-4206-8fc0-39e5925c9358",
   "metadata": {},
   "outputs": [],
   "source": []
  },
  {
   "cell_type": "code",
   "execution_count": null,
   "id": "dd6e62ed-1b53-487d-ada0-aab728a75051",
   "metadata": {},
   "outputs": [],
   "source": []
  },
  {
   "cell_type": "code",
   "execution_count": null,
   "id": "a780d5ad-c1fd-4de3-9ffd-6692f22a1944",
   "metadata": {},
   "outputs": [],
   "source": []
  },
  {
   "cell_type": "code",
   "execution_count": null,
   "id": "320ccb73-0185-4883-a837-3b7c3d66a8da",
   "metadata": {},
   "outputs": [],
   "source": []
  },
  {
   "cell_type": "code",
   "execution_count": null,
   "id": "626f2496-0410-4cc7-97da-c1ca793fd4ab",
   "metadata": {
    "tags": []
   },
   "outputs": [],
   "source": []
  },
  {
   "cell_type": "code",
   "execution_count": null,
   "id": "dfd6e04e-13c5-4123-b515-87f8faeca914",
   "metadata": {},
   "outputs": [],
   "source": []
  },
  {
   "cell_type": "code",
   "execution_count": null,
   "id": "bb2d9a65-acd5-4376-8b51-755d7c2a8f38",
   "metadata": {},
   "outputs": [],
   "source": []
  },
  {
   "cell_type": "code",
   "execution_count": null,
   "id": "8621c666-5352-49e4-9613-468a9d61a4c5",
   "metadata": {},
   "outputs": [],
   "source": []
  },
  {
   "cell_type": "code",
   "execution_count": null,
   "id": "8bc95bd0-fd42-48c4-95d4-200560ef41c6",
   "metadata": {},
   "outputs": [],
   "source": []
  },
  {
   "cell_type": "code",
   "execution_count": null,
   "id": "6d62001d-fe68-4fed-a861-83af0b06fae6",
   "metadata": {},
   "outputs": [],
   "source": []
  },
  {
   "cell_type": "code",
   "execution_count": null,
   "id": "97eb504b-85c7-433e-9e14-fddf5144c56e",
   "metadata": {},
   "outputs": [],
   "source": []
  }
 ],
 "metadata": {
  "kernelspec": {
   "display_name": "Python 3 (ipykernel)",
   "language": "python",
   "name": "python3"
  },
  "language_info": {
   "codemirror_mode": {
    "name": "ipython",
    "version": 3
   },
   "file_extension": ".py",
   "mimetype": "text/x-python",
   "name": "python",
   "nbconvert_exporter": "python",
   "pygments_lexer": "ipython3",
   "version": "3.9.7"
  }
 },
 "nbformat": 4,
 "nbformat_minor": 5
}
