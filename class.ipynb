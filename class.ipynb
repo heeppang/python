{
 "cells": [
  {
   "cell_type": "markdown",
   "id": "d0574f04-95f6-46b5-9766-009c0a1929c2",
   "metadata": {},
   "source": [
    "*1. 클래스의 정의 "
   ]
  },
  {
   "cell_type": "code",
   "execution_count": 94,
   "id": "7c9c36ab-d987-46a1-89ed-0b8b9ea7cefe",
   "metadata": {
    "tags": []
   },
   "outputs": [],
   "source": [
    "class Car() :\n",
    "    \n",
    "    def __init__(self, id, name) : #생성자 init 은 꼭 써야한다. ※self 는 매개변수 아님, 별다른 의미는 없으므로 해석하는데 신경 쓸 필요없음\n",
    "        self.id = id\n",
    "        self.name = name\n",
    "        \n",
    "    def my_print(self) :\n",
    "        print(self.id, self.name)\n",
    "        \n",
    "    def get_id(self) :\n",
    "        return self.id\n",
    "    \n",
    "    def get_name(self) :\n",
    "        return self.name\n",
    "    \n",
    "    \n",
    "        "
   ]
  },
  {
   "cell_type": "code",
   "execution_count": 102,
   "id": "070b35db-77d9-4ece-a1c2-95e793ea8685",
   "metadata": {},
   "outputs": [
    {
     "name": "stdout",
     "output_type": "stream",
     "text": [
      "<bound method Car.my_print of <__main__.Car object at 0x0000023533ED1700>>\n",
      "5555  bmw\n",
      "4444 benz\n",
      "6666 audi\n",
      "**************************************************\n",
      "5555\n",
      "4444\n",
      " bmw benz audi\n",
      "5555\n",
      "<class '__main__.Car'>\n",
      "<class '__main__.Car'> <class '__main__.Car'>\n",
      "**************************************************\n"
     ]
    }
   ],
   "source": [
    "c1 = Car('5555',' bmw') #객체생성\n",
    "c2 = Car('4444', 'benz')\n",
    "c3 = Car('6666','audi')\n",
    "\n",
    "\n",
    "print(c1.my_print)  \n",
    "\n",
    "c1.my_print()  #객체 뒤엔 반드시 .을 찍는다 .찍고 함수호출\n",
    "c2.my_print()\n",
    "c3.my_print()\n",
    "\n",
    "print('*'*50)\n",
    "\n",
    "f = c1.get_id()\n",
    "f1 = c2.get_id()\n",
    "print(f)\n",
    "print(f1)\n",
    "\n",
    "m = c1.get_name()\n",
    "m1 = c2.get_name()\n",
    "m2 = c3.get_name()\n",
    "print(m, m1, m2)\n",
    "\n",
    "cars = [c1, c2, c3]\n",
    "\n",
    "x = cars[0].get_id()\n",
    "print(x)\n",
    "\n",
    "print(type(cars[0]))\n",
    "\n",
    "print(type(c1), type(c2))\n",
    "\n",
    "print('*'*50)\n",
    "\n",
    "for x in cars :\n",
    "    x.get_id()\n"
   ]
  },
  {
   "cell_type": "code",
   "execution_count": 82,
   "id": "efd2a668-b03e-4f35-beb9-c804f78ab3d1",
   "metadata": {
    "tags": []
   },
   "outputs": [],
   "source": [
    "class Person() :\n",
    "    \n",
    "    def __init__(self, name, age) :\n",
    "        self.name = name\n",
    "        self.age = age\n",
    "        \n",
    "    def my_print(self) :\n",
    "        print(self.name, self.age)"
   ]
  },
  {
   "cell_type": "code",
   "execution_count": 83,
   "id": "96a811c0-591f-4866-a425-dd4da72fb1b6",
   "metadata": {},
   "outputs": [
    {
     "name": "stdout",
     "output_type": "stream",
     "text": [
      "Jenny 15\n",
      "Rose 17\n",
      "Lisa 16\n"
     ]
    }
   ],
   "source": [
    "p1 = Person('Jenny', 15)\n",
    "p2 = Person('Rose' , 17)\n",
    "p3 = Person('Lisa' , 16)\n",
    "\n",
    "p1.my_print()\n",
    "p2.my_print()\n",
    "p3.my_print()"
   ]
  },
  {
   "cell_type": "code",
   "execution_count": 70,
   "id": "6db3dd9f-8b2b-41f7-80b5-2683dfbf0040",
   "metadata": {
    "tags": []
   },
   "outputs": [],
   "source": [
    "class Flower() :\n",
    "    \n",
    "    def __init__(self, season, color) :\n",
    "        self.season = season\n",
    "        self.color = color\n",
    "    \n",
    "    def my_print(self) :\n",
    "        print(self.season , self.color)\n",
    "    \n",
    "    "
   ]
  },
  {
   "cell_type": "code",
   "execution_count": 76,
   "id": "4a486218-0f66-43bb-b892-896ea89e99c2",
   "metadata": {
    "tags": []
   },
   "outputs": [
    {
     "name": "stdout",
     "output_type": "stream",
     "text": [
      "spring red\n",
      "summer yellow\n",
      "fall orange\n"
     ]
    }
   ],
   "source": [
    "f1 = Flower('spring', 'red')\n",
    "f2 = Flower('summer', 'yellow')\n",
    "f3 = Flower('fall', 'orange')\n",
    "\n",
    "f1.my_print()\n",
    "f2.my_print()\n",
    "f3.my_print()"
   ]
  },
  {
   "cell_type": "code",
   "execution_count": 156,
   "id": "49b86eb8-d176-47ee-bd7c-df910becb0c4",
   "metadata": {
    "tags": []
   },
   "outputs": [],
   "source": [
    "'''\n",
    "class Student 를 만든다. \n",
    "객체 5개를 만든다. (학생)\n",
    "학생별 항목은 이름 국어 영어 수학\n",
    "매개변수별 getter 함수를 만든다\n",
    "총점함수 getter_sum()도 만든다\n",
    "\n",
    "'''\n",
    "\n",
    "class Student() :\n",
    "    \n",
    "    def __init__(self, name, kor, eng, math) :\n",
    "        self.name = name\n",
    "        self.kor = kor\n",
    "        self.eng = eng\n",
    "        self.math = math\n",
    "       \n",
    "    def get_name(self) :\n",
    "        return self.name\n",
    "    def get_kor(self) :\n",
    "        return self.kor\n",
    "    def get_eng(self) :\n",
    "        return self.eng\n",
    "    def get_math(self) :\n",
    "        return self.math\n",
    "    \n",
    "    def get_sum(self) :\n",
    "        return self.kor+self.eng+self.math\n",
    "\n",
    "    \n",
    "    \n",
    "    \n",
    "\n",
    "\n",
    "\n",
    "\n",
    "\n",
    "\n",
    "\n",
    "\n",
    "\n",
    "\n",
    "\n"
   ]
  },
  {
   "cell_type": "code",
   "execution_count": 178,
   "id": "a5493ee7-1f06-42af-80c2-acaa448d2dff",
   "metadata": {},
   "outputs": [
    {
     "name": "stdout",
     "output_type": "stream",
     "text": [
      "Jenny 50 60 70\n",
      "Rose 60 70 90\n",
      "Lisa 70 90 50\n",
      "Jisu 40 100 80\n",
      "Winter 80 80 60\n",
      "\n",
      "Jenny의 점수 : 180점\n",
      "Rose의 점수 : 220점\n",
      "Lisa의 점수 : 210점\n",
      "Jisu의 점수 : 220점\n",
      "Winter의 점수 : 220점\n",
      "[50, 60, 70, 40, 80]\n",
      "[180, 220, 210, 220, 220]\n"
     ]
    }
   ],
   "source": [
    "s1 = Student('Jenny' , 50 , 60 , 70)\n",
    "s2 = Student('Rose' , 60 , 70 , 90)\n",
    "s3 = Student('Lisa' , 70 , 90 , 50 )\n",
    "s4 = Student('Jisu' , 40 , 100 , 80)\n",
    "s5 = Student('Winter' , 80 , 80 , 60)\n",
    "\n",
    "w = s1.get_name(); w1 = s1.get_kor() ; w2 = s1.get_eng() ; w3 = s1.get_math()\n",
    "\n",
    "q = s2.get_name(); q1 = s2.get_kor() ; q2 = s2.get_eng() ; q3 = s2.get_math()\n",
    "\n",
    "e = s3.get_name(); e1 = s3.get_kor() ;e2 = s3.get_eng() ; e3 = s3.get_math()\n",
    "\n",
    "r = s4.get_name(); r1 = s4.get_kor() ;r2 = s4.get_eng() ; r3 = s4.get_math()\n",
    "\n",
    "y = s5.get_name(); y1 = s5.get_kor() ;y2 = s5.get_eng() ; y3 = s5.get_math()\n",
    "\n",
    "print(w,w1,w2,w3)\n",
    "print(q,q1,q2,q3)\n",
    "print(e,e1,e2,e3)\n",
    "print(r,r1,r2,r3)\n",
    "print(y,y1,y2,y3)\n",
    "\n",
    "ws = s1.get_sum()\n",
    "qs = s2.get_sum()\n",
    "es = s3.get_sum()\n",
    "rs = s4.get_sum()\n",
    "ys = s5.get_sum()\n",
    "\n",
    "\n",
    "print('\\n%s의 점수 : %d점\\n%s의 점수 : %d점\\n%s의 점수 : %d점\\n%s의 점수 : %d점\\n%s의 점수 : %d점' %(w,ws,q,qs,e,es,r,rs,y,ys))\n",
    "\n",
    "\n",
    "idol_list = [s1,s2,s3,s4,s5]\n",
    "\n",
    "sum_list = []\n",
    "kor_list = []\n",
    "\n",
    "for n in idol_list :\n",
    "    sum_list.append(n.get_sum())\n",
    "    kor_list.append(n.get_kor())\n",
    "    \n",
    "print(kor_list)\n",
    "print(sum_list)\n",
    "\n",
    "\n",
    "\n",
    "# sum(sum_list) #sum 함수를 이용함\n",
    "\n",
    "\n",
    "\n",
    "\n",
    "\n",
    "\n"
   ]
  },
  {
   "cell_type": "code",
   "execution_count": null,
   "id": "b9255a8c-9357-49fa-abe5-1681e19e04eb",
   "metadata": {},
   "outputs": [],
   "source": []
  }
 ],
 "metadata": {
  "kernelspec": {
   "display_name": "Python 3 (ipykernel)",
   "language": "python",
   "name": "python3"
  },
  "language_info": {
   "codemirror_mode": {
    "name": "ipython",
    "version": 3
   },
   "file_extension": ".py",
   "mimetype": "text/x-python",
   "name": "python",
   "nbconvert_exporter": "python",
   "pygments_lexer": "ipython3",
   "version": "3.9.7"
  }
 },
 "nbformat": 4,
 "nbformat_minor": 5
}
