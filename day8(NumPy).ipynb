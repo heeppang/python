{
 "cells": [
  {
   "cell_type": "markdown",
   "id": "94b810ff-d5ce-427b-8ed9-d05b9dc75018",
   "metadata": {},
   "source": [
    "### NumPy"
   ]
  },
  {
   "cell_type": "code",
   "execution_count": 11,
   "id": "e5e1eea2-cd0c-4b0d-ba58-bb629f1ef752",
   "metadata": {},
   "outputs": [
    {
     "name": "stdout",
     "output_type": "stream",
     "text": [
      "[1 2 3 4 5]\n",
      "(5,)\n",
      "int32\n",
      "1\n",
      "5\n",
      "4\n",
      "<memory at 0x000002204FA09640>\n"
     ]
    }
   ],
   "source": [
    "import numpy as np   #numpy를 np 라고 줄인 다는 뜻\n",
    "\n",
    "#list 는 가변 array 는 고정\n",
    "\n",
    "\n",
    "arr = np.array([1, 2, 3, 4, 5])\n",
    "    \n",
    "\n",
    "print(arr)\n",
    "\n",
    "print(arr.shape)  # shape : 배열의 형태 (,) 하나만 있다는 것은 1차원이라는 뜻임\n",
    "\n",
    "print(arr.dtype)  # dtype : 요소의 데이터 타입, int32, float32 등등\n",
    "\n",
    "print(arr.ndim) # 차원수. x.ndim = 1, y.ndim=2 등이며 len(x.shape) 와 동일\n",
    "\n",
    "print(arr.size) # size : 요소의 개수. shape의 모든 값의 곱. x.size = 3, y.size=6 등\n",
    " \n",
    "print(arr.itemsize) # itemsize : 요소 데이터 타입의 크기(byte 단위), x.itemsize=8 등\n",
    "\n",
    "print(arr.data) # data : 실제 데이터. 직접 사용자가 접근할 필요는 없음\n"
   ]
  },
  {
   "cell_type": "code",
   "execution_count": 28,
   "id": "0918d042-2847-4ebb-ae4d-e2445182bbe6",
   "metadata": {},
   "outputs": [
    {
     "name": "stdout",
     "output_type": "stream",
     "text": [
      "[[1 2 3]\n",
      " [4 5 6]]\n",
      "(2, 3)\n",
      "2\n",
      "6\n"
     ]
    }
   ],
   "source": [
    "import numpy as np\n",
    "\n",
    "\n",
    "arr = np.array([[1, 2, 3] , [4, 5, 6]])\n",
    "\n",
    "print(arr)\n",
    "print(arr.shape)# shape : 배열의 형태 (,) 하나만 있다는 것은 1차원이라는 뜻임\n",
    "print(arr.ndim) # 차원수. x.ndim = 1, y.ndim=2 등이며 len(x.shape) 와 동일\n",
    "print(arr.size)\n",
    "\n",
    "\n"
   ]
  },
  {
   "cell_type": "code",
   "execution_count": 34,
   "id": "ecb4f39a-b3a3-48b8-af45-a33289340da4",
   "metadata": {},
   "outputs": [
    {
     "name": "stdout",
     "output_type": "stream",
     "text": [
      "[[[1 2 3]\n",
      "  [4 5 6]]\n",
      "\n",
      " [[1 2 3]\n",
      "  [4 5 6]]]\n",
      "3\n",
      "(2, 2, 3)\n",
      "<class 'numpy.ndarray'>\n",
      "12\n"
     ]
    }
   ],
   "source": [
    "import numpy as np\n",
    "\n",
    "arr = np.array([[[1,2,3],\n",
    "                 [4,5,6]],\n",
    "               [[1,2,3],\n",
    "                [4,5,6]]])  #[[[a]]] 대괄호가 세개이므로 3차원\n",
    "\n",
    "print(arr)\n",
    "\n",
    "print(arr.ndim)# 차원수. x.ndim = 1, y.ndim=2 등이며 len(x.shape) 와 동일\n",
    "print(arr.shape)# shape : 배열의 형태 (,) 하나만 있다는 것은 1차원이라는 뜻임\n",
    "print(type(arr)) #type class 'numpy.ndarray'\n",
    "print(arr.size)\n",
    "\n"
   ]
  },
  {
   "cell_type": "code",
   "execution_count": 43,
   "id": "48a3bbc9-5571-410d-ab31-f0e191d5f26a",
   "metadata": {},
   "outputs": [
    {
     "name": "stdout",
     "output_type": "stream",
     "text": [
      "0\n",
      "1\n",
      "2\n",
      "[1. 2. 3. 1. 2. 3. 1. 2. 3.]\n"
     ]
    }
   ],
   "source": [
    "import numpy as np\n",
    "\n",
    "\n",
    "arr = np.array([])\n",
    "\n",
    "for i in range(3) :\n",
    "    arr = np.append(arr,[1,2,3])\n",
    "    \n",
    "    print(i)\n",
    "print(arr)\n",
    "\n"
   ]
  },
  {
   "cell_type": "code",
   "execution_count": 33,
   "id": "4a924abd-f466-48a9-9c8a-f492e9a748e0",
   "metadata": {},
   "outputs": [
    {
     "name": "stdout",
     "output_type": "stream",
     "text": [
      "[[0. 0. 0. 0.]\n",
      " [0. 0. 0. 0.]\n",
      " [0. 0. 0. 0.]]\n",
      "--------------------------------------------------\n",
      "[[[1 1 1 1]\n",
      "  [1 1 1 1]\n",
      "  [1 1 1 1]]\n",
      "\n",
      " [[1 1 1 1]\n",
      "  [1 1 1 1]\n",
      "  [1 1 1 1]]]\n",
      "--------------------------------------------------\n",
      "[[7 7]\n",
      " [7 7]]\n"
     ]
    }
   ],
   "source": [
    "import numpy as np\n",
    "\n",
    "\n",
    "arr = np.zeros((3,4))   #3행 4열을 만드는 함수\n",
    "print(arr)\n",
    "\n",
    "print('-'*50)\n",
    "arr = np.ones((2,3,4),dtype=np.int16) #3차원 배열\n",
    "# np.ones(shape, dtype=None, order='C'), 지정된 shape의 배열을 생성하고, 모든 요소를 1로 초기화\n",
    "print(arr)\n",
    "\n",
    "\n",
    "print('-'*50)\n",
    "arr = np.full((2,2),7) \n",
    "# np.full(shape, fill_value, dtype=None, order='C'), 지정된 shape의 배열을 생성하고, 모든 요소를 지정한 \"fill_value\"로 초기화\n",
    "#여기선 value가 7이고 2행 2열\n",
    "print(arr)\n"
   ]
  },
  {
   "cell_type": "code",
   "execution_count": 7,
   "id": "f0fdb146-e7dc-4ef0-92a0-c2118d83c754",
   "metadata": {},
   "outputs": [
    {
     "name": "stdout",
     "output_type": "stream",
     "text": [
      "[ 1.   2.8  4.6  6.4  8.2 10. ]\n"
     ]
    }
   ],
   "source": [
    "import numpy as np\n",
    "\n",
    "arr = np.linspace(0, 1, 5)  # start부터 stop의 범위에서 num개를 균일한 간격으로 데이터를 생성하고 배열을 만드는 함수\n",
    "#쉽게 말해 0부터 1까지 일정한 간격으로 5개의 숫자를 출력한다\n",
    "\n",
    "\n",
    "\n",
    "arr = np.linspace(1, 10, 6)\n",
    "print(arr)"
   ]
  },
  {
   "cell_type": "code",
   "execution_count": 56,
   "id": "6319e456-2bdc-4346-a9cc-605121525046",
   "metadata": {},
   "outputs": [
    {
     "name": "stdout",
     "output_type": "stream",
     "text": [
      "1\n",
      "[[1 2 3]\n",
      " [4 5 6]]\n",
      "2\n",
      "[[1 2 3]\n",
      " [4 5 6]]\n",
      "3\n",
      "[[1 2 3]\n",
      " [4 5 6]]\n",
      "4\n",
      "[[1 2 3]\n",
      " [4 5 6]]\n",
      "5\n",
      "[[1 2 3]\n",
      " [4 5 6]]\n",
      "6\n",
      "[[1 2 3]\n",
      " [4 5 6]]\n"
     ]
    }
   ],
   "source": [
    "import numpy as np\n",
    "\n",
    "\n",
    "\n",
    "arr = np.array([[1,2,3],[4,5,6]])  \n",
    "\n",
    "for a in arr :  #arr은 [1,2,3]는 0번째 행, [4,5,6] 은 1번째 행\n",
    "    for i in a :\n",
    "        print(i)\n"
   ]
  },
  {
   "cell_type": "code",
   "execution_count": 62,
   "id": "b8b103f8-572c-48d6-a4d8-eca32c297d9b",
   "metadata": {},
   "outputs": [
    {
     "name": "stdout",
     "output_type": "stream",
     "text": [
      "1\n",
      "2\n",
      "3\n",
      "4\n",
      "5\n",
      "6\n",
      "1\n",
      "2\n",
      "3\n",
      "4\n",
      "5\n",
      "6\n",
      "[[[1 2 3]\n",
      "  [4 5 6]]\n",
      "\n",
      " [[1 2 3]\n",
      "  [4 5 6]]]\n"
     ]
    }
   ],
   "source": [
    "import numpy as np\n",
    "\n",
    "arr = np.array([[[1,2,3],\n",
    "                 [4,5,6]],\n",
    "               [[1,2,3],\n",
    "                [4,5,6]]]) \n",
    "\n",
    "\n",
    "for i in arr :\n",
    "    for j in i :\n",
    "        for k in j :\n",
    "            print(k)\n",
    "            \n",
    "print(arr[:2])"
   ]
  },
  {
   "cell_type": "code",
   "execution_count": 64,
   "id": "38212735-779c-4b59-a617-60729867fad0",
   "metadata": {},
   "outputs": [
    {
     "name": "stdout",
     "output_type": "stream",
     "text": [
      "[0 1 2 3]\n",
      "[0 4]\n",
      "[[0 1 2]\n",
      " [4 5 6]]\n"
     ]
    }
   ],
   "source": [
    "import numpy as np\n",
    "\n",
    "arr = np.array([[0,1,2,3],[4,5,6,7]])\n",
    "\n",
    "\n",
    "#array 의 순서는 arr[행 : 열] 순임\n",
    "\n",
    "print(arr[0, :]) # 0행 모든열\n",
    "print(arr[: , 0]) # 모든행의 0열\n",
    "print(arr[0:2, :-1]) #0~1행, 처음부터 마지막 열까지\n",
    "\n",
    "\n"
   ]
  },
  {
   "cell_type": "markdown",
   "id": "41f08289-a7b3-4e75-b484-0f34c9255f6b",
   "metadata": {},
   "source": [
    "### object.copy()"
   ]
  },
  {
   "cell_type": "code",
   "execution_count": 68,
   "id": "2488be8f-2aeb-42a3-801f-627d54d10419",
   "metadata": {},
   "outputs": [
    {
     "name": "stdout",
     "output_type": "stream",
     "text": [
      "[1 6 7 8 9]\n",
      "[2 6 7 8 9]\n"
     ]
    }
   ],
   "source": [
    "import numpy as np\n",
    "\n",
    "\n",
    "arr = np.array([5,6,7,8,9])\n",
    "\n",
    "x = arr.copy()\n",
    "arr[0] = 1  # arr의 0번째 열만 1로 바뀐다\n",
    "x[0] = 2 #x의 0번째 열만 2로 바뀐다\n",
    "\n",
    "\n",
    "print(arr)\n",
    "print(x)"
   ]
  },
  {
   "cell_type": "markdown",
   "id": "261661e7-cbfe-4f82-8d27-91bfea87dfc6",
   "metadata": {},
   "source": [
    "### 배열의 전치 "
   ]
  },
  {
   "cell_type": "code",
   "execution_count": 70,
   "id": "f481abd3-227c-45b2-91d4-ea26ef019647",
   "metadata": {},
   "outputs": [
    {
     "name": "stdout",
     "output_type": "stream",
     "text": [
      "[[ 0  1  2  3  4]\n",
      " [ 5  6  7  8  9]\n",
      " [10 11 12 13 14]]\n",
      "[[ 0  5 10]\n",
      " [ 1  6 11]\n",
      " [ 2  7 12]\n",
      " [ 3  8 13]\n",
      " [ 4  9 14]]\n"
     ]
    }
   ],
   "source": [
    "import numpy as np\n",
    "\n",
    "arr = np.arange(15).reshape(3, 5) #0~14까지의 범위로 / 3행 5열 로 array를 만든다\n",
    "\n",
    "print(arr)\n",
    "\n",
    "print(arr.T) #배열의 전치"
   ]
  },
  {
   "cell_type": "code",
   "execution_count": 8,
   "id": "4d0a754d-5e5c-4e17-8815-20e5f761ae16",
   "metadata": {},
   "outputs": [
    {
     "name": "stdout",
     "output_type": "stream",
     "text": [
      "[[ 0  1  2  3  4  5  6  7]\n",
      " [ 8  9 10 11 12 13 14 15]\n",
      " [16 17 18 19 20 21 22 23]\n",
      " [24 25 26 27 28 29 30 31]]\n",
      "[[ 0  8 16 24]\n",
      " [ 1  9 17 25]\n",
      " [ 2 10 18 26]\n",
      " [ 3 11 19 27]\n",
      " [ 4 12 20 28]\n",
      " [ 5 13 21 29]\n",
      " [ 6 14 22 30]\n",
      " [ 7 15 23 31]]\n",
      "None\n"
     ]
    }
   ],
   "source": [
    "import numpy as np\n",
    "\n",
    "arr = np.arange(32).reshape(4 , 8)\n",
    "\n",
    "print(arr)\n",
    "\n",
    "print(arr.T)\n"
   ]
  },
  {
   "cell_type": "code",
   "execution_count": 77,
   "id": "418996ff-8d84-45f6-9363-406b1dfbb236",
   "metadata": {},
   "outputs": [
    {
     "data": {
      "text/plain": [
       "[<matplotlib.lines.Line2D at 0x220524f2df0>]"
      ]
     },
     "execution_count": 78,
     "metadata": {},
     "output_type": "execute_result"
    },
    {
     "data": {
      "image/png": "[encoded data removed]",
      "text/plain": [
       "<Figure size 432x288 with 1 Axes>"
      ]
     },
     "metadata": {
      "needs_background": "light"
     },
     "output_type": "display_data"
    }
   ],
   "source": [
    "import matplotlib.pyplot as plt   #graph 를 표현하는 library\n",
    "import numpy as np\n",
    "\n",
    "xpoints = np.array([0, 6])    #x축은 0-6까지\n",
    "ypoints = np.array([0, 250])  #y축은 0-250까지 의 그래프를 만든다\n",
    "\n",
    "plt.plot(xpoints, ypoints)\n",
    "plt.show()   \n",
    "\n",
    "\n"
   ]
  },
  {
   "cell_type": "code",
   "execution_count": 80,
   "id": "383fc798-2da9-46b0-9f42-67de8589dd1e",
   "metadata": {},
   "outputs": [
    {
     "data": {
      "image/png": "[encoded data removed]",
      "text/plain": [
       "<Figure size 432x288 with 1 Axes>"
      ]
     },
     "metadata": {
      "needs_background": "light"
     },
     "output_type": "display_data"
    }
   ],
   "source": [
    "import matplotlib.pyplot as plt   #graph 를 표현하는 library\n",
    "import numpy as np\n",
    "\n",
    "xpoints = np.array([0 , 2 , 6 , 8])    \n",
    "ypoints = np.array([3 , 8 , 1 , 10])  #x,y값이 각각 대입된 그래프가 만들어진다\n",
    "\n",
    "plt.plot(xpoints, ypoints)\n",
    "plt.show()   #"
   ]
  },
  {
   "cell_type": "code",
   "execution_count": 141,
   "id": "a9f58fdf-f834-4ec7-9362-f55394e5c2dd",
   "metadata": {},
   "outputs": [
    {
     "data": {
      "image/png": "[encoded data removed]",
      "text/plain": [
       "<Figure size 432x288 with 1 Axes>"
      ]
     },
     "metadata": {
      "needs_background": "light"
     },
     "output_type": "display_data"
    }
   ],
   "source": [
    "import matplotlib.pyplot as plt   #graph 를 표현하는 library\n",
    "import numpy as np\n",
    "\n",
    "xpoints = np.array([0 , 2 , 6 , 8])    \n",
    "ypoints = np.array([3 , 8 , 1 , 10])  #x,y값이 각각 대입된 그래프가 만들어진다\n",
    "\n",
    "plt.plot(xpoints, ypoints , '--')\n",
    "plt.plot(xpoints, ypoints , 'bo')\n",
    "plt.show() "
   ]
  },
  {
   "cell_type": "code",
   "execution_count": 2,
   "id": "b64f3013-643a-4940-834e-183962081405",
   "metadata": {},
   "outputs": [
    {
     "name": "stdout",
     "output_type": "stream",
     "text": [
      "<class 'numpy.ndarray'>\n"
     ]
    },
    {
     "data": {
      "image/png": "[encoded data removed]",
      "text/plain": [
       "<Figure size 432x288 with 1 Axes>"
      ]
     },
     "metadata": {
      "needs_background": "light"
     },
     "output_type": "display_data"
    }
   ],
   "source": [
    "import matplotlib.pyplot as plt   #graph 를 표현하는 library\n",
    "import numpy as np\n",
    "\n",
    "x = np.array(['a' , 'a1' , 'a2' , 'a3' , 'a4' , 'a5' , 'a6' , 'a7' , 'a8' , 'a9' , 'a0'])\n",
    "y = np.array([1000 , 2000 , 4000 , 3000 , 6000 , 4000 , 5000 , 4000 , 3500 , 4000 , 5000])\n",
    "\n",
    "# y = np.array(['b' , 'b1' , 'b2' , 'b3' , 'b4' , 'b5' , 'b6' , 'b7' , 'b8' , 'b9' , 'b0'])\n",
    "\n",
    "print(type(y))\n",
    "\n",
    "\n",
    "plt.rc('font' , family = 'Malgun Gothic')  #font 명은 영어로 넣어야함\n",
    "\n",
    "# plt.title('Musical Watch Data') #graph 제목\n",
    "# plt.xlabel('Average Pulse') #x축 지표\n",
    "# plt.ylabel('Calorie Burnage') #y축 지표\n",
    "\n",
    "plt.title('뮤지컬 관람객 데이터') #graph 제목\n",
    "plt.xlabel('Average Pulse') #x축 지표\n",
    "plt.ylabel('Calorie Burnage') #y축 지표\n",
    "\n",
    "plt.plot(x, y , '--')\n",
    "plt.plot(x, y , 'ro')\n",
    "\n",
    "plt.grid(axis = 'x')\n",
    "plt.grid(axis = 'y')#axis = 배열의 축 y축이므로 grid의 가로선이 됨\n",
    "\n",
    "plt.show()"
   ]
  },
  {
   "cell_type": "code",
   "execution_count": 99,
   "id": "542b60a4-a6d5-4186-a2a9-3fa92a2c8422",
   "metadata": {
    "collapsed": true,
    "jupyter": {
     "outputs_hidden": true
    },
    "tags": []
   },
   "outputs": [
    {
     "name": "stdout",
     "output_type": "stream",
     "text": [
      "<Font 'DejaVu Sans Display' (DejaVuSansDisplay.ttf) normal normal 400 normal>\n",
      "<Font 'STIXGeneral' (STIXGeneralBol.ttf) normal normal 700 normal>\n",
      "<Font 'STIXNonUnicode' (STIXNonUni.ttf) normal normal 400 normal>\n",
      "<Font 'DejaVu Sans Mono' (DejaVuSansMono.ttf) normal normal 400 normal>\n",
      "<Font 'DejaVu Serif' (DejaVuSerif.ttf) normal normal 400 normal>\n",
      "<Font 'DejaVu Sans Mono' (DejaVuSansMono-Bold.ttf) normal normal 700 normal>\n",
      "<Font 'cmss10' (cmss10.ttf) normal normal 400 normal>\n",
      "<Font 'DejaVu Serif' (DejaVuSerif-BoldItalic.ttf) italic normal 700 normal>\n",
      "<Font 'STIXSizeOneSym' (STIXSizOneSymBol.ttf) normal normal 700 normal>\n",
      "<Font 'STIXSizeThreeSym' (STIXSizThreeSymBol.ttf) normal normal 700 normal>\n",
      "<Font 'cmex10' (cmex10.ttf) normal normal 400 normal>\n",
      "<Font 'cmsy10' (cmsy10.ttf) normal normal 400 normal>\n",
      "<Font 'STIXSizeFiveSym' (STIXSizFiveSymReg.ttf) normal normal 400 normal>\n",
      "<Font 'STIXSizeThreeSym' (STIXSizThreeSymReg.ttf) normal normal 400 normal>\n",
      "<Font 'DejaVu Sans' (DejaVuSans-Bold.ttf) normal normal 700 normal>\n",
      "<Font 'DejaVu Sans' (DejaVuSans-BoldOblique.ttf) oblique normal 700 normal>\n",
      "<Font 'DejaVu Sans' (DejaVuSans.ttf) normal normal 400 normal>\n",
      "<Font 'cmr10' (cmr10.ttf) normal normal 400 normal>\n",
      "<Font 'DejaVu Sans Mono' (DejaVuSansMono-BoldOblique.ttf) oblique normal 700 normal>\n",
      "<Font 'STIXGeneral' (STIXGeneralBolIta.ttf) italic normal 700 normal>\n",
      "<Font 'DejaVu Sans' (DejaVuSans-Oblique.ttf) oblique normal 400 normal>\n",
      "<Font 'cmb10' (cmb10.ttf) normal normal 400 normal>\n",
      "<Font 'STIXNonUnicode' (STIXNonUniIta.ttf) italic normal 400 normal>\n",
      "<Font 'DejaVu Sans Mono' (DejaVuSansMono-Oblique.ttf) oblique normal 400 normal>\n",
      "<Font 'STIXSizeOneSym' (STIXSizOneSymReg.ttf) normal normal 400 normal>\n",
      "<Font 'STIXSizeTwoSym' (STIXSizTwoSymBol.ttf) normal normal 700 normal>\n",
      "<Font 'DejaVu Serif' (DejaVuSerif-Bold.ttf) normal normal 700 normal>\n",
      "<Font 'STIXNonUnicode' (STIXNonUniBol.ttf) normal normal 700 normal>\n",
      "<Font 'STIXNonUnicode' (STIXNonUniBolIta.ttf) italic normal 700 normal>\n",
      "<Font 'STIXGeneral' (STIXGeneral.ttf) normal normal 400 normal>\n",
      "<Font 'STIXSizeFourSym' (STIXSizFourSymBol.ttf) normal normal 700 normal>\n",
      "<Font 'STIXSizeTwoSym' (STIXSizTwoSymReg.ttf) normal normal 400 normal>\n",
      "<Font 'DejaVu Serif' (DejaVuSerif-Italic.ttf) italic normal 400 normal>\n",
      "<Font 'cmmi10' (cmmi10.ttf) normal normal 400 normal>\n",
      "<Font 'STIXSizeFourSym' (STIXSizFourSymReg.ttf) normal normal 400 normal>\n",
      "<Font 'cmtt10' (cmtt10.ttf) normal normal 400 normal>\n",
      "<Font 'DejaVu Serif Display' (DejaVuSerifDisplay.ttf) normal normal 400 normal>\n",
      "<Font 'STIXGeneral' (STIXGeneralItalic.ttf) italic normal 400 normal>\n",
      "<Font 'Franklin Gothic Medium' (framd.ttf) normal normal 400 normal>\n",
      "<Font 'Corbel' (corbel.ttf) normal normal 400 normal>\n",
      "<Font 'Microsoft Yi Baiti' (msyi.ttf) normal normal 400 normal>\n",
      "<Font 'Candara' (Candarali.ttf) italic normal 400 normal>\n",
      "<Font 'Courier New' (cour.ttf) normal normal 400 normal>\n",
      "<Font 'Lucida Sans Unicode' (l_10646.ttf) normal normal 400 normal>\n",
      "<Font 'Nirmala UI' (Nirmala.ttf) normal normal 400 normal>\n",
      "<Font 'Segoe UI Symbol' (seguisym.ttf) normal normal 400 normal>\n",
      "<Font 'SimSun-ExtB' (simsunb.ttf) normal normal 400 normal>\n",
      "<Font 'Wingdings' (wingding.ttf) normal normal 400 normal>\n",
      "<Font 'Sylfaen' (sylfaen.ttf) normal normal 400 normal>\n",
      "<Font 'Verdana' (verdana.ttf) normal normal 400 normal>\n",
      "<Font 'Segoe UI' (segoeuib.ttf) normal normal 700 normal>\n",
      "<Font 'Microsoft Sans Serif' (micross.ttf) normal normal 400 normal>\n",
      "<Font 'Consolas' (consolai.ttf) italic normal 400 normal>\n",
      "<Font 'Impact' (impact.ttf) normal normal 400 normal>\n",
      "<Font 'Segoe UI' (seguibl.ttf) normal normal 900 normal>\n",
      "<Font 'Segoe Script' (segoescb.ttf) normal normal 700 normal>\n",
      "<Font 'Calibri' (calibrib.ttf) normal normal 700 normal>\n",
      "<Font 'Yu Gothic' (YuGothB.ttc) normal normal 700 normal>\n",
      "<Font 'Malgun Gothic' (malgunsl.ttf) normal normal 300 normal>\n",
      "<Font 'Myanmar Text' (mmrtextb.ttf) normal normal 700 normal>\n",
      "<Font 'Microsoft JhengHei' (msjhbd.ttc) normal normal 700 normal>\n",
      "<Font 'Segoe UI Emoji' (seguiemj.ttf) normal normal 400 normal>\n",
      "<Font 'Microsoft PhagsPa' (phagspa.ttf) normal normal 400 normal>\n",
      "<Font 'Nirmala UI' (NirmalaS.ttf) normal normal 350 normal>\n",
      "<Font 'MingLiU-ExtB' (mingliub.ttc) normal normal 400 normal>\n",
      "<Font 'Tahoma' (tahomabd.ttf) normal normal 700 normal>\n",
      "<Font 'Microsoft YaHei' (msyhl.ttc) normal normal 290 normal>\n",
      "<Font 'Segoe UI' (seguisb.ttf) normal normal 600 normal>\n",
      "<Font 'Times New Roman' (times.ttf) normal normal 400 normal>\n",
      "<Font 'Consolas' (consolaz.ttf) italic normal 700 normal>\n",
      "<Font 'Palatino Linotype' (palab.ttf) normal normal 700 normal>\n",
      "<Font 'HoloLens MDL2 Assets' (holomdl2.ttf) normal normal 400 normal>\n",
      "<Font 'Palatino Linotype' (pala.ttf) normal normal 400 normal>\n",
      "<Font 'Myanmar Text' (mmrtext.ttf) normal normal 400 normal>\n",
      "<Font 'Candara' (Candaral.ttf) normal normal 400 normal>\n",
      "<Font 'Corbel' (corbelz.ttf) italic normal 700 normal>\n",
      "<Font 'Corbel' (corbell.ttf) normal normal 300 normal>\n",
      "<Font 'Segoe UI' (segoeuisl.ttf) normal normal 350 normal>\n",
      "<Font 'Yu Gothic' (YuGothR.ttc) normal normal 400 normal>\n",
      "<Font 'Leelawadee UI' (LeelaUIb.ttf) normal normal 700 normal>\n",
      "<Font 'Calibri' (calibrii.ttf) italic normal 400 normal>\n",
      "<Font 'Webdings' (webdings.ttf) normal normal 400 normal>\n",
      "<Font 'Calibri' (calibriz.ttf) italic normal 700 normal>\n",
      "<Font 'Cambria' (cambriab.ttf) normal normal 700 normal>\n",
      "<Font 'Microsoft New Tai Lue' (ntailub.ttf) normal normal 700 normal>\n",
      "<Font 'Sitka Small' (SitkaZ.ttc) italic normal 700 normal>\n",
      "<Font 'Constantia' (constanz.ttf) italic normal 700 normal>\n",
      "<Font 'Segoe Print' (segoepr.ttf) normal normal 400 normal>\n",
      "<Font 'Segoe UI' (seguibli.ttf) italic normal 900 normal>\n",
      "<Font 'Palatino Linotype' (palabi.ttf) italic normal 700 normal>\n",
      "<Font 'Segoe MDL2 Assets' (segmdl2.ttf) normal normal 400 normal>\n",
      "<Font 'Georgia' (georgiaz.ttf) italic normal 700 normal>\n",
      "<Font 'Sitka Small' (SitkaI.ttc) italic normal 400 normal>\n",
      "<Font 'Trebuchet MS' (trebucbi.ttf) italic normal 700 normal>\n",
      "<Font 'Microsoft YaHei' (msyh.ttc) normal normal 400 normal>\n",
      "<Font 'Batang' (batang.ttc) normal normal 400 normal>\n",
      "<Font 'Malgun Gothic' (malgun.ttf) normal normal 400 normal>\n",
      "<Font 'Segoe Script' (segoesc.ttf) normal normal 400 normal>\n",
      "<Font 'Ebrima' (ebrima.ttf) normal normal 400 normal>\n",
      "<Font 'Javanese Text' (javatext.ttf) normal normal 400 normal>\n",
      "<Font 'Courier New' (courbd.ttf) normal normal 700 normal>\n",
      "<Font 'Franklin Gothic Medium' (framdit.ttf) italic normal 400 normal>\n",
      "<Font 'Courier New' (couri.ttf) italic normal 400 normal>\n",
      "<Font 'Candara' (Candarai.ttf) italic normal 400 normal>\n",
      "<Font 'MS Gothic' (msgothic.ttc) normal normal 400 normal>\n",
      "<Font 'Arial' (ariblk.ttf) normal normal 900 normal>\n",
      "<Font 'Georgia' (georgiai.ttf) italic normal 400 normal>\n",
      "<Font 'Calibri' (calibrili.ttf) italic normal 300 normal>\n",
      "<Font 'Corbel' (corbelli.ttf) italic normal 300 normal>\n",
      "<Font 'Microsoft Tai Le' (taile.ttf) normal normal 400 normal>\n",
      "<Font 'Sitka Small' (SitkaB.ttc) normal normal 700 normal>\n",
      "<Font 'Mongolian Baiti' (monbaiti.ttf) normal normal 400 normal>\n",
      "<Font 'Yu Gothic' (YuGothL.ttc) normal normal 300 normal>\n",
      "<Font 'Times New Roman' (timesi.ttf) italic normal 400 normal>\n",
      "<Font 'Malgun Gothic' (malgunbd.ttf) normal normal 700 normal>\n",
      "<Font 'Segoe UI' (segoeui.ttf) normal normal 400 normal>\n",
      "<Font 'Constantia' (constanb.ttf) normal normal 700 normal>\n",
      "<Font 'Yu Gothic' (YuGothM.ttc) normal normal 500 normal>\n",
      "<Font 'Segoe Print' (segoeprb.ttf) normal normal 700 normal>\n",
      "<Font 'Comic Sans MS' (comici.ttf) italic normal 400 normal>\n",
      "<Font 'Comic Sans MS' (comic.ttf) normal normal 400 normal>\n",
      "<Font 'Cambria' (cambriai.ttf) italic normal 400 normal>\n",
      "<Font 'Gabriola' (Gabriola.ttf) normal normal 400 normal>\n",
      "<Font 'Candara' (Candara.ttf) normal normal 400 normal>\n",
      "<Font 'Comic Sans MS' (comicz.ttf) italic normal 700 normal>\n",
      "<Font 'Courier New' (courbi.ttf) italic normal 700 normal>\n",
      "<Font 'Arial' (ariali.ttf) italic normal 400 normal>\n",
      "<Font 'Corbel' (corbeli.ttf) italic normal 400 normal>\n",
      "<Font 'Gadugi' (gadugi.ttf) normal normal 400 normal>\n",
      "<Font 'Consolas' (consolab.ttf) normal normal 700 normal>\n",
      "<Font 'Microsoft JhengHei' (msjh.ttc) normal normal 400 normal>\n",
      "<Font 'Leelawadee UI' (LeelawUI.ttf) normal normal 400 normal>\n",
      "<Font 'Times New Roman' (timesbd.ttf) normal normal 700 normal>\n",
      "<Font 'Calibri' (calibri.ttf) normal normal 400 normal>\n",
      "<Font 'Candara' (Candaraz.ttf) italic normal 700 normal>\n",
      "<Font 'Trebuchet MS' (trebucbd.ttf) normal normal 700 normal>\n",
      "<Font 'Ink Free' (Inkfree.ttf) normal normal 400 normal>\n",
      "<Font 'Microsoft Himalaya' (himalaya.ttf) normal normal 400 normal>\n",
      "<Font 'Georgia' (georgia.ttf) normal normal 400 normal>\n",
      "<Font 'Constantia' (constani.ttf) italic normal 400 normal>\n",
      "<Font 'Segoe UI' (seguisbi.ttf) italic normal 600 normal>\n",
      "<Font 'Segoe UI' (seguisli.ttf) italic normal 350 normal>\n",
      "<Font 'Verdana' (verdanab.ttf) normal normal 700 normal>\n",
      "<Font 'Cambria' (cambriaz.ttf) italic normal 700 normal>\n",
      "<Font 'Times New Roman' (timesbi.ttf) italic normal 700 normal>\n",
      "<Font 'Tahoma' (tahoma.ttf) normal normal 400 normal>\n",
      "<Font 'MV Boli' (mvboli.ttf) normal normal 400 normal>\n",
      "<Font 'Segoe UI' (seguili.ttf) italic normal 300 normal>\n",
      "<Font 'Lucida Console' (lucon.ttf) normal normal 400 normal>\n",
      "<Font 'Arial' (arialbi.ttf) italic normal 700 normal>\n",
      "<Font 'Marlett' (marlett.ttf) normal normal 500 normal>\n",
      "<Font 'Microsoft New Tai Lue' (ntailu.ttf) normal normal 400 normal>\n",
      "<Font 'Symbol' (symbol.ttf) normal normal 400 normal>\n",
      "<Font 'Microsoft Tai Le' (taileb.ttf) normal normal 700 normal>\n",
      "<Font 'Comic Sans MS' (comicbd.ttf) normal normal 700 normal>\n",
      "<Font 'SimSun' (simsun.ttc) normal normal 400 normal>\n",
      "<Font 'Consolas' (consola.ttf) normal normal 400 normal>\n",
      "<Font 'Bahnschrift' (bahnschrift.ttf) normal normal 400 normal>\n",
      "<Font 'Segoe UI' (segoeuil.ttf) normal normal 300 normal>\n",
      "<Font 'Calibri' (calibril.ttf) normal normal 300 normal>\n",
      "<Font 'Gulim' (gulim.ttc) normal normal 400 normal>\n",
      "<Font 'Verdana' (verdanai.ttf) italic normal 400 normal>\n",
      "<Font 'Leelawadee UI' (LeelUIsl.ttf) normal normal 350 normal>\n",
      "<Font 'Ebrima' (ebrimabd.ttf) normal normal 700 normal>\n",
      "<Font 'Microsoft PhagsPa' (phagspab.ttf) normal normal 700 normal>\n",
      "<Font 'Microsoft YaHei' (msyhbd.ttc) normal normal 700 normal>\n",
      "<Font 'Arial' (arialbd.ttf) normal normal 700 normal>\n",
      "<Font 'Segoe UI' (segoeuiz.ttf) italic normal 700 normal>\n",
      "<Font 'Segoe UI Historic' (seguihis.ttf) normal normal 400 normal>\n",
      "<Font 'Trebuchet MS' (trebucit.ttf) italic normal 400 normal>\n",
      "<Font 'Palatino Linotype' (palai.ttf) italic normal 400 normal>\n",
      "<Font 'Segoe UI' (segoeuii.ttf) italic normal 400 normal>\n",
      "<Font 'Nirmala UI' (NirmalaB.ttf) normal normal 700 normal>\n",
      "<Font 'Sitka Small' (Sitka.ttc) normal normal 400 normal>\n",
      "<Font 'Corbel' (corbelb.ttf) normal normal 700 normal>\n",
      "<Font 'Georgia' (georgiab.ttf) normal normal 700 normal>\n",
      "<Font 'Cambria' (cambria.ttc) normal normal 400 normal>\n",
      "<Font 'Candara' (Candarab.ttf) normal normal 700 normal>\n",
      "<Font 'Gadugi' (gadugib.ttf) normal normal 700 normal>\n",
      "<Font 'Microsoft JhengHei' (msjhl.ttc) normal normal 290 normal>\n",
      "<Font 'Verdana' (verdanaz.ttf) italic normal 700 normal>\n",
      "<Font 'Trebuchet MS' (trebuc.ttf) normal normal 400 normal>\n",
      "<Font 'Arial' (arial.ttf) normal normal 400 normal>\n",
      "<Font 'Constantia' (constan.ttf) normal normal 400 normal>\n"
     ]
    }
   ],
   "source": [
    "#true type font 를 찾는 법\n",
    "\n",
    "\n",
    "import matplotlib.font_manager as fm   #graph 를 표현하는 library\n",
    "import numpy as np\n",
    "\n",
    "\n",
    "\n",
    "font_list = fm.findSystemFonts(fontext = 'ttf')\n",
    "# for f in font_list :\n",
    "#     print(f)\n",
    "\n",
    "font_list = fm.fontManager.ttflist #표기법의 차이일 뿐 위와 나타내는 값은 같다\n",
    "\n",
    "for f in font_list :\n",
    "    print(f)"
   ]
  },
  {
   "cell_type": "code",
   "execution_count": 101,
   "id": "f3d1186f-b250-4bab-9e0f-0b40b6c250fe",
   "metadata": {},
   "outputs": [
    {
     "name": "stdout",
     "output_type": "stream",
     "text": [
      "[[9 9 2]\n",
      " [1 2 0]]\n"
     ]
    }
   ],
   "source": [
    "a = np.random.randint(0, 10, (2, 3))  #0부터 10까지 2행 3열 생성\n",
    "print(a)\n",
    "np.savetxt('./data/score.csv' , a)"
   ]
  },
  {
   "cell_type": "code",
   "execution_count": 102,
   "id": "0c895617-6a2d-4074-848f-46fc8db8ccde",
   "metadata": {},
   "outputs": [
    {
     "name": "stdout",
     "output_type": "stream",
     "text": [
      "[[9 9 2]\n",
      " [1 2 0]]\n"
     ]
    }
   ],
   "source": [
    "b = np.loadtxt('./data/score.csv' , np.int32)\n",
    "\n",
    "print(b)"
   ]
  },
  {
   "cell_type": "code",
   "execution_count": 139,
   "id": "1d9df3a1-c1b4-463b-b0c2-00fc79d94077",
   "metadata": {},
   "outputs": [
    {
     "name": "stderr",
     "output_type": "stream",
     "text": [
      "C:\\Users\\BIT\\Anaconda3\\lib\\site-packages\\matplotlib\\text.py:1215: FutureWarning: elementwise comparison failed; returning scalar instead, but in the future will perform elementwise comparison\n",
      "  if s != self._text:\n"
     ]
    },
    {
     "data": {
      "image/png": "[encoded data removed]",
      "text/plain": [
       "<Figure size 432x288 with 1 Axes>"
      ]
     },
     "metadata": {
      "needs_background": "light"
     },
     "output_type": "display_data"
    }
   ],
   "source": [
    "import matplotlib.pyplot as plt   #graph 를 표현하는 library\n",
    "import numpy as np\n",
    "\n",
    "x = b[0, :]    # x = array b의 0행의 모든 열\n",
    "y = b[1 , :]   # y = array b의 1행의 모든 열\n",
    "# print(x)\n",
    "# print(y)\n",
    "    \n",
    "\n",
    "\n",
    "\n",
    "\n",
    "# for j in y :\n",
    "#     print(j)\n",
    "\n",
    "plt.rc('font' , family = 'Malgun Gothic') \n",
    "\n",
    "\n",
    "# print(type(y))\n",
    "\n",
    "\n",
    "plt.title('오늘 만든 거')\n",
    "plt.xlabel(x)\n",
    "plt.ylabel(y)\n",
    "\n",
    "plt.plot(x ,y, 'bo')\n",
    "\n",
    "plt.grid(axis = 'y')\n",
    "\n",
    "plt.show()\n",
    "\n"
   ]
  },
  {
   "cell_type": "code",
   "execution_count": null,
   "id": "7e414008-dbbe-45b3-afc8-8dd82cf84a5c",
   "metadata": {},
   "outputs": [],
   "source": [
    "\n",
    "\n"
   ]
  },
  {
   "cell_type": "code",
   "execution_count": null,
   "id": "34245c0f-96e5-4d32-859f-e277cb0e4e3a",
   "metadata": {},
   "outputs": [],
   "source": []
  },
  {
   "cell_type": "code",
   "execution_count": null,
   "id": "9c37fe24-310e-4cc6-8470-56eea20c73bc",
   "metadata": {},
   "outputs": [],
   "source": []
  },
  {
   "cell_type": "code",
   "execution_count": null,
   "id": "92e9311d-bfd7-434d-91c5-0068708749e2",
   "metadata": {},
   "outputs": [],
   "source": []
  },
  {
   "cell_type": "code",
   "execution_count": null,
   "id": "7e6af0af-1103-4f93-b77d-115399ef7538",
   "metadata": {},
   "outputs": [],
   "source": []
  },
  {
   "cell_type": "code",
   "execution_count": null,
   "id": "abfaa382-d322-4637-858e-daa723c5abdb",
   "metadata": {},
   "outputs": [],
   "source": []
  }
 ],
 "metadata": {
  "kernelspec": {
   "display_name": "Python 3 (ipykernel)",
   "language": "python",
   "name": "python3"
  },
  "language_info": {
   "codemirror_mode": {
    "name": "ipython",
    "version": 3
   },
   "file_extension": ".py",
   "mimetype": "text/x-python",
   "name": "python",
   "nbconvert_exporter": "python",
   "pygments_lexer": "ipython3",
   "version": "3.9.7"
  }
 },
 "nbformat": 4,
 "nbformat_minor": 5
}
