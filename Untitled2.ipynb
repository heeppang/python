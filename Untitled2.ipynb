{
 "cells": [
  {
   "cell_type": "code",
   "execution_count": 7,
   "id": "eb601a74-a8a2-4aa4-8aa1-8622be9731d3",
   "metadata": {},
   "outputs": [],
   "source": [
    "f = open('test.txt' , 'w' , encoding = 'utf-8')\n",
    "#쓰기 모드로 파일 오픈 (기존에 파일 존재하면 삭제하고 새로 생성)\n",
    "\n",
    "f.write (' 텍스트 파일을 새로 만들고 텍스트를 씁니다.\\n')  #줄바꿈 안하면 일렬로 쭉 붙는다\n",
    "f.write (' 텍스트 파일을 새로 만들고 텍스트를 씁니다.\\n')\n",
    "f.write (' 텍스트 파일을 새로 만들고 텍스트를 씁니다.\\n')\n",
    "f.close()\n"
   ]
  },
  {
   "cell_type": "code",
   "execution_count": 9,
   "id": "418cb9a8-8190-4017-84c1-d7930b84b5bb",
   "metadata": {},
   "outputs": [],
   "source": [
    "f = open('test.txt' , 'r' , encoding = 'utf-8')\n",
    "\n",
    "f.readlines()\n",
    "\n",
    "f.close()"
   ]
  },
  {
   "cell_type": "code",
   "execution_count": 2,
   "id": "11c8b190-838d-4794-bfbf-9986cd10a630",
   "metadata": {},
   "outputs": [],
   "source": [
    "with open('url.json' , 'w' , encoding='utf-8') as url :\n",
    "    \n",
    "        url.write('http://api.github.com')\n",
    "        "
   ]
  },
  {
   "cell_type": "code",
   "execution_count": 3,
   "id": "d68fe416-f78c-45d7-b238-ca1e3ed4add2",
   "metadata": {},
   "outputs": [
    {
     "name": "stdout",
     "output_type": "stream",
     "text": [
      "['http://api.github.com']\n"
     ]
    }
   ],
   "source": [
    "with open('url.json' , 'r' , encoding='utf-8') as url : \n",
    "\n",
    "    \n",
    "    line1 = url.readlines()\n",
    "\n",
    "    print(line1)"
   ]
  },
  {
   "cell_type": "code",
   "execution_count": null,
   "id": "c35d79e8-d028-458d-a3b9-b5d2d939106a",
   "metadata": {},
   "outputs": [],
   "source": []
  }
 ],
 "metadata": {
  "kernelspec": {
   "display_name": "Python 3 (ipykernel)",
   "language": "python",
   "name": "python3"
  },
  "language_info": {
   "codemirror_mode": {
    "name": "ipython",
    "version": 3
   },
   "file_extension": ".py",
   "mimetype": "text/x-python",
   "name": "python",
   "nbconvert_exporter": "python",
   "pygments_lexer": "ipython3",
   "version": "3.9.7"
  }
 },
 "nbformat": 4,
 "nbformat_minor": 5
}
