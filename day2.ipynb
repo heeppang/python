{
 "cells": [
  {
   "cell_type": "code",
   "execution_count": 19,
   "id": "68cdfa1e-dafb-4975-9959-0e2c61887880",
   "metadata": {},
   "outputs": [
    {
     "name": "stdin",
     "output_type": "stream",
     "text": [
      " 60\n",
      " 70\n",
      " 80\n"
     ]
    },
    {
     "name": "stdout",
     "output_type": "stream",
     "text": [
      "\n",
      "70.0\n",
      "210.0\n"
     ]
    }
   ],
   "source": [
    "english_score = input()\n",
    "science_score = input()\n",
    "math_score = input()\n",
    "\n",
    "english_score = int(english_score)\n",
    "science_score = float(science_score)\n",
    "math_score = float(math_score)\n",
    "\n",
    "avg = (english_score+science_score+math_score)/3\n",
    "sum = english_score+science_score+math_score\n",
    "\n",
    "print()\n",
    "print(avg)\n",
    "print(sum)"
   ]
  },
  {
   "cell_type": "code",
   "execution_count": 23,
   "id": "b2de75cf-45fd-4027-b41c-24211b320b75",
   "metadata": {},
   "outputs": [
    {
     "name": "stdin",
     "output_type": "stream",
     "text": [
      " 55\n",
      " 80\n",
      " 70\n"
     ]
    },
    {
     "name": "stdout",
     "output_type": "stream",
     "text": [
      "205\n",
      "68.33333333333333\n"
     ]
    }
   ],
   "source": [
    "kor_score = input()\n",
    "math_score = input()\n",
    "eng_score = input()\n",
    "\n",
    "kor_score = int(kor_score)\n",
    "math_score = int(math_score)\n",
    "eng_score = int(eng_score)\n",
    "\n",
    "sum = kor_score+math_score+eng_score\n",
    "avg = (kor_score+math_score+eng_score)/3\n",
    "#avg = int(avg)\n",
    "\n",
    "print(sum)\n",
    "print(avg)"
   ]
  },
  {
   "cell_type": "code",
   "execution_count": 17,
   "id": "9a6edc93-4d01-4245-8b9d-fbbec32d9731",
   "metadata": {
    "tags": []
   },
   "outputs": [
    {
     "name": "stdout",
     "output_type": "stream",
     "text": [
      "국어점수를 입력하세요\n"
     ]
    },
    {
     "name": "stdin",
     "output_type": "stream",
     "text": [
      " 80\n"
     ]
    },
    {
     "name": "stdout",
     "output_type": "stream",
     "text": [
      "수학점수를 입력하세요\n"
     ]
    },
    {
     "name": "stdin",
     "output_type": "stream",
     "text": [
      " 90\n"
     ]
    },
    {
     "name": "stdout",
     "output_type": "stream",
     "text": [
      "영어점수를 입력하세요\n"
     ]
    },
    {
     "name": "stdin",
     "output_type": "stream",
     "text": [
      " 70\n"
     ]
    },
    {
     "name": "stdout",
     "output_type": "stream",
     "text": [
      "\n",
      "점수 합계는 240 입니다\n",
      "점수 평균은 80.00 입니다\n",
      "\n",
      "당신의 총점은 240 이고 평균은 80.000000 입니다\n"
     ]
    }
   ],
   "source": [
    "print(\"국어점수를 입력하세요\")\n",
    "a = kor_score = input()\n",
    "\n",
    "print(\"수학점수를 입력하세요\")\n",
    "b = math_score = input()\n",
    "\n",
    "print(\"영어점수를 입력하세요\")\n",
    "c = eng_score = input()\n",
    "\n",
    "a = int(a)\n",
    "b = int(b)\n",
    "c = int(c)\n",
    "# kor_score = int(kor_score)\n",
    "# math_score = int(math_score)\n",
    "# eng_score = int(eng_score)\n",
    "\n",
    "sum = a+b+c\n",
    "avg = sum/3\n",
    "\n",
    "print()\n",
    "print('점수 합계는 %d 입니다' % sum) \n",
    "print('점수 평균은 %.2f 입니다' % avg) \n",
    "print()\n",
    "print('당신의 총점은 %d 이고 평균은 %.2f 입니다' % (sum, avg))"
   ]
  },
  {
   "cell_type": "code",
   "execution_count": 41,
   "id": "5ccc9a74-7750-4f52-a7ab-94c5e5330a0b",
   "metadata": {
    "tags": []
   },
   "outputs": [
    {
     "name": "stdout",
     "output_type": "stream",
     "text": [
      "이름을 입력해주세요\n"
     ]
    },
    {
     "name": "stdin",
     "output_type": "stream",
     "text": [
      " 윤희상\n"
     ]
    },
    {
     "name": "stdout",
     "output_type": "stream",
     "text": [
      "\n",
      "안녕하세요 윤희상 응시자님\n",
      "--------------------------------------------------\n",
      "\n",
      "수학점수\n"
     ]
    },
    {
     "name": "stdin",
     "output_type": "stream",
     "text": [
      " 80\n"
     ]
    },
    {
     "name": "stdout",
     "output_type": "stream",
     "text": [
      "국어점수\n"
     ]
    },
    {
     "name": "stdin",
     "output_type": "stream",
     "text": [
      " 90\n"
     ]
    },
    {
     "name": "stdout",
     "output_type": "stream",
     "text": [
      "영어점수\n"
     ]
    },
    {
     "name": "stdin",
     "output_type": "stream",
     "text": [
      " 70\n"
     ]
    },
    {
     "name": "stdout",
     "output_type": "stream",
     "text": [
      "\n",
      "결과를 알려 드리겠습니다\n",
      "\n",
      "**************************************************\n",
      "\n",
      "이름\t국어\t영어\t수학\t총점\t평균\n",
      "--------------------------------------------------\n",
      "윤희상\t90\t70\t80\t240\t80.00\n",
      "\n"
     ]
    }
   ],
   "source": [
    "print(\"이름을 입력해주세요\")\n",
    "name = input()\n",
    "\n",
    "print()\n",
    "print('안녕하세요 '+ name +' 응시자님')\n",
    "\n",
    "print('-'*50)\n",
    "print()\n",
    "print(\"수학점수\")\n",
    "a1 = math = int(input())\n",
    "print('국어점수')\n",
    "b1 = kor = int(input())\n",
    "print('영어점수')\n",
    "c1 = eng = int(input())\n",
    "\n",
    "total = a1+b1+c1\n",
    "avg = int(total/3)\n",
    "\n",
    "print()\n",
    "print('결과를 알려 드리겠습니다')\n",
    "print()\n",
    "print('*'*50)\n",
    "\n",
    "print()\n",
    "print('이름\\t국어\\t영어\\t수학\\t총점\\t평균')\n",
    "print('-'*50)\n",
    "print('%s\\t%d\\t%d\\t%d\\t%d\\t%.2f' % (name, b1, c1, a1, total, avg))\n",
    "print()\n",
    "\n"
   ]
  },
  {
   "cell_type": "code",
   "execution_count": 48,
   "id": "03998d15-17f3-41fb-a24f-c7f4c2a6e3cd",
   "metadata": {},
   "outputs": [
    {
     "name": "stdout",
     "output_type": "stream",
     "text": [
      "당해 ooo시험 점수 발표\n",
      "\n",
      "성명 입력란\n"
     ]
    },
    {
     "name": "stdin",
     "output_type": "stream",
     "text": [
      " 윤희상\n"
     ]
    },
    {
     "name": "stdout",
     "output_type": "stream",
     "text": [
      "반갑습니다 윤희상 수험생님\n",
      "점수 출력 중입니다\n",
      "\n",
      "**************************************************\n",
      "\n",
      "**************************************************\n"
     ]
    },
    {
     "name": "stdin",
     "output_type": "stream",
     "text": [
      " 70\n",
      " 80\n",
      " 90\n",
      " 90\n"
     ]
    },
    {
     "name": "stdout",
     "output_type": "stream",
     "text": [
      "\n",
      "이름\t수리1\t수리2\t수리3\t수리4\t총점\t평균\n",
      "--------------------------------------------------\n",
      "윤희상\t70\t80\t90\t90\t330\t82.50\n"
     ]
    }
   ],
   "source": [
    "print('당해 ooo시험 점수 발표')\n",
    "print()\n",
    "\n",
    "print('성명 입력란')\n",
    "name1 = input()\n",
    "\n",
    "print('반갑습니다 '+ name1 +' 수험생님')\n",
    "print('점수 출력 중입니다')\n",
    "print()\n",
    "print('*'*50)\n",
    "print()\n",
    "print('*'*50)\n",
    "\n",
    "print('수리1')\n",
    "math1 = int(input())\n",
    "print('수리2')\n",
    "math2 = int(input())\n",
    "print('수리3')\n",
    "math3 = int(input())\n",
    "print('수리4')\n",
    "math4 = int(input())\n",
    "\n",
    "total1 = int(math1+math2+math3+math4)\n",
    "avg1 = float((total1)/4)\n",
    "\n",
    "print()\n",
    "\n",
    "print('이름\\t수리1\\t수리2\\t수리3\\t수리4\\t총점\\t평균')\n",
    "print('-'*50)\n",
    "print('%s\\t%d\\t%d\\t%d\\t%d\\t%d\\t%.2f' % (name1, math1, math2, math3, math4, total1, avg1))\n",
    "\n"
   ]
  },
  {
   "cell_type": "code",
   "execution_count": 4,
   "id": "41b2bbcc-0eb4-44cf-a3d0-e4da616b8e29",
   "metadata": {},
   "outputs": [
    {
     "name": "stdout",
     "output_type": "stream",
     "text": [
      "True\n",
      "True\n",
      "False\n",
      "False\n",
      "False\n",
      "True\n",
      "<class 'bool'>\n",
      "--------------------------------------------------\n"
     ]
    },
    {
     "data": {
      "text/plain": [
       "True"
      ]
     },
     "execution_count": 4,
     "metadata": {},
     "output_type": "execute_result"
    }
   ],
   "source": [
    "love = 100\n",
    "faith = 200\n",
    "\n",
    "print( love < faith )\n",
    "print( love <= faith )\n",
    "print( love > faith )\n",
    "print( love >= faith )\n",
    "print( love == faith )\n",
    "print( love != faith )\n",
    "\n",
    "print(type(love != faith))\n",
    "\n",
    "bool(love == faith)\n",
    "\n",
    "Heesang = 'Pretty'\n",
    "Jonnye = 'Pretty'\n",
    "\n",
    "print('-'*50)\n",
    "bool(Heesang == Jonnye)\n"
   ]
  },
  {
   "cell_type": "code",
   "execution_count": 57,
   "id": "6b37fce2-59ed-47a1-a5bc-fa9fd44c2f82",
   "metadata": {},
   "outputs": [
    {
     "name": "stdout",
     "output_type": "stream",
     "text": [
      "130\n",
      "26\n",
      "4056\n",
      "1.5\n",
      "**************************************************\n",
      "1\n",
      "26\n",
      "244860842756831203896798793038363593764863637715027581243662187665028113084218676375430402110652416\n"
     ]
    }
   ],
   "source": [
    "a = 78\n",
    "b = 52\n",
    "\n",
    "result = a+b ; print(result)\n",
    "result = a-b ; print(result)\n",
    "result = a*b ; print(result)\n",
    "result = a/b ; print(result)\n",
    "\n",
    "print('*'*50)\n",
    "\n",
    "result = a // b ; print(result)\n",
    "result = a % b ; print(result)\n",
    "result = a ** b ; print(result)\n"
   ]
  },
  {
   "cell_type": "code",
   "execution_count": 88,
   "id": "c5a6e9e7-8029-4772-80e2-40ba6dbc3296",
   "metadata": {},
   "outputs": [
    {
     "name": "stdin",
     "output_type": "stream",
     "text": [
      " 200\n"
     ]
    },
    {
     "name": "stdout",
     "output_type": "stream",
     "text": [
      "False\n",
      "바보냥\n"
     ]
    }
   ],
   "source": [
    "score = int(input())\n",
    "\n",
    "print(score <=100 & score >50)\n",
    "\n",
    "if 0<=score <=100 :\n",
    "    print('당신은 천재입니다')\n",
    "    \n",
    "else :\n",
    "    print('바보냥')"
   ]
  },
  {
   "cell_type": "code",
   "execution_count": 64,
   "id": "6cfda2ba-2bbc-4132-aae3-a0453346513b",
   "metadata": {},
   "outputs": [
    {
     "name": "stdin",
     "output_type": "stream",
     "text": [
      " 80\n",
      " 90\n"
     ]
    },
    {
     "name": "stdout",
     "output_type": "stream",
     "text": [
      "\n",
      "True\n",
      "True\n",
      "False\n",
      "False\n",
      "False\n",
      "True\n",
      "\n",
      "<class 'bool'>\n"
     ]
    }
   ],
   "source": [
    "data = int(input())\n",
    "score = int(input())\n",
    "\n",
    "print()\n",
    "print(data < score)\n",
    "print(data <= score)\n",
    "print(data > score)\n",
    "print(data >= score)\n",
    "print(data == score)\n",
    "print(data != score)\n",
    "print()\n",
    "\n",
    "print(type(data < score))"
   ]
  },
  {
   "cell_type": "code",
   "execution_count": 162,
   "id": "6b013d64-aee7-4207-99ae-f3d46f5cad7f",
   "metadata": {},
   "outputs": [
    {
     "name": "stdin",
     "output_type": "stream",
     "text": [
      " 40\n",
      " 50\n"
     ]
    },
    {
     "name": "stdout",
     "output_type": "stream",
     "text": [
      "\n",
      "새파랗게 어린게\n"
     ]
    }
   ],
   "source": [
    "a = int(input())\n",
    "b = int(input())\n",
    "\n",
    "print()\n",
    "\n",
    "if a > b & b >= 50 :\n",
    "        if a-b <= 5 :\n",
    "            print('이정도면 친구지')\n",
    "    \n",
    "        else: \n",
    "            print('사이좋게 지내시길')\n",
    "    \n",
    "elif a <= 50 :\n",
    "    print('새파랗게 어린게')\n",
    "    \n",
    "else :\n",
    "    print('아 어렵네')"
   ]
  },
  {
   "cell_type": "code",
   "execution_count": 82,
   "id": "9245d461-4007-4648-8562-ce48c49933ff",
   "metadata": {},
   "outputs": [
    {
     "name": "stdout",
     "output_type": "stream",
     "text": [
      "50번\n",
      "\n",
      "False True\n"
     ]
    }
   ],
   "source": [
    "num = 50\n",
    "\n",
    "print(str(num)+'번')\n",
    "print()\n",
    "print(bool(0), bool(-1))\n"
   ]
  },
  {
   "cell_type": "code",
   "execution_count": 112,
   "id": "a41a7824-dc17-41b6-986a-8e6c63b7a078",
   "metadata": {
    "collapsed": true,
    "jupyter": {
     "outputs_hidden": true
    },
    "tags": []
   },
   "outputs": [
    {
     "name": "stdout",
     "output_type": "stream",
     "text": [
      "미성년자 관람불가 입니다.\n",
      "\n",
      "나이를 입력해주세요\n"
     ]
    },
    {
     "ename": "KeyboardInterrupt",
     "evalue": "Interrupted by user",
     "output_type": "error",
     "traceback": [
      "\u001b[1;31m---------------------------------------------------------------------------\u001b[0m",
      "\u001b[1;31mKeyboardInterrupt\u001b[0m                         Traceback (most recent call last)",
      "\u001b[1;32m~\\AppData\\Local\\Temp/ipykernel_5816/3149937671.py\u001b[0m in \u001b[0;36m<module>\u001b[1;34m\u001b[0m\n\u001b[0;32m      2\u001b[0m \u001b[0mprint\u001b[0m\u001b[1;33m(\u001b[0m\u001b[1;34m'나이를 입력해주세요'\u001b[0m\u001b[1;33m)\u001b[0m\u001b[1;33m\u001b[0m\u001b[1;33m\u001b[0m\u001b[0m\n\u001b[0;32m      3\u001b[0m \u001b[1;33m\u001b[0m\u001b[0m\n\u001b[1;32m----> 4\u001b[1;33m \u001b[0mage\u001b[0m \u001b[1;33m=\u001b[0m \u001b[0mint\u001b[0m\u001b[1;33m(\u001b[0m\u001b[0minput\u001b[0m\u001b[1;33m(\u001b[0m\u001b[1;33m)\u001b[0m\u001b[1;33m)\u001b[0m\u001b[1;33m\u001b[0m\u001b[1;33m\u001b[0m\u001b[0m\n\u001b[0m\u001b[0;32m      5\u001b[0m \u001b[1;33m\u001b[0m\u001b[0m\n\u001b[0;32m      6\u001b[0m \u001b[1;32mif\u001b[0m \u001b[0mage\u001b[0m \u001b[1;33m>=\u001b[0m\u001b[1;36m20\u001b[0m \u001b[1;33m:\u001b[0m\u001b[1;33m\u001b[0m\u001b[1;33m\u001b[0m\u001b[0m\n",
      "\u001b[1;32m~\\Anaconda3\\lib\\site-packages\\ipykernel\\kernelbase.py\u001b[0m in \u001b[0;36mraw_input\u001b[1;34m(self, prompt)\u001b[0m\n\u001b[0;32m   1004\u001b[0m                 \u001b[1;34m\"raw_input was called, but this frontend does not support input requests.\"\u001b[0m\u001b[1;33m\u001b[0m\u001b[1;33m\u001b[0m\u001b[0m\n\u001b[0;32m   1005\u001b[0m             )\n\u001b[1;32m-> 1006\u001b[1;33m         return self._input_request(\n\u001b[0m\u001b[0;32m   1007\u001b[0m             \u001b[0mstr\u001b[0m\u001b[1;33m(\u001b[0m\u001b[0mprompt\u001b[0m\u001b[1;33m)\u001b[0m\u001b[1;33m,\u001b[0m\u001b[1;33m\u001b[0m\u001b[1;33m\u001b[0m\u001b[0m\n\u001b[0;32m   1008\u001b[0m             \u001b[0mself\u001b[0m\u001b[1;33m.\u001b[0m\u001b[0m_parent_ident\u001b[0m\u001b[1;33m[\u001b[0m\u001b[1;34m\"shell\"\u001b[0m\u001b[1;33m]\u001b[0m\u001b[1;33m,\u001b[0m\u001b[1;33m\u001b[0m\u001b[1;33m\u001b[0m\u001b[0m\n",
      "\u001b[1;32m~\\Anaconda3\\lib\\site-packages\\ipykernel\\kernelbase.py\u001b[0m in \u001b[0;36m_input_request\u001b[1;34m(self, prompt, ident, parent, password)\u001b[0m\n\u001b[0;32m   1049\u001b[0m             \u001b[1;32mexcept\u001b[0m \u001b[0mKeyboardInterrupt\u001b[0m\u001b[1;33m:\u001b[0m\u001b[1;33m\u001b[0m\u001b[1;33m\u001b[0m\u001b[0m\n\u001b[0;32m   1050\u001b[0m                 \u001b[1;31m# re-raise KeyboardInterrupt, to truncate traceback\u001b[0m\u001b[1;33m\u001b[0m\u001b[1;33m\u001b[0m\u001b[0m\n\u001b[1;32m-> 1051\u001b[1;33m                 \u001b[1;32mraise\u001b[0m \u001b[0mKeyboardInterrupt\u001b[0m\u001b[1;33m(\u001b[0m\u001b[1;34m\"Interrupted by user\"\u001b[0m\u001b[1;33m)\u001b[0m \u001b[1;32mfrom\u001b[0m \u001b[1;32mNone\u001b[0m\u001b[1;33m\u001b[0m\u001b[1;33m\u001b[0m\u001b[0m\n\u001b[0m\u001b[0;32m   1052\u001b[0m             \u001b[1;32mexcept\u001b[0m \u001b[0mException\u001b[0m\u001b[1;33m:\u001b[0m\u001b[1;33m\u001b[0m\u001b[1;33m\u001b[0m\u001b[0m\n\u001b[0;32m   1053\u001b[0m                 \u001b[0mself\u001b[0m\u001b[1;33m.\u001b[0m\u001b[0mlog\u001b[0m\u001b[1;33m.\u001b[0m\u001b[0mwarning\u001b[0m\u001b[1;33m(\u001b[0m\u001b[1;34m\"Invalid Message:\"\u001b[0m\u001b[1;33m,\u001b[0m \u001b[0mexc_info\u001b[0m\u001b[1;33m=\u001b[0m\u001b[1;32mTrue\u001b[0m\u001b[1;33m)\u001b[0m\u001b[1;33m\u001b[0m\u001b[1;33m\u001b[0m\u001b[0m\n",
      "\u001b[1;31mKeyboardInterrupt\u001b[0m: Interrupted by user"
     ]
    }
   ],
   "source": [
    "print('미성년자 관람불가 입니다.') ; print()\n",
    "print('나이를 입력해주세요')\n",
    "\n",
    "age = int(input())\n",
    "\n",
    "if age >=20 :\n",
    "    print()\n",
    "    print ('입장해주십시오')\n",
    "\n",
    "    \n",
    "else :\n",
    "    print()\n",
    "    print ('당신은 %d세로 관람불가입니다.' %(age))\n",
    "\n"
   ]
  },
  {
   "cell_type": "code",
   "execution_count": 121,
   "id": "78a71c3f-5367-4d10-901f-9c42d5bec352",
   "metadata": {
    "collapsed": true,
    "jupyter": {
     "outputs_hidden": true
    },
    "tags": []
   },
   "outputs": [
    {
     "name": "stdout",
     "output_type": "stream",
     "text": [
      "놀이동산에 오신 걸 환영합니다\n",
      "\n",
      "이 놀이기구는 연령 별 이용제한이 있습니다\n",
      "\n",
      "고객님의 연령대를 입력해주세요\n",
      "\n"
     ]
    },
    {
     "ename": "KeyboardInterrupt",
     "evalue": "Interrupted by user",
     "output_type": "error",
     "traceback": [
      "\u001b[1;31m---------------------------------------------------------------------------\u001b[0m",
      "\u001b[1;31mKeyboardInterrupt\u001b[0m                         Traceback (most recent call last)",
      "\u001b[1;32m~\\AppData\\Local\\Temp/ipykernel_5816/3657134835.py\u001b[0m in \u001b[0;36m<module>\u001b[1;34m\u001b[0m\n\u001b[0;32m      6\u001b[0m \u001b[0mprint\u001b[0m\u001b[1;33m(\u001b[0m\u001b[1;33m)\u001b[0m\u001b[1;33m\u001b[0m\u001b[1;33m\u001b[0m\u001b[0m\n\u001b[0;32m      7\u001b[0m \u001b[1;33m\u001b[0m\u001b[0m\n\u001b[1;32m----> 8\u001b[1;33m \u001b[0mage1\u001b[0m \u001b[1;33m=\u001b[0m \u001b[0mint\u001b[0m\u001b[1;33m(\u001b[0m\u001b[0minput\u001b[0m\u001b[1;33m(\u001b[0m\u001b[1;33m)\u001b[0m\u001b[1;33m)\u001b[0m\u001b[1;33m\u001b[0m\u001b[1;33m\u001b[0m\u001b[0m\n\u001b[0m\u001b[0;32m      9\u001b[0m \u001b[1;33m\u001b[0m\u001b[0m\n\u001b[0;32m     10\u001b[0m \u001b[0mprint\u001b[0m\u001b[1;33m(\u001b[0m\u001b[1;33m)\u001b[0m\u001b[1;33m\u001b[0m\u001b[1;33m\u001b[0m\u001b[0m\n",
      "\u001b[1;32m~\\Anaconda3\\lib\\site-packages\\ipykernel\\kernelbase.py\u001b[0m in \u001b[0;36mraw_input\u001b[1;34m(self, prompt)\u001b[0m\n\u001b[0;32m   1004\u001b[0m                 \u001b[1;34m\"raw_input was called, but this frontend does not support input requests.\"\u001b[0m\u001b[1;33m\u001b[0m\u001b[1;33m\u001b[0m\u001b[0m\n\u001b[0;32m   1005\u001b[0m             )\n\u001b[1;32m-> 1006\u001b[1;33m         return self._input_request(\n\u001b[0m\u001b[0;32m   1007\u001b[0m             \u001b[0mstr\u001b[0m\u001b[1;33m(\u001b[0m\u001b[0mprompt\u001b[0m\u001b[1;33m)\u001b[0m\u001b[1;33m,\u001b[0m\u001b[1;33m\u001b[0m\u001b[1;33m\u001b[0m\u001b[0m\n\u001b[0;32m   1008\u001b[0m             \u001b[0mself\u001b[0m\u001b[1;33m.\u001b[0m\u001b[0m_parent_ident\u001b[0m\u001b[1;33m[\u001b[0m\u001b[1;34m\"shell\"\u001b[0m\u001b[1;33m]\u001b[0m\u001b[1;33m,\u001b[0m\u001b[1;33m\u001b[0m\u001b[1;33m\u001b[0m\u001b[0m\n",
      "\u001b[1;32m~\\Anaconda3\\lib\\site-packages\\ipykernel\\kernelbase.py\u001b[0m in \u001b[0;36m_input_request\u001b[1;34m(self, prompt, ident, parent, password)\u001b[0m\n\u001b[0;32m   1049\u001b[0m             \u001b[1;32mexcept\u001b[0m \u001b[0mKeyboardInterrupt\u001b[0m\u001b[1;33m:\u001b[0m\u001b[1;33m\u001b[0m\u001b[1;33m\u001b[0m\u001b[0m\n\u001b[0;32m   1050\u001b[0m                 \u001b[1;31m# re-raise KeyboardInterrupt, to truncate traceback\u001b[0m\u001b[1;33m\u001b[0m\u001b[1;33m\u001b[0m\u001b[0m\n\u001b[1;32m-> 1051\u001b[1;33m                 \u001b[1;32mraise\u001b[0m \u001b[0mKeyboardInterrupt\u001b[0m\u001b[1;33m(\u001b[0m\u001b[1;34m\"Interrupted by user\"\u001b[0m\u001b[1;33m)\u001b[0m \u001b[1;32mfrom\u001b[0m \u001b[1;32mNone\u001b[0m\u001b[1;33m\u001b[0m\u001b[1;33m\u001b[0m\u001b[0m\n\u001b[0m\u001b[0;32m   1052\u001b[0m             \u001b[1;32mexcept\u001b[0m \u001b[0mException\u001b[0m\u001b[1;33m:\u001b[0m\u001b[1;33m\u001b[0m\u001b[1;33m\u001b[0m\u001b[0m\n\u001b[0;32m   1053\u001b[0m                 \u001b[0mself\u001b[0m\u001b[1;33m.\u001b[0m\u001b[0mlog\u001b[0m\u001b[1;33m.\u001b[0m\u001b[0mwarning\u001b[0m\u001b[1;33m(\u001b[0m\u001b[1;34m\"Invalid Message:\"\u001b[0m\u001b[1;33m,\u001b[0m \u001b[0mexc_info\u001b[0m\u001b[1;33m=\u001b[0m\u001b[1;32mTrue\u001b[0m\u001b[1;33m)\u001b[0m\u001b[1;33m\u001b[0m\u001b[1;33m\u001b[0m\u001b[0m\n",
      "\u001b[1;31mKeyboardInterrupt\u001b[0m: Interrupted by user"
     ]
    }
   ],
   "source": [
    "print('놀이동산에 오신 걸 환영합니다')\n",
    "print()\n",
    "print('이 놀이기구는 연령 별 이용제한이 있습니다')\n",
    "print()\n",
    "print('고객님의 연령대를 입력해주세요')\n",
    "print()\n",
    "\n",
    "age1 = int(input())\n",
    "\n",
    "print()\n",
    "\n",
    "# 범위수가 가장 좁은 것이 위로 와서 if 를 차지해야한다\n",
    "if age1 >= 65 :\n",
    "    print('고객님은 %d세로 노약자 탑승제한이 있습니다.' %(age1))\n",
    "    print('죄송합니다.')\n",
    "    \n",
    "elif age1 >=40 :\n",
    "    print('고객님 연령은 %d세로 탑승 가능하지만 주의를 요합니다.' %(age1))\n",
    "    print('탑승해주십시오.')\n",
    "\n",
    "elif age1 >= 20 :\n",
    "    print ('고객님의 연령은 %d세로 탑승 가능합니다.' %(age1))\n",
    "    print ('탑승해주십시오.')\n",
    "    \n",
    "else :\n",
    "    print('고객님은 현재 %d세 미성년자로 탑승불가합니다.' %(age1))\n",
    "    \n"
   ]
  },
  {
   "cell_type": "code",
   "execution_count": 137,
   "id": "a936c911-b224-4eab-8d0b-eed076d70f75",
   "metadata": {},
   "outputs": [
    {
     "name": "stdout",
     "output_type": "stream",
     "text": [
      "국가장학금 홈페이지\n",
      "\n",
      "장학금은 c학점 이상부터 수여 가능합니다\n",
      "귀하의 성적은\n"
     ]
    },
    {
     "name": "stdin",
     "output_type": "stream",
     "text": [
      " 2.5\n"
     ]
    },
    {
     "name": "stdout",
     "output_type": "stream",
     "text": [
      "\n",
      "학교는 도대체 왜 다니십 겁니까\n"
     ]
    }
   ],
   "source": [
    "print('국가장학금 홈페이지')\n",
    "print()\n",
    "\n",
    "print('장학금은 c학점 이상부터 수여 가능합니다')\n",
    "print('귀하의 성적은')\n",
    "\n",
    "score = float(input())\n",
    "print()\n",
    "\n",
    "\n",
    "if score >= 4.3 :\n",
    "    print('당신은 a학점으로 국가장학금 전액장학생입니다')\n",
    "    print()\n",
    "    \n",
    "elif score >= 3.7 :\n",
    "    print('당신은 b학점으로 80% 장학금 수여대상입니다')\n",
    "    print()\n",
    "    \n",
    "elif score >= 3.0 :\n",
    "    print('당신은 c학점으로 50% 장학금 수여대상입니다')\n",
    "    print()\n",
    "    \n",
    "else  :\n",
    "    print('학교는 도대체 왜 다니십 겁니까')\n"
   ]
  },
  {
   "cell_type": "code",
   "execution_count": 133,
   "id": "26a7a010-1e8e-41ca-a02a-5eb97a84d319",
   "metadata": {
    "tags": []
   },
   "outputs": [
    {
     "name": "stdout",
     "output_type": "stream",
     "text": [
      "What color do you like?\n",
      "\n"
     ]
    },
    {
     "name": "stdin",
     "output_type": "stream",
     "text": [
      " yellow\n"
     ]
    },
    {
     "name": "stdout",
     "output_type": "stream",
     "text": [
      "\n",
      "당신은 병아리\n"
     ]
    }
   ],
   "source": [
    "print('What color do you like?')\n",
    "print()\n",
    "\n",
    "color = input()\n",
    "\n",
    "print()\n",
    "\n",
    "if color == 'red' :\n",
    "    print('당신은 정열적입니다')\n",
    "    \n",
    "elif color == 'blue' :\n",
    "    print('쿨한 당신')\n",
    "    \n",
    "elif color == 'yellow' :\n",
    "    print('당신은 병아리')\n",
    "    \n",
    "elif color == 'green' :\n",
    "    print('당신은 평화주의자')\n",
    "\n",
    "else :\n",
    "    print('속 모를 사람이네요')\n",
    "    "
   ]
  },
  {
   "cell_type": "code",
   "execution_count": 136,
   "id": "4fcdb6f8-040f-4f9a-998c-a0398624ba59",
   "metadata": {
    "tags": []
   },
   "outputs": [
    {
     "name": "stdout",
     "output_type": "stream",
     "text": [
      "오징어게임\n",
      "\n",
      "이번엔 구슬뺏기 게임입니다\n",
      "\n",
      "상대방이 가진 구슬 갯수를 맞춰 많이 가진 사람이 이깁니다\n",
      "\n",
      "지금 상대방의 구슬은 몇개인가요?\n",
      "\n"
     ]
    },
    {
     "name": "stdin",
     "output_type": "stream",
     "text": [
      " 10\n"
     ]
    },
    {
     "name": "stdout",
     "output_type": "stream",
     "text": [
      "\n",
      "짝수\n",
      "당신이 맞췄습니다. 그의 구슬을 가져오세요\n"
     ]
    }
   ],
   "source": [
    "print('오징어게임')\n",
    "print()\n",
    "\n",
    "print('이번엔 구슬뺏기 게임입니다')\n",
    "print()\n",
    "\n",
    "print('상대방이 가진 구슬 갯수를 맞춰 많이 가진 사람이 이깁니다')\n",
    "print()\n",
    "\n",
    "print('지금 상대방의 구슬은 짝수일까요 홀수일까요?')\n",
    "print()\n",
    "\n",
    "ball = int(input())\n",
    "\n",
    "print()\n",
    "\n",
    "if ball%2 == 0 :\n",
    "    print('짝수')\n",
    "    print('당신이 맞췄습니다. 그의 구슬을 가져오세요')\n",
    "    \n",
    "elif ball%2 == 1 :\n",
    "    print('홀수')\n",
    "    print('당신이 틀렸습니다. 안녕~ ')\n"
   ]
  },
  {
   "cell_type": "code",
   "execution_count": 167,
   "id": "6d65a4b9-c88e-4707-a989-5710982bf2a2",
   "metadata": {},
   "outputs": [
    {
     "name": "stdin",
     "output_type": "stream",
     "text": [
      " 5000\n"
     ]
    },
    {
     "name": "stdout",
     "output_type": "stream",
     "text": [
      "\n",
      "축하합니다. 짝수이벤트로 라떼 드리겠습니다\n"
     ]
    }
   ],
   "source": [
    "pay = int(input())\n",
    "print()\n",
    "\n",
    "if pay >= 4500 :\n",
    "    if pay%2 == 0 :\n",
    "        print('축하합니다. 짝수이벤트로 라떼 드리겠습니다')\n",
    "    else :\n",
    "        print('저런.. 쿠키나 하나 추가해드리겠습니다')\n",
    "\n",
    "elif pay < 3000 :\n",
    "    print('요즘 그 돈으로 커피 못 사마셔요')\n",
    "\n",
    "else :\n",
    "    print('아메나 한잔 마시시죠')\n"
   ]
  },
  {
   "cell_type": "code",
   "execution_count": 27,
   "id": "632ddc39-749f-4401-8fd9-b3c844f9ca3e",
   "metadata": {
    "collapsed": true,
    "jupyter": {
     "outputs_hidden": true
    },
    "tags": []
   },
   "outputs": [
    {
     "ename": "KeyboardInterrupt",
     "evalue": "Interrupted by user",
     "output_type": "error",
     "traceback": [
      "\u001b[1;31m---------------------------------------------------------------------------\u001b[0m",
      "\u001b[1;31mKeyboardInterrupt\u001b[0m                         Traceback (most recent call last)",
      "\u001b[1;32m~\\AppData\\Local\\Temp/ipykernel_4012/818560702.py\u001b[0m in \u001b[0;36m<module>\u001b[1;34m\u001b[0m\n\u001b[1;32m----> 1\u001b[1;33m \u001b[0mi\u001b[0m \u001b[1;33m=\u001b[0m \u001b[0mint\u001b[0m\u001b[1;33m(\u001b[0m\u001b[0minput\u001b[0m\u001b[1;33m(\u001b[0m\u001b[1;33m)\u001b[0m\u001b[1;33m)\u001b[0m\u001b[1;33m\u001b[0m\u001b[1;33m\u001b[0m\u001b[0m\n\u001b[0m\u001b[0;32m      2\u001b[0m \u001b[1;33m\u001b[0m\u001b[0m\n\u001b[0;32m      3\u001b[0m \u001b[1;32mwhile\u001b[0m \u001b[0mi\u001b[0m \u001b[1;33m<=\u001b[0m \u001b[1;36m1000\u001b[0m\u001b[1;33m:\u001b[0m\u001b[1;33m\u001b[0m\u001b[1;33m\u001b[0m\u001b[0m\n\u001b[0;32m      4\u001b[0m     \u001b[0mprint\u001b[0m\u001b[1;33m(\u001b[0m\u001b[1;34m'hello%d'\u001b[0m \u001b[1;33m%\u001b[0m\u001b[1;33m(\u001b[0m\u001b[0mi\u001b[0m\u001b[1;33m)\u001b[0m\u001b[1;33m)\u001b[0m\u001b[1;33m\u001b[0m\u001b[1;33m\u001b[0m\u001b[0m\n\u001b[0;32m      5\u001b[0m     \u001b[0mi\u001b[0m \u001b[1;33m*=\u001b[0m \u001b[1;36m5\u001b[0m\u001b[1;33m\u001b[0m\u001b[1;33m\u001b[0m\u001b[0m\n",
      "\u001b[1;32m~\\Anaconda3\\lib\\site-packages\\ipykernel\\kernelbase.py\u001b[0m in \u001b[0;36mraw_input\u001b[1;34m(self, prompt)\u001b[0m\n\u001b[0;32m   1004\u001b[0m                 \u001b[1;34m\"raw_input was called, but this frontend does not support input requests.\"\u001b[0m\u001b[1;33m\u001b[0m\u001b[1;33m\u001b[0m\u001b[0m\n\u001b[0;32m   1005\u001b[0m             )\n\u001b[1;32m-> 1006\u001b[1;33m         return self._input_request(\n\u001b[0m\u001b[0;32m   1007\u001b[0m             \u001b[0mstr\u001b[0m\u001b[1;33m(\u001b[0m\u001b[0mprompt\u001b[0m\u001b[1;33m)\u001b[0m\u001b[1;33m,\u001b[0m\u001b[1;33m\u001b[0m\u001b[1;33m\u001b[0m\u001b[0m\n\u001b[0;32m   1008\u001b[0m             \u001b[0mself\u001b[0m\u001b[1;33m.\u001b[0m\u001b[0m_parent_ident\u001b[0m\u001b[1;33m[\u001b[0m\u001b[1;34m\"shell\"\u001b[0m\u001b[1;33m]\u001b[0m\u001b[1;33m,\u001b[0m\u001b[1;33m\u001b[0m\u001b[1;33m\u001b[0m\u001b[0m\n",
      "\u001b[1;32m~\\Anaconda3\\lib\\site-packages\\ipykernel\\kernelbase.py\u001b[0m in \u001b[0;36m_input_request\u001b[1;34m(self, prompt, ident, parent, password)\u001b[0m\n\u001b[0;32m   1049\u001b[0m             \u001b[1;32mexcept\u001b[0m \u001b[0mKeyboardInterrupt\u001b[0m\u001b[1;33m:\u001b[0m\u001b[1;33m\u001b[0m\u001b[1;33m\u001b[0m\u001b[0m\n\u001b[0;32m   1050\u001b[0m                 \u001b[1;31m# re-raise KeyboardInterrupt, to truncate traceback\u001b[0m\u001b[1;33m\u001b[0m\u001b[1;33m\u001b[0m\u001b[0m\n\u001b[1;32m-> 1051\u001b[1;33m                 \u001b[1;32mraise\u001b[0m \u001b[0mKeyboardInterrupt\u001b[0m\u001b[1;33m(\u001b[0m\u001b[1;34m\"Interrupted by user\"\u001b[0m\u001b[1;33m)\u001b[0m \u001b[1;32mfrom\u001b[0m \u001b[1;32mNone\u001b[0m\u001b[1;33m\u001b[0m\u001b[1;33m\u001b[0m\u001b[0m\n\u001b[0m\u001b[0;32m   1052\u001b[0m             \u001b[1;32mexcept\u001b[0m \u001b[0mException\u001b[0m\u001b[1;33m:\u001b[0m\u001b[1;33m\u001b[0m\u001b[1;33m\u001b[0m\u001b[0m\n\u001b[0;32m   1053\u001b[0m                 \u001b[0mself\u001b[0m\u001b[1;33m.\u001b[0m\u001b[0mlog\u001b[0m\u001b[1;33m.\u001b[0m\u001b[0mwarning\u001b[0m\u001b[1;33m(\u001b[0m\u001b[1;34m\"Invalid Message:\"\u001b[0m\u001b[1;33m,\u001b[0m \u001b[0mexc_info\u001b[0m\u001b[1;33m=\u001b[0m\u001b[1;32mTrue\u001b[0m\u001b[1;33m)\u001b[0m\u001b[1;33m\u001b[0m\u001b[1;33m\u001b[0m\u001b[0m\n",
      "\u001b[1;31mKeyboardInterrupt\u001b[0m: Interrupted by user"
     ]
    }
   ],
   "source": [
    "i = int(input())\n",
    "\n",
    "while i <= 1000:\n",
    "    print('hello%d' %(i))\n",
    "    i *= 5"
   ]
  },
  {
   "cell_type": "code",
   "execution_count": 46,
   "id": "0a7bb11b-a292-4ba3-a87a-12aee4f919a1",
   "metadata": {},
   "outputs": [
    {
     "name": "stdout",
     "output_type": "stream",
     "text": [
      "0\n",
      "1\n",
      "2\n",
      "3\n",
      "4\n",
      "5\n",
      "6\n",
      "7\n",
      "8\n",
      "9\n",
      "i is no longer less than 6\n"
     ]
    }
   ],
   "source": [
    "# i = 0\n",
    "\n",
    "# while i < 6 :    \n",
    "#     if i ==3 :\n",
    "#         break\n",
    "#     print(i)\n",
    "\n",
    "#     i += 1\n",
    "\n",
    "\n",
    "j = 0\n",
    "\n",
    "while j < 10 :\n",
    "    # if j == 7 :\n",
    "    #     #break\n",
    "    \n",
    "    print(j)\n",
    "    \n",
    "    j+=1\n",
    "\n",
    "else :\n",
    "    print('i is no longer less than 6')\n"
   ]
  },
  {
   "cell_type": "code",
   "execution_count": 50,
   "id": "9962834e-396b-4107-9281-0e8350e6fc32",
   "metadata": {},
   "outputs": [
    {
     "name": "stdout",
     "output_type": "stream",
     "text": [
      "5\n",
      "8\n",
      "11\n",
      "14\n",
      "17\n",
      "20\n",
      "23\n",
      "26\n",
      "29\n",
      "32\n"
     ]
    }
   ],
   "source": [
    "k = 5 \n",
    "\n",
    "while k < 50 :\n",
    "#     print(k)\n",
    "    \n",
    "#     k += 3\n",
    "    \n",
    "# else :\n",
    "#     print('python is difficult more than I thought')\n",
    "\n",
    "    if k == 35 :\n",
    "        break\n",
    "    print(k)\n",
    "    k += 3\n",
    "\n",
    "else :\n",
    "    print('python is difficult more than I thought')"
   ]
  },
  {
   "cell_type": "code",
   "execution_count": 39,
   "id": "c73c89dd-2fd9-4082-a79d-837376f39609",
   "metadata": {},
   "outputs": [
    {
     "name": "stdout",
     "output_type": "stream",
     "text": [
      "1\n",
      "2\n",
      "4\n",
      "5\n",
      "6\n"
     ]
    }
   ],
   "source": [
    "i = 0\n",
    "\n",
    "while i < 6 :\n",
    "    i += 1\n",
    "    \n",
    "    if i == 3 :\n",
    "        continue # continue 는 조건값을 만족시킨 다음 차례로 쭉 이어진다\n",
    "    \n",
    "    print(i)"
   ]
  },
  {
   "cell_type": "code",
   "execution_count": 202,
   "id": "3444733e-5aa4-44c0-8c6c-647b86180927",
   "metadata": {
    "tags": []
   },
   "outputs": [
    {
     "name": "stdout",
     "output_type": "stream",
     "text": [
      "이곳에는 5의 배수만 출력 가능합니다\n",
      "\n"
     ]
    },
    {
     "name": "stdin",
     "output_type": "stream",
     "text": [
      " 8\n"
     ]
    },
    {
     "name": "stdout",
     "output_type": "stream",
     "text": [
      "\n",
      "틀렸습니다\n"
     ]
    }
   ],
   "source": [
    "print('이곳에는 5의 배수만 출력 가능합니다')\n",
    "print()\n",
    "\n",
    "k = int(input())\n",
    "\n",
    "if k%5 ==0 :\n",
    "\n",
    "    while k <= 100 :\n",
    "        print(k)\n",
    "        k += 5\n",
    "        \n",
    "else :\n",
    "    print()\n",
    "    print('틀렸습니다')"
   ]
  },
  {
   "cell_type": "code",
   "execution_count": 425,
   "id": "d4f3584a-0fbe-441b-b2ee-577f0afdd5f7",
   "metadata": {
    "tags": []
   },
   "outputs": [
    {
     "name": "stdout",
     "output_type": "stream",
     "text": [
      "Hey. Let me show you all of my heart\n",
      "1\n",
      "2\n",
      "3\n",
      "4\n",
      "5\n",
      "6\n",
      "7\n",
      "8\n",
      "9\n"
     ]
    }
   ],
   "source": [
    "# print(range(10)) range는 0-10이전까지의 숫자 즉 0-9범위까지 범위를 나타내는 함수임\n",
    "\n",
    "print('Hey. Let me show you all of my heart')\n",
    "\n",
    "for i in range(9) :\n",
    "    print(i+1)\n",
    "\n"
   ]
  },
  {
   "cell_type": "code",
   "execution_count": 244,
   "id": "210e5e5e-08b5-4b63-b35f-dadda5560627",
   "metadata": {},
   "outputs": [
    {
     "name": "stdout",
     "output_type": "stream",
     "text": [
      "<class 'list'>\n",
      "7\n",
      "I will give you my fruits basket\n",
      "What kind of fruit do you like?\n",
      "Tell me any number under 7\n",
      "\n",
      "your answer is - \n"
     ]
    },
    {
     "name": "stdin",
     "output_type": "stream",
     "text": [
      " 5\n"
     ]
    },
    {
     "name": "stdout",
     "output_type": "stream",
     "text": [
      "mango\n",
      "\n",
      " Okay. I'll give you mango\n",
      "\n",
      "--------------------------------------------------\n",
      "['orange', 'mandarine', 'grape']\n",
      "['apple', 'pear', 'orange', 'mandarine', 'grape']\n",
      "['orange', 'mandarine', 'grape', 'mango', 'cherry']\n",
      "--------------------------------------------------\n",
      "\n",
      "['kiwi', 'pear', 'orange', 'mandarine', 'grape', 'mango', 'cherry']\n"
     ]
    }
   ],
   "source": [
    "# a = list(range(10))\n",
    "# print(a)\n",
    "\n",
    "fruits = ['apple', 'pear', 'orange', 'mandarine', 'grape', 'mango', 'cherry']\n",
    "\n",
    "print(type(fruits))\n",
    "print(len(fruits)) #문자열의 길이\n",
    "\n",
    "print('I will give you my fruits basket')\n",
    "print('What kind of fruit do you like?')\n",
    "print('Tell me any number under 7')\n",
    "print()\n",
    "\n",
    "print('your answer is - ');\n",
    "a = fruits[int(input())]\n",
    "print(a)\n",
    "print()\n",
    "\n",
    "print(\" Okay. I'll give you \" +a )\n",
    "print()\n",
    "print('-'*50)\n",
    "\n",
    "\n",
    "print(fruits[2:5]) #2-4번째\n",
    "print(fruits[:5]) #0-4번째\n",
    "print(fruits[2:]) #2-번쨰\n",
    "\n",
    "print('-'*50)\n",
    "\n",
    "fruits[0] = 'kiwi'\n",
    "print()\n",
    "print(fruits)"
   ]
  },
  {
   "cell_type": "code",
   "execution_count": 250,
   "id": "a1b251a7-e28d-43e7-b00c-2fd6a88571f0",
   "metadata": {},
   "outputs": [
    {
     "name": "stdout",
     "output_type": "stream",
     "text": [
      "What car do you love?\n",
      "\n",
      "Umm.... \n",
      "Your answer is...\n",
      "\n"
     ]
    },
    {
     "name": "stdin",
     "output_type": "stream",
     "text": [
      " 5\n"
     ]
    },
    {
     "name": "stdout",
     "output_type": "stream",
     "text": [
      "\n",
      "My dream car is kia\n",
      "\n",
      "Any other?\n",
      "\n"
     ]
    },
    {
     "name": "stdin",
     "output_type": "stream",
     "text": [
      " mac\n"
     ]
    },
    {
     "name": "stdout",
     "output_type": "stream",
     "text": [
      "Umm than mac\n",
      "\n",
      "Okay. I'll add it\n",
      "\n",
      "['ferrari', 'hyundai', 'honda', 'infinity', 'lexus', 'kia', 'ford', 'lincoln', 'porsche', 'mac']\n"
     ]
    }
   ],
   "source": [
    "car = ['ferrari', 'hyundai', 'honda', 'infinity', 'lexus', 'kia', 'ford', 'lincoln', 'porsche', 'bugati' ]\n",
    "\n",
    "print('What car do you love?') ; print()\n",
    "\n",
    "\n",
    "print('Umm.... ')\n",
    "print('Your answer is...') ; print()\n",
    "\n",
    "\n",
    "answer = car[int(input())] ; print()\n",
    "\n",
    "\n",
    "print('My dream car is '+ answer) ; print()\n",
    "\n",
    "\n",
    "print('Any other?'); print()\n",
    "\n",
    "other= input()\n",
    "print('Umm than '+other) ; print()\n",
    "print(\"Okay. I'll add it\")\n",
    "\n",
    "car[9] = other\n",
    "\n",
    "print()\n",
    "print(car)\n"
   ]
  },
  {
   "cell_type": "code",
   "execution_count": 317,
   "id": "83c98b46-8116-4520-87ef-22ac64cf0ffd",
   "metadata": {
    "collapsed": true,
    "jupyter": {
     "outputs_hidden": true
    },
    "tags": []
   },
   "outputs": [
    {
     "name": "stdout",
     "output_type": "stream",
     "text": [
      "5\n",
      "9\n",
      "17\n",
      "26\n",
      "38\n",
      "83\n",
      "161\n",
      "224\n",
      "319\n",
      "394\n",
      "--------------------------------------------------\n",
      "\n",
      "\n",
      "4\n",
      "13\n",
      "23\n",
      "38\n",
      "52\n",
      "137\n",
      "202\n",
      "276\n",
      "365\n",
      "425\n",
      "466\n",
      "489\n",
      "574\n",
      "619\n",
      "631\n",
      "678\n",
      "741\n"
     ]
    },
    {
     "ename": "TypeError",
     "evalue": "unsupported operand type(s) for %: 'list' and 'int'",
     "output_type": "error",
     "traceback": [
      "\u001b[1;31m---------------------------------------------------------------------------\u001b[0m",
      "\u001b[1;31mTypeError\u001b[0m                                 Traceback (most recent call last)",
      "\u001b[1;32m~\\AppData\\Local\\Temp/ipykernel_5816/2808811752.py\u001b[0m in \u001b[0;36m<module>\u001b[1;34m\u001b[0m\n\u001b[0;32m     26\u001b[0m     \u001b[0mprint\u001b[0m\u001b[1;33m(\u001b[0m\u001b[0msum1\u001b[0m\u001b[1;33m)\u001b[0m\u001b[1;33m\u001b[0m\u001b[1;33m\u001b[0m\u001b[0m\n\u001b[0;32m     27\u001b[0m \u001b[1;33m\u001b[0m\u001b[0m\n\u001b[1;32m---> 28\u001b[1;33m \u001b[0mprint\u001b[0m\u001b[1;33m(\u001b[0m \u001b[0mnumber1\u001b[0m\u001b[1;33m%\u001b[0m\u001b[1;36m2\u001b[0m \u001b[1;33m==\u001b[0m \u001b[1;36m0\u001b[0m \u001b[1;33m)\u001b[0m\u001b[1;33m\u001b[0m\u001b[1;33m\u001b[0m\u001b[0m\n\u001b[0m\u001b[0;32m     29\u001b[0m \u001b[1;33m\u001b[0m\u001b[0m\n\u001b[0;32m     30\u001b[0m \u001b[0mcount\u001b[0m \u001b[1;33m=\u001b[0m \u001b[1;36m0\u001b[0m\u001b[1;33m\u001b[0m\u001b[1;33m\u001b[0m\u001b[0m\n",
      "\u001b[1;31mTypeError\u001b[0m: unsupported operand type(s) for %: 'list' and 'int'"
     ]
    }
   ],
   "source": [
    "number = [5, 4, 8, 9, 12, 45, 78, 63, 95, 75]\n",
    "\n",
    "# print(number)\n",
    "# print(type(number))\n",
    "# print(number[5])\n",
    "# print(len(number))\n",
    "\n",
    "\n",
    "sum = 0      #쓰레기값\n",
    "\n",
    "\n",
    "for n in number :\n",
    "       sum = sum + n\n",
    "       print(sum)\n",
    "    \n",
    "print('-'*50) ; print()\n",
    "\n",
    "\n",
    "    \n",
    "    \n",
    "    \n"
   ]
  },
  {
   "cell_type": "code",
   "execution_count": 355,
   "id": "58173ecd-3447-4c92-9432-c17e0460b258",
   "metadata": {},
   "outputs": [
    {
     "name": "stdout",
     "output_type": "stream",
     "text": [
      "\n",
      "4\n",
      "13\n",
      "23\n",
      "38\n",
      "52\n",
      "137\n",
      "202\n",
      "276\n",
      "365\n",
      "425\n",
      "**************************************************\n",
      "\n"
     ]
    }
   ],
   "source": [
    "number = [4, 9, 10, 15, 14, 85, 65 , 74, 89 ,60 ]\n",
    "print()\n",
    "\n",
    "sum = 0\n",
    "\n",
    "for m in number :\n",
    "    sum = sum +m\n",
    "    \n",
    "    print(sum)\n",
    "    \n",
    "print('*'*50)\n",
    "print()\n",
    "\n",
    "\n",
    "\n",
    "\n",
    "\n",
    "        \n",
    "\n",
    "\n",
    "\n",
    "\n",
    "\n",
    "\n",
    "\n"
   ]
  },
  {
   "cell_type": "code",
   "execution_count": 398,
   "id": "88f894c8-377b-4b21-a4a5-8b5e691af1e5",
   "metadata": {},
   "outputs": [
    {
     "name": "stdout",
     "output_type": "stream",
     "text": [
      "\n",
      "4\n",
      "14\n",
      "28\n",
      "102\n",
      "162\n",
      "5\n"
     ]
    }
   ],
   "source": [
    "'''\n",
    "짝수의 갯수와 짝수의 합 구하기\n",
    "'''\n",
    "\n",
    "number = [4, 9, 10, 15, 14, 85, 65 , 74, 89 ,60 ]\n",
    "print()\n",
    "\n",
    "sum = 0\n",
    "count = 0\n",
    "\n",
    "for n in number :    #n번 동안 number 안에서 \n",
    "    if n%2 == 0 :\n",
    "        #print(n)\n",
    "        \n",
    "        sum = sum + n\n",
    "        print(sum)\n",
    "        \n",
    "        count = count +1\n",
    "print(count)\n",
    "        \n",
    "        # count = count + 1\n",
    "        # print(sum)\n",
    "        \n",
    "        "
   ]
  },
  {
   "cell_type": "code",
   "execution_count": 509,
   "id": "8bd73a0e-ff5f-4457-be4c-7e7e463b7d8b",
   "metadata": {},
   "outputs": [
    {
     "name": "stdout",
     "output_type": "stream",
     "text": [
      "\n",
      "456\n",
      "7\n",
      "\n",
      "**************************************************\n",
      "\n",
      "41\n",
      "25\n",
      "63\n",
      "47\n",
      "4\n"
     ]
    }
   ],
   "source": [
    "'''\n",
    "짝수의 갯수와 합과 짝수의 합, 홀수의 갯수와 홀수의 합 구하기\n",
    "'''\n",
    "\n",
    "number1 = [15, 84, 95, 74, 26, 34, 45 ,98, 41, 17, 82, 58]\n",
    "print()\n",
    "\n",
    "sum = 0\n",
    "count = 0\n",
    "\n",
    "for a in number1 :\n",
    "    if a % 2 == 0 :\n",
    "        #print(a)\n",
    "        count += 1\n",
    "        sum = sum +a \n",
    "        #print(sum)\n",
    "print(sum)  \n",
    "print(count) ; print()\n",
    "print('*'*50)\n",
    "\n",
    "number2 = [20, 41, 46, 74, 25, 63 ,47, 90, 84 ,46]\n",
    "print()\n",
    "\n",
    "sum1 = 0\n",
    "count1 = 0\n",
    "\n",
    "for b in number2 :\n",
    "    if b%2 != 0 :\n",
    "        count1 += 1\n",
    "        sum1 =sum1 + b\n",
    "        print(b)\n",
    "        #print(sum1) ; print()\n",
    "        \n",
    "print(count1)\n",
    "        \n"
   ]
  },
  {
   "cell_type": "code",
   "execution_count": 433,
   "id": "a57b7c3a-bcc3-4669-bb2d-20a79b1865ed",
   "metadata": {},
   "outputs": [
    {
     "name": "stdout",
     "output_type": "stream",
     "text": [
      "0\n",
      "1\n",
      "2\n",
      "3\n",
      "[0, 1, 2, 3]\n"
     ]
    }
   ],
   "source": [
    "for x in range(0,4):\n",
    "    print(x)\n",
    "    \n",
    "print(list(range(0,4)))"
   ]
  },
  {
   "cell_type": "code",
   "execution_count": 445,
   "id": "4cb46829-36bb-4a14-856a-32f14ba995a7",
   "metadata": {},
   "outputs": [
    {
     "ename": "SyntaxError",
     "evalue": "invalid syntax (Temp/ipykernel_5816/2102280660.py, line 9)",
     "output_type": "error",
     "traceback": [
      "\u001b[1;36m  File \u001b[1;32m\"C:\\Users\\BIT\\AppData\\Local\\Temp/ipykernel_5816/2102280660.py\"\u001b[1;36m, line \u001b[1;32m9\u001b[0m\n\u001b[1;33m    elif number = guess_me :\u001b[0m\n\u001b[1;37m                ^\u001b[0m\n\u001b[1;31mSyntaxError\u001b[0m\u001b[1;31m:\u001b[0m invalid syntax\n"
     ]
    }
   ],
   "source": [
    "guess_me = 5\n",
    "\n",
    "    \n",
    "\n",
    "    "
   ]
  },
  {
   "cell_type": "code",
   "execution_count": 54,
   "id": "5d26d382-158f-481e-9397-80660e5a6879",
   "metadata": {},
   "outputs": [
    {
     "name": "stdout",
     "output_type": "stream",
     "text": [
      "160-170 사이의 숫자에서 정답을 찾으시오\n",
      "\n"
     ]
    },
    {
     "name": "stdin",
     "output_type": "stream",
     "text": [
      "숫자를 입력하세요:  165\n"
     ]
    },
    {
     "name": "stdout",
     "output_type": "stream",
     "text": [
      "165\n",
      "165는 정답보다 2 만큼 큽니다\n",
      "\n"
     ]
    },
    {
     "name": "stdin",
     "output_type": "stream",
     "text": [
      "숫자를 입력하세요:  163\n"
     ]
    },
    {
     "name": "stdout",
     "output_type": "stream",
     "text": [
      "163\n",
      "정답입니다\n",
      "\n",
      "축하합니다  2 번 만에 맞추셨습니다\n"
     ]
    }
   ],
   "source": [
    "'''\n",
    "정답 : 163\n",
    "\n",
    "160-170 사이의 숫자에서 답을 찾기\n",
    "while문..\n",
    "count 세기\n",
    "'count 번 만에 답을 맞췄습니다'\n",
    "'''\n",
    "\n",
    "\n",
    "print('160-170 사이의 숫자에서 정답을 찾으시오') ; print()\n",
    "\n",
    "answer = 163\n",
    "count = 0\n",
    "\n",
    "while True :\n",
    "    number = int(input(\"숫자를 입력하세요: \"))\n",
    "    print(number)\n",
    "    count += 1\n",
    "    #count = count+1\n",
    "    \n",
    "\n",
    "    if number == answer :\n",
    "        print ('정답입니다') ; print()\n",
    "        break\n",
    "    elif number < answer :\n",
    "        print ('%d 는 정답보다 %d 만큼 작습니다' %(number, answer-number)) ; print()\n",
    "    elif number > answer :\n",
    "        print ('%d는 정답보다 %d 만큼 큽니다' %(number, number-answer)) ; print()\n",
    "        \n",
    "        \n",
    "        \n",
    "\n",
    "print('축하합니다 ', count,'번 만에 맞추셨습니다')\n",
    "\n",
    "\n",
    "\n",
    "\n",
    "\n",
    "\n"
   ]
  },
  {
   "cell_type": "code",
   "execution_count": 492,
   "id": "d43faeb0-0a7e-46fb-85cd-747cd74a7260",
   "metadata": {
    "collapsed": true,
    "jupyter": {
     "outputs_hidden": true
    },
    "tags": []
   },
   "outputs": [
    {
     "ename": "IndentationError",
     "evalue": "unexpected indent (Temp/ipykernel_5816/1075919319.py, line 12)",
     "output_type": "error",
     "traceback": [
      "\u001b[1;36m  File \u001b[1;32m\"C:\\Users\\BIT\\AppData\\Local\\Temp/ipykernel_5816/1075919319.py\"\u001b[1;36m, line \u001b[1;32m12\u001b[0m\n\u001b[1;33m    for num[a] > 78 :\u001b[0m\n\u001b[1;37m    ^\u001b[0m\n\u001b[1;31mIndentationError\u001b[0m\u001b[1;31m:\u001b[0m unexpected indent\n"
     ]
    }
   ],
   "source": [
    "'''\n",
    "숫자10개 중 최대/최소\n",
    "'''\n",
    "\n",
    "print('다음 숫자 10개 중 최대값과 최소값을 구하시오')\n",
    "\n",
    "\n",
    "num = [5, 4, 80, 9, 61, 45, 65, 78 ,3 ,9]\n",
    "\n",
    "a = int(input())\n",
    "\n",
    "    for num[a] > 78 :\n",
    "        if num[a] <= 78 :\n",
    "            print('')\n"
   ]
  },
  {
   "cell_type": "code",
   "execution_count": 59,
   "id": "027a7bdc-a211-405b-924b-b47f398d5b30",
   "metadata": {},
   "outputs": [
    {
     "name": "stdin",
     "output_type": "stream",
     "text": [
      "a =  9\n",
      "b =  10\n",
      "c =  11\n"
     ]
    },
    {
     "name": "stdout",
     "output_type": "stream",
     "text": [
      "가장 큰 값은 11 입니다\n",
      "가장 작은 값은 9 입니다\n"
     ]
    }
   ],
   "source": [
    "'''\n",
    "input 으로 숫자 3개를 받아 if 로 최대 최소 찾기\n",
    "'''\n",
    "\n",
    "a = int(input('a = '))\n",
    "b = int(input('b = '))\n",
    "c = int(input('c = '))\n",
    "\n",
    "max = 0\n",
    "min = 0\n",
    "\n",
    "if a > b:\n",
    "    if a > c :\n",
    "        max = a\n",
    "elif b > c :\n",
    "        max = b\n",
    "elif c > a :\n",
    "        max = c\n",
    "\n",
    "print('가장 큰 값은 %d 입니다' %(max))\n",
    "\n",
    "\n",
    "if a < b :\n",
    "    if a < c :\n",
    "        min = a\n",
    "\n",
    "elif b < a :\n",
    "        min = b\n",
    "\n",
    "elif c < b :\n",
    "        min = c\n",
    "        \n",
    "print('가장 작은 값은 %d 입니다' %(min))\n",
    "    \n",
    "    \n",
    "\n",
    "\n"
   ]
  },
  {
   "cell_type": "code",
   "execution_count": 501,
   "id": "1ed51807-f4d9-47d0-a582-ba940d3c02c7",
   "metadata": {},
   "outputs": [
    {
     "name": "stdout",
     "output_type": "stream",
     "text": [
      "점수가 60점 미만인 분은 불합격입니다\n",
      "\n",
      "1 님 당신은 합격입니다.\n",
      "2 님 당신은 합격입니다.\n",
      "3 님 당신은 합격입니다.\n",
      "4 님 당신은 합격입니다.\n",
      "5 님 당신은 합격입니다.\n",
      "6 님 당신은 불합격입니다.\n",
      "7 님 당신은 불합격입니다.\n"
     ]
    }
   ],
   "source": [
    "'''\n",
    "점수가 160 점 미만인 사람은 불합격\n",
    "'''\n",
    "\n",
    "\n",
    "print('점수가 60점 미만인 분은 불합격입니다')\n",
    "\n",
    "score_list = [70, 80, 90, 61, 83, 54, 59]\n",
    "num = 0\n",
    "\n",
    "print()\n",
    "\n",
    "for i in score_list :\n",
    "    num +=1\n",
    "    if i >= 60 :\n",
    "        print('%d 님 당신은 합격입니다.' %(num))\n",
    "    else :\n",
    "        print('%d 님 당신은 불합격입니다.' %(num))\n",
    "        \n",
    "\n",
    "\n",
    "\n",
    "\n"
   ]
  },
  {
   "cell_type": "code",
   "execution_count": 24,
   "id": "ab0029af-f358-42f2-8729-296e81a41314",
   "metadata": {},
   "outputs": [
    {
     "ename": "IndentationError",
     "evalue": "expected an indented block (Temp/ipykernel_4012/3563117335.py, line 18)",
     "output_type": "error",
     "traceback": [
      "\u001b[1;36m  File \u001b[1;32m\"C:\\Users\\BIT\\AppData\\Local\\Temp/ipykernel_4012/3563117335.py\"\u001b[1;36m, line \u001b[1;32m18\u001b[0m\n\u001b[1;33m    print('그것보단 작습니다')\u001b[0m\n\u001b[1;37m    ^\u001b[0m\n\u001b[1;31mIndentationError\u001b[0m\u001b[1;31m:\u001b[0m expected an indented block\n"
     ]
    }
   ],
   "source": [
    "'''\n",
    "숫자 맞추기 게임\n",
    "'''\n",
    "\n",
    "print('10번 안에 숫자를 맞춰주세요')\n",
    "\n",
    "number_list = [85, 88, 71, 65, 90, 99, 55, 100]\n",
    "answer = 88\n",
    "num = 0\n",
    "a = int(input(\"내 답은 : \"))\n",
    "\n",
    "for i in number_list :\n",
    "    num += 1\n",
    "    if a == 88 :\n",
    "        print('정답입니다.')\n",
    "        break\n",
    "    elif a > 88 :\n",
    "        print('그것보단 작습니다')        \n",
    "    else :  \n",
    "        print('그것보단 큽니다')       \n",
    "        \n",
    "        \n",
    "\n",
    "            \n",
    "\n",
    "\n",
    "\n",
    "           \n",
    "\n",
    "\n",
    "\n",
    "\n",
    "\n",
    "\n",
    "\n",
    "\n",
    "\n",
    "\n"
   ]
  },
  {
   "cell_type": "code",
   "execution_count": 8,
   "id": "5e69c849-e605-4468-879e-201f67545e13",
   "metadata": {},
   "outputs": [
    {
     "name": "stdout",
     "output_type": "stream",
     "text": [
      "range(160, 170)\n"
     ]
    }
   ],
   "source": []
  },
  {
   "cell_type": "code",
   "execution_count": null,
   "id": "cc10bb1c-bf4e-4fb5-8dd5-4701ef61409a",
   "metadata": {},
   "outputs": [],
   "source": []
  }
 ],
 "metadata": {
  "kernelspec": {
   "display_name": "Python 3 (ipykernel)",
   "language": "python",
   "name": "python3"
  },
  "language_info": {
   "codemirror_mode": {
    "name": "ipython",
    "version": 3
   },
   "file_extension": ".py",
   "mimetype": "text/x-python",
   "name": "python",
   "nbconvert_exporter": "python",
   "pygments_lexer": "ipython3",
   "version": "3.9.7"
  }
 },
 "nbformat": 4,
 "nbformat_minor": 5
}
