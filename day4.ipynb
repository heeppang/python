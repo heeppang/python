{
 "cells": [
  {
   "cell_type": "code",
   "execution_count": 1,
   "id": "a15ff2a1-6b94-44c3-a0af-34bdfc0cb3c3",
   "metadata": {},
   "outputs": [],
   "source": [
    "def my_add(a, b) :\n",
    "    x = a + b\n",
    "    \n",
    "    return x #return 값이 없을 경우 a,b를 무조건 대입 받아야함"
   ]
  },
  {
   "cell_type": "code",
   "execution_count": 2,
   "id": "3c05d3f9-f291-4f7d-a9f0-5921e9ac0847",
   "metadata": {},
   "outputs": [],
   "source": [
    "y = my_add(10 , 20)"
   ]
  },
  {
   "cell_type": "code",
   "execution_count": 3,
   "id": "d6ea5241-04ad-4e14-85fa-cdb29c2ea46f",
   "metadata": {},
   "outputs": [],
   "source": [
    "def my_evenodd(a) :\n",
    "    \n",
    "    if a%2 == 0:\n",
    "        s = '짝'\n",
    "        \n",
    "    else :\n",
    "        s = '홀'\n",
    "    \n",
    "        return('%d 는 %s수입니다.' %(a, s))\n",
    "\n",
    "    \n",
    "    \n",
    "    "
   ]
  },
  {
   "cell_type": "code",
   "execution_count": 4,
   "id": "fe2b7d30-112b-4bd7-93fe-1c7e4ec26f58",
   "metadata": {},
   "outputs": [
    {
     "ename": "KeyboardInterrupt",
     "evalue": "Interrupted by user",
     "output_type": "error",
     "traceback": [
      "\u001b[1;31m---------------------------------------------------------------------------\u001b[0m",
      "\u001b[1;31mKeyboardInterrupt\u001b[0m                         Traceback (most recent call last)",
      "\u001b[1;32m~\\AppData\\Local\\Temp/ipykernel_10912/3899525865.py\u001b[0m in \u001b[0;36m<module>\u001b[1;34m\u001b[0m\n\u001b[1;32m----> 1\u001b[1;33m \u001b[0ma\u001b[0m \u001b[1;33m=\u001b[0m \u001b[0mint\u001b[0m\u001b[1;33m(\u001b[0m\u001b[0minput\u001b[0m\u001b[1;33m(\u001b[0m\u001b[1;34m'값을 입력해주세요 : '\u001b[0m\u001b[1;33m)\u001b[0m\u001b[1;33m)\u001b[0m\u001b[1;33m\u001b[0m\u001b[1;33m\u001b[0m\u001b[0m\n\u001b[0m\u001b[0;32m      2\u001b[0m \u001b[1;33m\u001b[0m\u001b[0m\n\u001b[0;32m      3\u001b[0m \u001b[0mmy_evenodd\u001b[0m\u001b[1;33m(\u001b[0m\u001b[0ma\u001b[0m\u001b[1;33m)\u001b[0m\u001b[1;33m\u001b[0m\u001b[1;33m\u001b[0m\u001b[0m\n\u001b[0;32m      4\u001b[0m \u001b[1;33m\u001b[0m\u001b[0m\n\u001b[0;32m      5\u001b[0m \u001b[0mprint\u001b[0m\u001b[1;33m(\u001b[0m\u001b[0mtype\u001b[0m\u001b[1;33m(\u001b[0m\u001b[0mmy_evenodd\u001b[0m\u001b[1;33m(\u001b[0m\u001b[0ma\u001b[0m\u001b[1;33m)\u001b[0m\u001b[1;33m)\u001b[0m\u001b[1;33m)\u001b[0m\u001b[1;33m\u001b[0m\u001b[1;33m\u001b[0m\u001b[0m\n",
      "\u001b[1;32m~\\Anaconda3\\lib\\site-packages\\ipykernel\\kernelbase.py\u001b[0m in \u001b[0;36mraw_input\u001b[1;34m(self, prompt)\u001b[0m\n\u001b[0;32m   1004\u001b[0m                 \u001b[1;34m\"raw_input was called, but this frontend does not support input requests.\"\u001b[0m\u001b[1;33m\u001b[0m\u001b[1;33m\u001b[0m\u001b[0m\n\u001b[0;32m   1005\u001b[0m             )\n\u001b[1;32m-> 1006\u001b[1;33m         return self._input_request(\n\u001b[0m\u001b[0;32m   1007\u001b[0m             \u001b[0mstr\u001b[0m\u001b[1;33m(\u001b[0m\u001b[0mprompt\u001b[0m\u001b[1;33m)\u001b[0m\u001b[1;33m,\u001b[0m\u001b[1;33m\u001b[0m\u001b[1;33m\u001b[0m\u001b[0m\n\u001b[0;32m   1008\u001b[0m             \u001b[0mself\u001b[0m\u001b[1;33m.\u001b[0m\u001b[0m_parent_ident\u001b[0m\u001b[1;33m[\u001b[0m\u001b[1;34m\"shell\"\u001b[0m\u001b[1;33m]\u001b[0m\u001b[1;33m,\u001b[0m\u001b[1;33m\u001b[0m\u001b[1;33m\u001b[0m\u001b[0m\n",
      "\u001b[1;32m~\\Anaconda3\\lib\\site-packages\\ipykernel\\kernelbase.py\u001b[0m in \u001b[0;36m_input_request\u001b[1;34m(self, prompt, ident, parent, password)\u001b[0m\n\u001b[0;32m   1049\u001b[0m             \u001b[1;32mexcept\u001b[0m \u001b[0mKeyboardInterrupt\u001b[0m\u001b[1;33m:\u001b[0m\u001b[1;33m\u001b[0m\u001b[1;33m\u001b[0m\u001b[0m\n\u001b[0;32m   1050\u001b[0m                 \u001b[1;31m# re-raise KeyboardInterrupt, to truncate traceback\u001b[0m\u001b[1;33m\u001b[0m\u001b[1;33m\u001b[0m\u001b[0m\n\u001b[1;32m-> 1051\u001b[1;33m                 \u001b[1;32mraise\u001b[0m \u001b[0mKeyboardInterrupt\u001b[0m\u001b[1;33m(\u001b[0m\u001b[1;34m\"Interrupted by user\"\u001b[0m\u001b[1;33m)\u001b[0m \u001b[1;32mfrom\u001b[0m \u001b[1;32mNone\u001b[0m\u001b[1;33m\u001b[0m\u001b[1;33m\u001b[0m\u001b[0m\n\u001b[0m\u001b[0;32m   1052\u001b[0m             \u001b[1;32mexcept\u001b[0m \u001b[0mException\u001b[0m\u001b[1;33m:\u001b[0m\u001b[1;33m\u001b[0m\u001b[1;33m\u001b[0m\u001b[0m\n\u001b[0;32m   1053\u001b[0m                 \u001b[0mself\u001b[0m\u001b[1;33m.\u001b[0m\u001b[0mlog\u001b[0m\u001b[1;33m.\u001b[0m\u001b[0mwarning\u001b[0m\u001b[1;33m(\u001b[0m\u001b[1;34m\"Invalid Message:\"\u001b[0m\u001b[1;33m,\u001b[0m \u001b[0mexc_info\u001b[0m\u001b[1;33m=\u001b[0m\u001b[1;32mTrue\u001b[0m\u001b[1;33m)\u001b[0m\u001b[1;33m\u001b[0m\u001b[1;33m\u001b[0m\u001b[0m\n",
      "\u001b[1;31mKeyboardInterrupt\u001b[0m: Interrupted by user"
     ]
    }
   ],
   "source": [
    "a = int(input('값을 입력해주세요 : '))\n",
    "\n",
    "my_evenodd(a)\n",
    "\n",
    "print(type(my_evenodd(a)))\n"
   ]
  },
  {
   "cell_type": "code",
   "execution_count": null,
   "id": "111da930-b8d2-4840-8ab4-574a2e8a0681",
   "metadata": {},
   "outputs": [],
   "source": [
    "def my_addsub(a,b) :\n",
    "    \n",
    "    add = a + b\n",
    "    sub = a - b\n",
    "    \n",
    "    return add, sub"
   ]
  },
  {
   "cell_type": "code",
   "execution_count": null,
   "id": "587755eb-7f3c-45a1-9dbe-ff5bbad4a177",
   "metadata": {},
   "outputs": [],
   "source": [
    "y = my_addsub(10,5)\n",
    "print(type(y), y[0], y[1]) # y[0]번째는 add, y[1]번째는 sub라는 것을 알 수 있다"
   ]
  },
  {
   "cell_type": "code",
   "execution_count": null,
   "id": "37672769-e62e-4a7f-80af-284b153b3e39",
   "metadata": {},
   "outputs": [],
   "source": [
    "'''\n",
    "원의 넓이 구하기\n",
    "'''\n",
    "\n",
    "\n",
    "def my_cir(a) :\n",
    "    \n",
    "    cir = (a**2)*3.14\n",
    "    \n",
    "    return cir\n",
    "    \n",
    "    \n",
    "    \n",
    "    "
   ]
  },
  {
   "cell_type": "code",
   "execution_count": null,
   "id": "0fb46768-8a9c-45d7-9876-8aa93ba410a2",
   "metadata": {},
   "outputs": [],
   "source": [
    "a = int(input())\n",
    "\n",
    "g = my_cir(a)\n",
    "\n",
    "print('원의 넓이는 %.2f ㎠이다.' %g) #함수에서는 계산만 하고 print 영역에서 출력"
   ]
  },
  {
   "cell_type": "code",
   "execution_count": 28,
   "id": "b69b2953-57a5-459d-929d-8005be310847",
   "metadata": {},
   "outputs": [],
   "source": [
    "def my_evenodd(list) :\n",
    "    \n",
    "    result = []\n",
    "    \n",
    "    sum = 0\n",
    "    \n",
    "    for d in range(len(list)) :\n",
    "        if list[d]%2 == 0 :\n",
    "            sum = sum+d\n",
    "            result.append(list[d])\n",
    "            \n",
    "            \n",
    "    return(result, sum)\n",
    "            "
   ]
  },
  {
   "cell_type": "code",
   "execution_count": 29,
   "id": "96356e0e-e8d3-45a0-afd2-0f1f96ea7c55",
   "metadata": {},
   "outputs": [
    {
     "name": "stdin",
     "output_type": "stream",
     "text": [
      " 1\n",
      " 2\n",
      " 3\n",
      " 4\n",
      " 5\n"
     ]
    },
    {
     "name": "stdout",
     "output_type": "stream",
     "text": [
      "([2, 4], 4)\n"
     ]
    }
   ],
   "source": [
    "a =int(input())\n",
    "a1 =int(input())\n",
    "a2 =int(input())\n",
    "a3 =int(input())\n",
    "a4 = int(input())\n",
    "\n",
    "g = my_evenodd([a,a1,a2,a3,a4])\n",
    "\n",
    "print(g)"
   ]
  },
  {
   "cell_type": "code",
   "execution_count": null,
   "id": "ec2cb699-cfd6-4ecc-86a1-ff9dec3d4666",
   "metadata": {},
   "outputs": [],
   "source": [
    "def my_family(*name) :\n",
    "    \n",
    "    print(type(name))\n",
    "    print(name)\n",
    "    print(len(name))\n",
    "    #print(name.sort())\n",
    "    \n",
    "    sum = 0\n",
    "    for i in name :\n",
    "        sum+=1\n",
    "    print(sum)\n",
    "    \n",
    "    print(bool(sum == len(name)))"
   ]
  },
  {
   "cell_type": "code",
   "execution_count": null,
   "id": "74687a14-817e-43a6-930a-12afcc31dfd2",
   "metadata": {},
   "outputs": [
    {
     "name": "stdout",
     "output_type": "stream",
     "text": [
      "<class 'tuple'>\n",
      "('mom', 'dad', 'me', 'sis', 'bro', 'ho')\n",
      "6\n",
      "6\n",
      "True\n"
     ]
    }
   ],
   "source": [
    "#name= input()\n",
    "my_family('mom', 'dad', 'me', 'sis', 'bro','ho')\n"
   ]
  },
  {
   "cell_type": "code",
   "execution_count": 16,
   "id": "5e242c8a-5fe6-4516-b4c9-d01970d89ac2",
   "metadata": {},
   "outputs": [],
   "source": [
    "def my_family(**name) : #   * 2개는 dictionary 형식\n",
    "    print(name)\n",
    "    print(name['lname'])\n",
    "    print(type(name))\n",
    "    \n",
    "\n",
    "\n"
   ]
  },
  {
   "cell_type": "code",
   "execution_count": null,
   "id": "654c5f06-49ac-4a86-a215-9466eab635d6",
   "metadata": {
    "collapsed": true,
    "jupyter": {
     "outputs_hidden": true
    },
    "tags": []
   },
   "outputs": [
    {
     "ename": "TypeError",
     "evalue": "my_family() got an unexpected keyword argument 'name'",
     "output_type": "error",
     "traceback": [
      "\u001b[1;31m---------------------------------------------------------------------------\u001b[0m",
      "\u001b[1;31mTypeError\u001b[0m                                 Traceback (most recent call last)",
      "\u001b[1;32m~\\AppData\\Local\\Temp/ipykernel_10912/1155762619.py\u001b[0m in \u001b[0;36m<module>\u001b[1;34m\u001b[0m\n\u001b[1;32m----> 1\u001b[1;33m \u001b[0mmy_family\u001b[0m\u001b[1;33m(\u001b[0m\u001b[0mname\u001b[0m\u001b[1;33m=\u001b[0m\u001b[1;34m'heesang'\u001b[0m\u001b[1;33m,\u001b[0m\u001b[0mfname\u001b[0m\u001b[1;33m=\u001b[0m\u001b[1;34m'yoon'\u001b[0m\u001b[1;33m,\u001b[0m \u001b[0mlname\u001b[0m\u001b[1;33m=\u001b[0m\u001b[1;34m'saem'\u001b[0m\u001b[1;33m,\u001b[0m \u001b[0mpname\u001b[0m\u001b[1;33m=\u001b[0m\u001b[1;34m'han'\u001b[0m\u001b[1;33m)\u001b[0m\u001b[1;33m\u001b[0m\u001b[1;33m\u001b[0m\u001b[0m\n\u001b[0m\u001b[0;32m      2\u001b[0m \u001b[1;33m\u001b[0m\u001b[0m\n",
      "\u001b[1;31mTypeError\u001b[0m: my_family() got an unexpected keyword argument 'name'"
     ]
    }
   ],
   "source": [
    "my_family(name='heesang',fname='yoon', lname='saem', pname='han')\n",
    "\n"
   ]
  },
  {
   "cell_type": "code",
   "execution_count": 15,
   "id": "4b1f51a0-a369-4115-943c-3b7d19449fd1",
   "metadata": {},
   "outputs": [],
   "source": [
    "'''\n",
    "입력되는 매개변수 모두의 합을 구한다\n",
    "'''\n",
    "\n",
    "def random_add(*num) :\n",
    "    sum = 0\n",
    "    i = 0\n",
    "    \n",
    "    for i in num :\n",
    "        sum  = sum +i\n",
    "        mul = sum * (sum+i)\n",
    "        div = sum / len(num)\n",
    "        \n",
    "    return sum, mul, int(div)\n",
    "        \n",
    "    "
   ]
  },
  {
   "cell_type": "code",
   "execution_count": 14,
   "id": "ec7d419c-25e2-4598-b9b3-8550662faade",
   "metadata": {},
   "outputs": [
    {
     "name": "stdin",
     "output_type": "stream",
     "text": [
      "첫번째 숫자 :  7\n",
      "두번째 숫자 :  8\n",
      "세번째 숫자 :  9\n",
      "네번째 숫자 :  5\n",
      "다섯번째 숫자 :  6\n",
      "여섯번째 숫자 :  4\n",
      "일곱번째 숫자 :  5\n"
     ]
    },
    {
     "name": "stdout",
     "output_type": "stream",
     "text": [
      "(44, 2156, 6)\n"
     ]
    }
   ],
   "source": [
    "n = int(input('첫번째 숫자 : '))\n",
    "n1 = int(input('두번째 숫자 : '))\n",
    "n2 = int(input('세번째 숫자 : '))\n",
    "n3 = int(input('네번째 숫자 : '))\n",
    "n4 = int(input('다섯번째 숫자 : '))\n",
    "n5 = int(input('여섯번째 숫자 : '))\n",
    "n6 = int(input('일곱번째 숫자 : '))\n",
    "\n",
    "x = random_add(n,n1,n2,n3,n4,n5,n6)\n",
    "    \n",
    "print(x)"
   ]
  },
  {
   "cell_type": "code",
   "execution_count": null,
   "id": "c9d40631-da6b-47dc-8c1e-b34ef37f1b75",
   "metadata": {},
   "outputs": [],
   "source": [
    "def my_country(state, country = 'Korea') :\n",
    "    print(state, country)"
   ]
  },
  {
   "cell_type": "code",
   "execution_count": null,
   "id": "e756dd92-f80b-4788-8d9d-e60dadcf589c",
   "metadata": {},
   "outputs": [],
   "source": [
    "my_country('Spain')\n",
    "my_country('USA')\n",
    "my_country('Soudi')"
   ]
  },
  {
   "cell_type": "code",
   "execution_count": null,
   "id": "fbe661d6-27f7-4019-bee5-61fe14f4d6a5",
   "metadata": {},
   "outputs": [],
   "source": [
    "def my_function(food) :\n",
    "    for x in food :\n",
    "        print(x)\n",
    "\n",
    "\n"
   ]
  },
  {
   "cell_type": "code",
   "execution_count": null,
   "id": "76fb2a37-e212-4c82-9ad4-02da393ee3a4",
   "metadata": {},
   "outputs": [],
   "source": [
    "fruits = ['apple', 'banana', 'cherry']\n",
    "\n",
    "my_function(fruits)"
   ]
  },
  {
   "cell_type": "code",
   "execution_count": null,
   "id": "ba3fac16-7a2d-4a02-ac59-3279f37b02fe",
   "metadata": {
    "tags": []
   },
   "outputs": [],
   "source": [
    "ar = int(inputs())"
   ]
  },
  {
   "cell_type": "code",
   "execution_count": null,
   "id": "290c7ff9-5c75-4138-9dc4-5c6faf6eb17b",
   "metadata": {},
   "outputs": [],
   "source": [
    "'''\n",
    "매개변수 bec 를 [] 형태로 입력 받아 그 수들의 합을 구하는 함수\n",
    "\n",
    "'''\n",
    " \n",
    "def my_add5(bec) :                #bec는 매개변수. list 형태\n",
    "    \n",
    "    cum = 0    #cum은 쓰레기값이 들어있을 수 있으므로 초기값을 준다 \n",
    "     \n",
    "    #현재 위치의 i는 for문 안에서 돌아갈 것이므로 i=0 은 필요가 없음\n",
    "    \n",
    "    for i in bec :\n",
    "        # i += 1    - for문일 땐 필요없음\n",
    "        cum = cum + i   #cum = cum + i 는 bec의 범위 속에서 i번 반복되는 값이 계속 cum 안에 누적된다는 의미임\n",
    "        \n",
    "    return cum\n",
    "\n"
   ]
  },
  {
   "cell_type": "code",
   "execution_count": null,
   "id": "306b6bc1-549b-4eff-affc-665b8e4e98d0",
   "metadata": {},
   "outputs": [],
   "source": [
    "x = int(input('몇개의 숫자를 입력해 더하시겠습니까 : '))   #x는 총 몇개의 숫자가 더해질지 정하는 변수\n",
    " \n",
    "list = []   #list는 빈상태\n",
    "\n",
    "\n",
    "for i in range(x) :  # 아까 입력한 x의 범위(1~x)만큼 for이 반복된다\n",
    "    d = int(input('더할 숫자를 적으세요 ')) #d는 input 받아 list에 추가될 숫자. x의 횟수만큼 반복됨\n",
    "    list.append(d)  #list.append(d) 로 list에 숫자 d를 추가한다\n",
    "    \n",
    "    \n",
    "\n",
    "k = my_add5(list)  # 함수 my_add5()를 k라는 변수에 저장. 매개변수 list 를 넣어 my_add의 동작을 구현\n",
    "\n",
    "print()\n",
    "print(list) ; print()\n",
    "print('함수로 받은 값은 %d 이다\\n' %k)\n",
    "print('가장 큰 수는 %d 이다 \\n' %max(list))\n",
    "print('가장 작은 수는 %d 이다 \\n' %min(list))\n",
    "\n",
    "\n",
    "\n"
   ]
  },
  {
   "cell_type": "code",
   "execution_count": null,
   "id": "9e4acf53-837d-4c2c-b7da-9efc19964129",
   "metadata": {},
   "outputs": [],
   "source": [
    "pow(38, -1, mod=97)\n",
    "\n",
    "max(5,9,8,0,7,45)"
   ]
  },
  {
   "cell_type": "code",
   "execution_count": null,
   "id": "ba132061-5598-4fc4-bb30-845476820e13",
   "metadata": {},
   "outputs": [],
   "source": [
    "a = int(input('배열 속 숫자 갯수'))\n",
    "\n",
    "g = []\n",
    "\n",
    "for i in range(a) : #a의 범위속에서 \n",
    "    d = int(input('%d 번째 숫자를 써주세요 : ' % (i+1)))\n",
    "    g.append(d)\n",
    "\n",
    "print(g) ; print()\n",
    "\n",
    "\n",
    "p = sum(g)  #sum 함수 사용법\n",
    "\n",
    "print(p) ;print()\n",
    "\n",
    "max(g) \n",
    "\n"
   ]
  },
  {
   "cell_type": "code",
   "execution_count": null,
   "id": "1b9a00f5-5438-4f45-9e20-339446dd4ab7",
   "metadata": {},
   "outputs": [],
   "source": []
  },
  {
   "cell_type": "code",
   "execution_count": null,
   "id": "8f713a05-a821-4c1f-bcde-99bf86831412",
   "metadata": {},
   "outputs": [],
   "source": []
  }
 ],
 "metadata": {
  "kernelspec": {
   "display_name": "Python 3 (ipykernel)",
   "language": "python",
   "name": "python3"
  },
  "language_info": {
   "codemirror_mode": {
    "name": "ipython",
    "version": 3
   },
   "file_extension": ".py",
   "mimetype": "text/x-python",
   "name": "python",
   "nbconvert_exporter": "python",
   "pygments_lexer": "ipython3",
   "version": "3.9.7"
  }
 },
 "nbformat": 4,
 "nbformat_minor": 5
}
