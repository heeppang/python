{
 "cells": [
  {
   "cell_type": "markdown",
   "id": "8695ff17-b666-4f1d-b9a0-badfcabb87a5",
   "metadata": {},
   "source": [
    "# HTTP"
   ]
  },
  {
   "cell_type": "markdown",
   "id": "b8b72352-16d9-4bcb-93ec-0c037f3cc58b",
   "metadata": {},
   "source": [
    "| 메서드 | 설명 |\n",
    "| --- | --- |\n",
    "| GET | 특정 자원에 대한 정보를 요청 |\n",
    "| HEAD | GET과 동일하지만 서버에서 응답 메시지의 Body를 반환하지 않음 (화면 변화 없음) |\n",
    "| POST | html form이나 XMLHttp​Request 등을 통해 특정 자원(데이터)를 서버에 보내서 생성 |\n",
    "| PUT | 특정 자원을 업데이트. Location:URI을 추가적으로 보내지 않아도 됨 |\n",
    "| DELETE | 특정 자원을 삭제. |\n",
    "| TRACE | 전송한 자원과 최종 목적지 서버에 도달했을 때의 자원을 비교하기 위해 요청. 서버의 응답을 Body에서 확인 |\n",
    "| OPTION | 웹서버에서 지원하는 메소드의 종류를 확인 요청 |"
   ]
  },
  {
   "cell_type": "markdown",
   "id": "1b4837ad-71f2-4459-9730-4fe62425ff66",
   "metadata": {},
   "source": [
    "* ex) web site에 login 할 때는 기록이 남는 get 방식이 아닌 post 방식을 이용함"
   ]
  },
  {
   "cell_type": "markdown",
   "id": "98e6dcbd-72ce-4bd7-bf01-da74d07f9792",
   "metadata": {},
   "source": [
    "                             SERVER"
   ]
  },
  {
   "cell_type": "markdown",
   "id": "04535fea-26a8-4c5e-911a-cb16db799466",
   "metadata": {
    "tags": []
   },
   "source": [
    "                        ↑               ↓"
   ]
  },
  {
   "cell_type": "markdown",
   "id": "7adbd943-cc43-47f3-b0b2-4f6ace297f40",
   "metadata": {},
   "source": [
    "                        ↑               ↓"
   ]
  },
  {
   "cell_type": "markdown",
   "id": "379d8063-b08d-488c-b834-4b22afbf8a5c",
   "metadata": {},
   "source": [
    "                REQUEST ↑               ↓ RESPONSE"
   ]
  },
  {
   "cell_type": "markdown",
   "id": "2de3969c-7b9d-429b-968f-4b6921748727",
   "metadata": {},
   "source": [
    "                        ↑               ↓"
   ]
  },
  {
   "cell_type": "markdown",
   "id": "c6ac5b52-535e-4df4-9c90-bc843846bf94",
   "metadata": {},
   "source": [
    "                             CLIENT"
   ]
  },
  {
   "cell_type": "markdown",
   "id": "5c206178-ec14-46b0-8d94-cd2165f2714b",
   "metadata": {},
   "source": [
    "오픈API 상세\n",
    "\n",
    "\n",
    "-요청변수(Request Parameter) : url 뒤에 query string 으로 작성해 넘겨야 하는 값\n",
    "\n",
    "-출력결과(Response Element) : 요청변수를 작성해 넘기면 출력될 값\n"
   ]
  },
  {
   "cell_type": "code",
   "execution_count": null,
   "id": "09d6ffb1-b85b-46b9-b273-275058f7f256",
   "metadata": {},
   "outputs": [],
   "source": []
  }
 ],
 "metadata": {
  "kernelspec": {
   "display_name": "Python 3 (ipykernel)",
   "language": "python",
   "name": "python3"
  },
  "language_info": {
   "codemirror_mode": {
    "name": "ipython",
    "version": 3
   },
   "file_extension": ".py",
   "mimetype": "text/x-python",
   "name": "python",
   "nbconvert_exporter": "python",
   "pygments_lexer": "ipython3",
   "version": "3.9.7"
  }
 },
 "nbformat": 4,
 "nbformat_minor": 5
}
